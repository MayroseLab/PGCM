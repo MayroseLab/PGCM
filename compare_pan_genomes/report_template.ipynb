{
 "cells": [
  {
   "cell_type": "markdown",
   "metadata": {},
   "source": [
    "# Pan-genomes comparison report"
   ]
  },
  {
   "cell_type": "code",
   "execution_count": null,
   "metadata": {},
   "outputs": [],
   "source": [
    "import re\n",
    "import numpy as np\n",
    "import pandas as pd\n",
    "import matplotlib.pyplot as plt\n",
    "from matplotlib_venn import venn2, venn3\n",
    "import plotly.graph_objects as go\n",
    "import plotly.express as px\n",
    "import plotly.figure_factory as ff"
   ]
  },
  {
   "cell_type": "code",
   "execution_count": null,
   "metadata": {},
   "outputs": [],
   "source": [
    "# inputs\n",
    "# PG names\n",
    "pg1_name = \"<PG1_NAME>\"\n",
    "pg2_name = \"<PG2_NAME>\"\n",
    "# PAV\n",
    "pg1_pav = \"<PG1_PAV>\"\n",
    "pg2_pav = \"<PG2_PAV>\"\n",
    "true_pg_pav = \"<TRUE_PAV>\"\n",
    "# Non-ref matches TSV\n",
    "pg1_vs_pg2_matches = \"<PG1_VS_PG2_NON_REF_MATCHES>\"\n",
    "pg1_vs_true_matches = \"<PG1_VS_TRUE_NON_REF_MATCHES>\"\n",
    "pg2_vs_true_matches = \"<PG2_VS_TRUE_NON_REF_MATCHES>\""
   ]
  },
  {
   "cell_type": "code",
   "execution_count": null,
   "metadata": {},
   "outputs": [],
   "source": [
    "# read in PAV and matches tables\n",
    "pg1_pav_df = pd.read_csv(pg1_pav, sep='\\t', index_col = 0)\n",
    "pg2_pav_df = pd.read_csv(pg2_pav, sep='\\t', index_col = 0)\n",
    "# assuming same sample names, adjust order\n",
    "pg2_pav_df = pg2_pav_df[list(pg1_pav_df.columns)]\n",
    "pg1_vs_pg2_matches_df = pd.read_csv(pg1_vs_pg2_matches, sep='\\t')"
   ]
  },
  {
   "cell_type": "code",
   "execution_count": null,
   "metadata": {},
   "outputs": [],
   "source": [
    "# number of samples in PGs\n",
    "n_samples = pg1_pav_df.shape[1]"
   ]
  },
  {
   "cell_type": "code",
   "execution_count": null,
   "metadata": {},
   "outputs": [],
   "source": [
    "# convert PG1 and PG2 to common naming, according to true PG\n",
    "def match_name(row, matches_df, pg_name, other_pg_name, rename):\n",
    "    if row.name.startswith('PanGene'):\n",
    "        if row.name in matches_df[pg_name].values:\n",
    "            if rename:\n",
    "                return matches_df.loc[matches_df[pg_name] == row.name][other_pg_name].iloc[0]\n",
    "            else:\n",
    "                return row.name\n",
    "        else:\n",
    "            return row.name + '__' + pg_name + \"_unmatched\"\n",
    "    else:\n",
    "        return re.sub(r'[^0-9a-zA-Z\\-\\._]+','_',row.name)"
   ]
  },
  {
   "cell_type": "code",
   "execution_count": null,
   "metadata": {},
   "outputs": [],
   "source": [
    "# create rename series\n",
    "pg1_rename = pg1_pav_df.apply(match_name, args=(pg1_vs_pg2_matches_df, pg1_name, pg2_name, False), axis=1)\n",
    "pg2_rename = pg2_pav_df.apply(match_name, args=(pg1_vs_pg2_matches_df, pg2_name, pg1_name, True), axis=1)"
   ]
  },
  {
   "cell_type": "code",
   "execution_count": null,
   "metadata": {},
   "outputs": [],
   "source": [
    "# rename\n",
    "pg1_pav_df.index = pg1_pav_df.index.map(pg1_rename)\n",
    "pg2_pav_df.index = pg2_pav_df.index.map(pg2_rename)"
   ]
  },
  {
   "cell_type": "code",
   "execution_count": null,
   "metadata": {},
   "outputs": [],
   "source": [
    "# calculate pan-gene occupancies\n",
    "pg1_occupancy = pg1_pav_df.sum(axis=1)\n",
    "pg1_occupancy = pg1_occupancy.loc[pg1_occupancy > 0]\n",
    "pg2_occupancy = pg2_pav_df.sum(axis=1)\n",
    "pg2_occupancy = pg2_occupancy.loc[pg2_occupancy > 0]"
   ]
  },
  {
   "cell_type": "markdown",
   "metadata": {},
   "source": [
    "## Basic stats"
   ]
  },
  {
   "cell_type": "code",
   "execution_count": null,
   "metadata": {},
   "outputs": [],
   "source": [
    "def stats_from_pav_df(df):\n",
    "    total_pangenes = df.shape[0]\n",
    "    non_ref_pangenes = df.loc[df.index.str.startswith('PanGene')].shape[0]\n",
    "    ref_pangenes = total_pangenes - non_ref_pangenes\n",
    "    non_ref_unmatched = df.loc[(df.index.str.startswith('PanGene')) & (df.index.str.endswith('_unmatched'))].shape[0]\n",
    "    non_ref_matched = non_ref_pangenes - non_ref_unmatched\n",
    "    n_samples = df.shape[1]\n",
    "    occup = df.sum(axis=1)\n",
    "    core = (occup == n_samples).sum()\n",
    "    shell = (occup.between(1,n_samples,inclusive=False)).sum()\n",
    "    singletons = (occup == 1).sum()\n",
    "    index = ['Total pan-genes', 'Reference pan-genes', 'Non-reference pan-genes',\n",
    "             'Matched non-reference pan-genes', 'Unmatched non-reference pan-genes',\n",
    "            'Core pan-genes', 'Shell pan-genes', 'Singletons']\n",
    "    values =  [total_pangenes, ref_pangenes, non_ref_pangenes, non_ref_matched, non_ref_unmatched, core, shell, singletons]\n",
    "    return pd.Series(values, index = index)"
   ]
  },
  {
   "cell_type": "code",
   "execution_count": null,
   "metadata": {},
   "outputs": [],
   "source": [
    "pg1_stats = stats_from_pav_df(pg1_pav_df)\n",
    "pg2_stats = stats_from_pav_df(pg2_pav_df)\n",
    "stats_df = pd.concat([pg1_stats,pg2_stats], axis=1)\n",
    "stats_df.columns = [pg1_name, pg2_name]\n",
    "stats_df"
   ]
  },
  {
   "cell_type": "code",
   "execution_count": null,
   "metadata": {},
   "outputs": [],
   "source": [
    "# plot overlap of non-ref genes\n",
    "pg1_nonref_genes = set(pg1_pav_df.loc[pg1_pav_df.index.str.startswith('PanGene')].index)\n",
    "pg2_nonref_genes = set(pg2_pav_df.loc[pg2_pav_df.index.str.startswith('PanGene')].index)\n",
    "venn2([pg1_nonref_genes, pg2_nonref_genes], set_labels=[pg1_name,pg2_name])\n",
    "plt.title('Overlap of non-reference genes')\n",
    "plt.show()"
   ]
  },
  {
   "cell_type": "code",
   "execution_count": null,
   "metadata": {},
   "outputs": [],
   "source": [
    "# plot occupancy distributions\n",
    "pg1_occup_counts = pg1_occupancy.value_counts().sort_index()\n",
    "pg2_occup_counts = pg2_occupancy.value_counts().sort_index()\n",
    "x = pg1_occup_counts.index\n",
    "fig = go.Figure(data=[\n",
    "    go.Bar(name=pg1_name, x=x, y=pg1_occup_counts),\n",
    "    go.Bar(name=pg2_name, x=x, y=pg2_occup_counts)]\n",
    "               )\n",
    "# Change the bar mode\n",
    "fig.update_layout(barmode='group', title='Occupancy histogram', xaxis_title=\"Occupancy\", yaxis_title=\"# of pan-genes\")\n",
    "fig.show()"
   ]
  },
  {
   "cell_type": "code",
   "execution_count": null,
   "metadata": {},
   "outputs": [],
   "source": [
    "# plot number of genes per accession\n",
    "pg1_genes_per_acc = pg1_pav_df.sum()\n",
    "pg2_genes_per_acc = pg2_pav_df.sum()\n",
    "x = pg1_genes_per_acc.index\n",
    "fig = go.Figure(data=[\n",
    "    go.Bar(name=pg1_name, x=x, y=pg1_genes_per_acc),\n",
    "    go.Bar(name=pg2_name, x=x, y=pg2_genes_per_acc),\n",
    "    ])\n",
    "# Change the bar mode\n",
    "fig.update_layout(barmode='group', title='Pan-genes per accession', xaxis_title=\"Accession\", yaxis_title=\"# of pan-genes\")\n",
    "fig.show()"
   ]
  },
  {
   "cell_type": "markdown",
   "metadata": {},
   "source": [
    "## Discrepancies between pan-genomes"
   ]
  },
  {
   "cell_type": "code",
   "execution_count": null,
   "metadata": {},
   "outputs": [],
   "source": [
    "# Add unmatched pan-genes from each PG to the other PG (as absent in all samples)\n",
    "# this ensures both PGs have the same set of genes\n",
    "pg1_unmatched_df = pg1_pav_df.loc[~pg1_pav_df.index.isin(pg2_pav_df.index)]\n",
    "for col in pg1_unmatched_df.columns:\n",
    "    pg1_unmatched_df[col].values[:] = 0\n",
    "pg2_unmatched_df = pg2_pav_df.loc[~pg2_pav_df.index.isin(pg1_pav_df.index)]\n",
    "for col in pg2_unmatched_df.columns:\n",
    "    pg2_unmatched_df[col].values[:] = 0"
   ]
  },
  {
   "cell_type": "code",
   "execution_count": null,
   "metadata": {},
   "outputs": [],
   "source": [
    "pg1_pav_df_plus_pg2_unmatched = pg1_pav_df.append(pg2_unmatched_df)\n",
    "pg2_pav_df_plus_pg1_unmatched = pg2_pav_df.append(pg1_unmatched_df)"
   ]
  },
  {
   "cell_type": "code",
   "execution_count": null,
   "metadata": {},
   "outputs": [],
   "source": [
    "# sort columns and gene nmaes in both DFs, so the order is identical\n",
    "accessions = list(pg1_pav_df_plus_pg2_unmatched.columns.sort_values())\n",
    "pg1_pav_df_plus_pg2_unmatched = pg1_pav_df_plus_pg2_unmatched[accessions].sort_index()\n",
    "pg2_pav_df_plus_pg1_unmatched = pg2_pav_df_plus_pg1_unmatched[accessions].sort_index()"
   ]
  },
  {
   "cell_type": "code",
   "execution_count": null,
   "metadata": {},
   "outputs": [],
   "source": [
    "# find discrepancies\n",
    "pav_diff = (pg1_pav_df_plus_pg2_unmatched - pg2_pav_df_plus_pg1_unmatched)"
   ]
  },
  {
   "cell_type": "code",
   "execution_count": null,
   "metadata": {},
   "outputs": [],
   "source": [
    "pg1_raname_df = pd.DataFrame(pg1_rename).reset_index()\n",
    "pg1_raname_df.columns = [pg1_name + '_orig_name', 'new_name']\n",
    "pg2_raname_df = pd.DataFrame(pg2_rename).reset_index()\n",
    "pg2_raname_df.columns = [pg2_name + '_orig_name', 'new_name']"
   ]
  },
  {
   "cell_type": "code",
   "execution_count": null,
   "metadata": {},
   "outputs": [],
   "source": [
    "# create discrepancies table\n",
    "discrep_df = pav_diff.reset_index().melt(id_vars='gene', value_vars=pav_diff.columns)\n",
    "discrep_df.columns = ['gene','sample','type']\n",
    "discrep_df = discrep_df.loc[discrep_df['type'] != 0]\n",
    "# add original gene names \n",
    "discrep_df = discrep_df.merge(pg1_raname_df, how='left', left_on='gene', right_on='new_name')\n",
    "discrep_df =discrep_df.merge(pg2_raname_df, how='left', left_on='gene', right_on='new_name')\n",
    "discrep_df = discrep_df[['gene', pg1_name + '_orig_name', pg2_name + '_orig_name', 'sample', 'type']]\n",
    "# print to file\n",
    "discrep_df.to_csv('discrepancies.tsv', sep='\\t', index=False)"
   ]
  },
  {
   "cell_type": "code",
   "execution_count": null,
   "metadata": {},
   "outputs": [],
   "source": [
    "# calculate stats (separate by ref vs. non-ref)\n",
    "total_cells = pav_diff.count().sum()\n",
    "total_discrep = (pav_diff != 0).astype(int).sum(axis=1).sum()\n",
    "in_pg1_not_in_pg2 = (pav_diff == 1).astype(int).sum(axis=1).sum()\n",
    "in_pg2_not_in_pg1 = (pav_diff == -1).astype(int).sum(axis=1).sum() \n",
    "pav_diff_ref = pav_diff.loc[~(pav_diff.index.str.startswith('PanGene'))]\n",
    "pav_diff_nonref = pav_diff.loc[pav_diff.index.str.startswith('PanGene')]\n",
    "total_ref_cells = pav_diff_ref.count().sum()\n",
    "total_nonref_cells = pav_diff_nonref.count().sum()\n",
    "ref_discrep = (pav_diff_ref != 0).astype(int).sum(axis=1).sum()\n",
    "ref_in_pg1_not_in_pg2 = (pav_diff_ref == 1).astype(int).sum(axis=1).sum()\n",
    "ref_in_pg2_not_in_pg1 = (pav_diff_ref == -1).astype(int).sum(axis=1).sum()\n",
    "nonref_discrep = (pav_diff_nonref != 0).astype(int).sum(axis=1).sum()\n",
    "nonref_in_pg1_not_in_pg2 = (pav_diff_nonref == 1).astype(int).sum(axis=1).sum()\n",
    "nonref_in_pg2_not_in_pg1 = (pav_diff_nonref == -1).astype(int).sum(axis=1).sum()"
   ]
  },
  {
   "cell_type": "code",
   "execution_count": null,
   "metadata": {},
   "outputs": [],
   "source": [
    "# create discrepancies stats table\n",
    "ind = ['All', 'Ref', 'Non-ref']\n",
    "cells = [total_cells, total_ref_cells, total_nonref_cells]\n",
    "discrep = [total_discrep, ref_discrep, nonref_discrep]\n",
    "pres_in_pg1_abs_in_pg2 = [in_pg1_not_in_pg2, ref_in_pg1_not_in_pg2, nonref_in_pg1_not_in_pg2]\n",
    "pres_in_pg2_abs_in_pg1 = [in_pg2_not_in_pg1, ref_in_pg2_not_in_pg1, nonref_in_pg2_not_in_pg1]\n",
    "discrep_stats_df = pd.DataFrame({'Cells': cells,\n",
    "                                 \"Total discrepancies\": discrep,\n",
    "                                 \"P in %s and A in %s\" %(pg1_name,pg2_name) : pres_in_pg1_abs_in_pg2,\n",
    "                                \"P in %s and A in %s\" %(pg2_name,pg1_name) : pres_in_pg2_abs_in_pg1},\n",
    "                               index = ind)\n",
    "discrep_stats_df"
   ]
  },
  {
   "cell_type": "code",
   "execution_count": null,
   "metadata": {},
   "outputs": [],
   "source": [
    "# discrepancies per gene\n",
    "discrep_per_gene = pav_diff.apply(lambda row: abs(row).sum(), axis=1)"
   ]
  },
  {
   "cell_type": "code",
   "execution_count": null,
   "metadata": {},
   "outputs": [],
   "source": [
    "fig = px.histogram(discrep_per_gene, title=\"Histogram of discrepancies per pan-gene\",\n",
    "                  labels={'value': '# of discrepancies'})\n",
    "fig.show()"
   ]
  },
  {
   "cell_type": "code",
   "execution_count": null,
   "metadata": {
    "scrolled": false
   },
   "outputs": [],
   "source": [
    "# discrepancies per gene - non-ref only\n",
    "discrep_per_nonref_gene = pav_diff_nonref.apply(lambda row: abs(row).sum(), axis=1)\n",
    "fig = px.histogram(discrep_per_nonref_gene, title=\"Histogram of discrepancies per non-ref pan-gene\",\n",
    "                  labels={'value': '# of discrepancies'})\n",
    "fig.show()"
   ]
  },
  {
   "cell_type": "code",
   "execution_count": null,
   "metadata": {},
   "outputs": [],
   "source": [
    "# occupancy diff\n",
    "pg1_pav_df_plus_pg2_unmatched['occupancy'] = pg1_pav_df_plus_pg2_unmatched.sum(axis=1)\n",
    "pg2_pav_df_plus_pg1_unmatched['occupancy'] = pg2_pav_df_plus_pg1_unmatched.sum(axis=1)\n",
    "occup_diff = pg1_pav_df_plus_pg2_unmatched['occupancy'] - pg2_pav_df_plus_pg1_unmatched['occupancy']\n",
    "fig = px.histogram(occup_diff, title=\"Histogram of occupancy differences\",\n",
    "                  labels={'value': 'Occupancy difference'})\n",
    "fig.show()"
   ]
  },
  {
   "cell_type": "code",
   "execution_count": null,
   "metadata": {},
   "outputs": [],
   "source": [
    "# occupancy diff - non-ref only\n",
    "occup_diff_nonref = pg1_pav_df_plus_pg2_unmatched.loc[pav_diff.index.str.startswith('PanGene')]['occupancy'] - pg2_pav_df_plus_pg1_unmatched.loc[pav_diff.index.str.startswith('PanGene')]['occupancy']\n",
    "fig = px.histogram(occup_diff_nonref, title=\"Histogram of occupancy differences of non-reference pan-genes\",\n",
    "                  labels={'value': 'Occupancy difference'})\n",
    "fig.show()"
   ]
  },
  {
   "cell_type": "code",
   "execution_count": null,
   "metadata": {},
   "outputs": [],
   "source": [
    "# occupancy in PG1 vs. occupancy in PG2\n",
    "tmp_df = pd.concat([pg1_pav_df_plus_pg2_unmatched['occupancy'], pg2_pav_df_plus_pg1_unmatched['occupancy']], axis=1)\n",
    "tmp_df['pan-gene'] = tmp_df.index\n",
    "tmp_df.columns = [pg1_name + ' occupancy', pg2_name + ' occupancy','pan-gene']\n",
    "tmp_df = tmp_df.groupby([pg1_name + ' occupancy', pg2_name + ' occupancy']).count().unstack(level=0).fillna(0)\n",
    "tmp_df.columns = tmp_df.columns.droplevel(0)\n",
    "tmp_df = tmp_df.transpose()\n",
    "tmp_df.loc[:,0:n_samples] = tmp_df.loc[:,0:n_samples].div(tmp_df.sum(axis=1), axis=0)*100\n",
    "fig = px.imshow(tmp_df)\n",
    "fig.show()"
   ]
  },
  {
   "cell_type": "code",
   "execution_count": null,
   "metadata": {},
   "outputs": [],
   "source": [
    "# occupancy vs. discrepancies\n",
    "# use occupancies of true PG\n",
    "tmp_df = pd.concat([pg1_occupancy, discrep_per_gene], axis=1, join='inner')\n",
    "tmp_df['pan-gene'] = tmp_df.index\n",
    "tmp_df.columns = ['occupancy','discrepancies','pan-gene']\n",
    "tmp_df = tmp_df.groupby(['occupancy', 'discrepancies']).count().unstack(level=0).fillna(0)\n",
    "tmp_df.columns = tmp_df.columns.droplevel(0)\n",
    "tmp_df = tmp_df.transpose()\n",
    "tmp_df.loc[:,0:n_samples] = tmp_df.loc[:,0:n_samples].div(tmp_df.sum(axis=1), axis=0)*100\n",
    "fig = px.imshow(tmp_df)\n",
    "fig.show()"
   ]
  }
 ],
 "metadata": {
  "kernelspec": {
   "display_name": "Python 3",
   "language": "python",
   "name": "python3"
  },
  "language_info": {
   "codemirror_mode": {
    "name": "ipython",
    "version": 3
   },
   "file_extension": ".py",
   "mimetype": "text/x-python",
   "name": "python",
   "nbconvert_exporter": "python",
   "pygments_lexer": "ipython3",
   "version": "3.8.10"
  }
 },
 "nbformat": 4,
 "nbformat_minor": 2
}
