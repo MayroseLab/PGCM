{
 "cells": [
  {
   "cell_type": "markdown",
   "id": "dominant-milton",
   "metadata": {},
   "source": [
    "# The effect of pan-genome construction approach\n",
    "This notebook contains the analysis of the effect of construction approach on pan-genome results.  \n",
    "The analysis mainly consists of comparing two cultivated soybean pan-genomes, constructed with either the de novo (DN), the map-to-pan (MTP), or the iterative assembly (IA) approach, based on the same 50x sequencing data and annotation evidence."
   ]
  },
  {
   "cell_type": "code",
   "execution_count": null,
   "id": "center-serum",
   "metadata": {},
   "outputs": [],
   "source": [
    "import os\n",
    "import pandas as pd\n",
    "import plotly.graph_objects as go\n",
    "import plotly.express as px\n",
    "from plotly.subplots import make_subplots\n",
    "import plotly.io as pio\n",
    "from Bio import SeqIO\n",
    "from itertools import chain"
   ]
  },
  {
   "cell_type": "code",
   "execution_count": null,
   "id": "735b022e-270a-4eec-9ecf-f374a7896bd5",
   "metadata": {},
   "outputs": [],
   "source": [
    "pio.templates.default = \"plotly_white\"\n",
    "colors = ['grey','purple','darkgreen','lightblue','orange']\n",
    "pd.set_option(\"display.max_columns\", None)"
   ]
  },
  {
   "cell_type": "markdown",
   "id": "intellectual-satellite",
   "metadata": {},
   "source": [
    "## Paths"
   ]
  },
  {
   "cell_type": "code",
   "execution_count": null,
   "id": "cosmetic-desert",
   "metadata": {},
   "outputs": [],
   "source": [
    "base_dir = \"/groups/itay_mayrose_nosnap/liorglic/Projects/PGCM/output/soybean_pan_genome\"\n",
    "dn_pg = os.path.join(base_dir, \"de_novo/x50/RESULT_minia\")\n",
    "mtp_pg = os.path.join(base_dir, \"map_to_pan/x50/RESULT_minia\")\n",
    "ia_pg = os.path.join(base_dir, \"iterative_mapping/x50/RESULT\")\n",
    "compare_dir = os.path.join(base_dir, \"compare_pan_genomes/DN_x50_vs_MTP_x50/RESULT_minia\")"
   ]
  },
  {
   "cell_type": "code",
   "execution_count": null,
   "id": "specific-northwest",
   "metadata": {},
   "outputs": [],
   "source": [
    "dn_pav_tsv = os.path.join(dn_pg, \"all_samples/pan_genome/pan_PAV.tsv\")\n",
    "mtp_pav_tsv = os.path.join(mtp_pg, \"all_samples/pan_genome/pan_PAV.tsv\")\n",
    "ia_pav_tsv = os.path.join(ia_pg, \"all_samples/pan_genome/pan_PAV.tsv\")"
   ]
  },
  {
   "cell_type": "code",
   "execution_count": null,
   "id": "e88fcbe1-0f57-493c-8c36-4acc74e78b95",
   "metadata": {},
   "outputs": [],
   "source": [
    "figs_path = \"/groups/itay_mayrose_nosnap/liorglic/Projects/PGCM/figs/FINAL\""
   ]
  },
  {
   "cell_type": "markdown",
   "id": "silent-silence",
   "metadata": {},
   "source": [
    "## Basic stats comparison\n",
    "Extract and compare general stats of the two pan-genomes"
   ]
  },
  {
   "cell_type": "code",
   "execution_count": null,
   "id": "preceding-illness",
   "metadata": {},
   "outputs": [],
   "source": [
    "# Read PAV TSVs as pandas data frames\n",
    "dn_pg_pav_df = pd.read_csv(dn_pav_tsv, sep='\\t', index_col=0)\n",
    "dn_pg_pav_df.columns = [col.split('_')[0] for col in dn_pg_pav_df.columns]\n",
    "mtp_pg_pav_df = pd.read_csv(mtp_pav_tsv, sep='\\t', index_col=0)\n",
    "mtp_pg_pav_df.columns = [col.split('_')[0] for col in mtp_pg_pav_df.columns]\n",
    "ia_pg_pav_df = pd.read_csv(ia_pav_tsv, sep='\\t', index_col=0)\n",
    "ia_pg_pav_df.columns = [col.split('_')[0] for col in ia_pg_pav_df.columns]"
   ]
  },
  {
   "cell_type": "code",
   "execution_count": null,
   "id": "1ded0a21-74a2-48eb-9f55-68b7f9684c3d",
   "metadata": {},
   "outputs": [],
   "source": [
    "# Rename TAIR10 to col-0\n",
    "dn_pg_pav_df.columns = [col if col != 'TAIR10' else 'Col-0' for col in dn_pg_pav_df.columns]\n",
    "mtp_pg_pav_df.columns = [col if col != 'TAIR10' else 'Col-0' for col in mtp_pg_pav_df.columns]\n",
    "ia_pg_pav_df.columns = [col if col != 'TAIR10' else 'Col-0' for col in ia_pg_pav_df.columns]"
   ]
  },
  {
   "cell_type": "code",
   "execution_count": null,
   "id": "welcome-yugoslavia",
   "metadata": {},
   "outputs": [],
   "source": [
    "# Calculate stats\n",
    "def stats_from_pav_df(df):\n",
    "    total_pangenes = df.shape[0]\n",
    "    non_ref_pangenes = df.loc[df.index.str.startswith('PanGene')].shape[0]\n",
    "    ref_pangenes = total_pangenes - non_ref_pangenes\n",
    "    n_samples = df.shape[1]\n",
    "    occup = df.sum(axis=1)\n",
    "    core = (occup == n_samples).sum()\n",
    "    shell = (occup.between(1,n_samples,inclusive='neither')).sum()\n",
    "    singletons = (occup == 1).sum()\n",
    "    index = ['Total pan-genes', 'Reference pan-genes', 'Non-reference pan-genes',\n",
    "             'Core pan-genes', 'Shell pan-genes', 'Singletons']\n",
    "    values =  [total_pangenes, ref_pangenes, non_ref_pangenes, core, shell, singletons]\n",
    "    return pd.Series(values, index = index)\n",
    "\n",
    "dn_pg_stats = stats_from_pav_df(dn_pg_pav_df)\n",
    "mtp_pg_stats = stats_from_pav_df(mtp_pg_pav_df)\n",
    "ia_pg_stats = stats_from_pav_df(ia_pg_pav_df)"
   ]
  },
  {
   "cell_type": "code",
   "execution_count": null,
   "id": "numerous-sydney",
   "metadata": {},
   "outputs": [],
   "source": [
    "# Display stats\n",
    "stats_df = pd.concat([dn_pg_stats, mtp_pg_stats, ia_pg_stats], axis=1)\n",
    "stats_df.columns = ['De novo', 'Map-to-pan', 'Iterative assembly']\n",
    "stats_df"
   ]
  },
  {
   "cell_type": "code",
   "execution_count": null,
   "id": "permanent-worship",
   "metadata": {},
   "outputs": [],
   "source": [
    "ref_nonref = stats_df.loc[['Reference pan-genes','Non-reference pan-genes']].transpose()\n",
    "pg_composition = stats_df.loc[['Core pan-genes','Shell pan-genes','Singletons']].transpose()"
   ]
  },
  {
   "cell_type": "code",
   "execution_count": null,
   "id": "c08af16f-e6e3-4700-88b7-3bf9433b39db",
   "metadata": {},
   "outputs": [],
   "source": [
    "fig = make_subplots(rows=1, cols=2, shared_yaxes=True)\n",
    "\n",
    "fig_a_t1 = go.Bar(x=ref_nonref.index, y=ref_nonref['Reference pan-genes'], name='Reference', legendrank=5)\n",
    "fig_a_t2 = go.Bar(x=ref_nonref.index, y=ref_nonref['Non-reference pan-genes'], name='Nonreference', legendrank=4)\n",
    "fig.add_trace(fig_a_t1, row=1, col=1)\n",
    "fig.add_trace(fig_a_t2, row=1, col=1)\n",
    "\n",
    "fig_b_t1 = go.Bar(x=pg_composition.index, y=pg_composition['Core pan-genes'], name='Core', legendrank=3)\n",
    "fig_b_t2 = go.Bar(x=pg_composition.index, y=pg_composition['Shell pan-genes'], name='Shell', legendrank=2)\n",
    "fig_b_t3 = go.Bar(x=pg_composition.index, y=pg_composition['Singletons'], name='Singletons', legendrank=1)\n",
    "fig.add_trace(fig_b_t1, row=1, col=2)\n",
    "fig.add_trace(fig_b_t2, row=1, col=2)\n",
    "fig.add_trace(fig_b_t3, row=1, col=2)\n",
    "\n",
    "fig.update_layout(barmode='stack', colorway=colors, yaxis_title=\"Number of pan-genes\")\n",
    "fig.update_xaxes(mirror=True, showline=True, linecolor='black')\n",
    "fig.update_yaxes(mirror=True, showline=True, linecolor='black', showgrid=False)\n",
    "fig.show()"
   ]
  },
  {
   "cell_type": "code",
   "execution_count": null,
   "id": "c690889b-9d83-493c-a781-ea7bb8379235",
   "metadata": {},
   "outputs": [],
   "source": [
    "fig2s_a = os.path.join(figs_path, 'figS2a.pdf')\n",
    "fig.write_image(fig2s_a)"
   ]
  },
  {
   "cell_type": "markdown",
   "id": "366ee861-bc9b-4e6d-8b98-35657f307ff9",
   "metadata": {},
   "source": [
    "## Per sample reference/nonreference"
   ]
  },
  {
   "cell_type": "code",
   "execution_count": null,
   "id": "8e5ec445-076a-4855-b696-317445ba6ec8",
   "metadata": {},
   "outputs": [],
   "source": [
    "# Create table\n",
    "dn_ref_nonref = dn_pg_pav_df.apply(lambda row: 'Reference' if not row.name.startswith('PanGene') else 'Nonreference', axis=1)\n",
    "mtp_ref_nonref = mtp_pg_pav_df.apply(lambda row: 'Reference' if not row.name.startswith('PanGene') else 'Nonreference', axis=1)\n",
    "ia_ref_nonref = ia_pg_pav_df.apply(lambda row: 'Reference' if not row.name.startswith('PanGene') else 'Nonreference', axis=1)"
   ]
  },
  {
   "cell_type": "code",
   "execution_count": null,
   "id": "f8c39852-531e-42c6-b684-dd3f2754f182",
   "metadata": {},
   "outputs": [],
   "source": [
    "def ref_nonref_per_sample(df, vec):\n",
    "    per_sample = []\n",
    "    for sample in df.columns:\n",
    "        sample_pav = df[sample]\n",
    "        sample_present = sample_pav.loc[sample_pav == 1]\n",
    "        counts = pd.concat([sample_present, vec], axis=1, join='inner')[0].value_counts()\n",
    "        counts.name = sample\n",
    "        per_sample.append(counts)\n",
    "    return pd.concat(per_sample, axis=1)"
   ]
  },
  {
   "cell_type": "code",
   "execution_count": null,
   "id": "4be7d2a4-8c47-4587-8f53-7c08eeefffec",
   "metadata": {},
   "outputs": [],
   "source": [
    "dn_ref_nonref_per_sample = ref_nonref_per_sample(dn_pg_pav_df, dn_ref_nonref).fillna(0)\n",
    "mtp_ref_nonref_per_sample = ref_nonref_per_sample(mtp_pg_pav_df, mtp_ref_nonref).fillna(0)\n",
    "ia_ref_nonref_per_sample = ref_nonref_per_sample(ia_pg_pav_df, ia_ref_nonref).fillna(0)\n",
    "# Order columns alphabetically\n",
    "dn_ref_nonref_per_sample = dn_ref_nonref_per_sample[dn_ref_nonref_per_sample.columns.sort_values()]\n",
    "mtp_ref_nonref_per_sample = mtp_ref_nonref_per_sample[mtp_ref_nonref_per_sample.columns.sort_values()]\n",
    "ia_ref_nonref_per_sample = ia_ref_nonref_per_sample[ia_ref_nonref_per_sample.columns.sort_values()]\n",
    "# Add _MTP and _IA suffices to columns names\n",
    "mtp_ref_nonref_per_sample.columns = [col + '_1MTP' for col in mtp_ref_nonref_per_sample.columns]\n",
    "ia_ref_nonref_per_sample.columns = [col + '_IA' for col in ia_ref_nonref_per_sample.columns]\n",
    "\n",
    "ref_nonref_per_sample_df = pd.concat([dn_ref_nonref_per_sample,mtp_ref_nonref_per_sample,ia_ref_nonref_per_sample], axis=1)\n",
    "ref_nonref_per_sample_df = ref_nonref_per_sample_df[ref_nonref_per_sample_df.columns.sort_values()]\n",
    "ref_nonref_per_sample_df.columns = [col.split('_')[0] for col in ref_nonref_per_sample_df.columns]\n",
    "ref_nonref_per_sample_df.columns = pd.MultiIndex.from_product([dn_ref_nonref_per_sample.columns,['De novo','Map-to-pan','Iterative assembly']])\n",
    "# Make Col-0 the last column\n",
    "ref_nonref_per_sample_df = ref_nonref_per_sample_df[pd.MultiIndex.from_tuples([x for x in ref_nonref_per_sample_df.columns if x[0] != 'Col-0'] + [x for x in ref_nonref_per_sample_df.columns if x[0] == 'Col-0'])]\n",
    "ref_nonref_per_sample_df"
   ]
  },
  {
   "cell_type": "code",
   "execution_count": null,
   "id": "9cd29e78-dc12-47e9-aeb4-5ad461c11a3b",
   "metadata": {},
   "outputs": [],
   "source": [
    "# Plot\n",
    "dn_ref_nonref_per_sample_t = dn_ref_nonref_per_sample.transpose()\n",
    "samples_order = [s for s in dn_ref_nonref_per_sample_t.index if s != 'Wm82'] + ['Wm82']\n",
    "dn_ref_nonref_per_sample_t = dn_ref_nonref_per_sample_t.reindex(samples_order)\n",
    "\n",
    "mtp_ref_nonref_per_sample_t = mtp_ref_nonref_per_sample.transpose()\n",
    "mtp_ref_nonref_per_sample_t.index = [s.replace('_1MTP','') for s in mtp_ref_nonref_per_sample_t.index]\n",
    "mtp_ref_nonref_per_sample_t = mtp_ref_nonref_per_sample_t.reindex(samples_order)\n",
    "\n",
    "ia_ref_nonref_per_sample_t = ia_ref_nonref_per_sample.transpose()\n",
    "ia_ref_nonref_per_sample_t.index = [s.replace('_IA','') for s in ia_ref_nonref_per_sample_t.index]\n",
    "ia_ref_nonref_per_sample_t = ia_ref_nonref_per_sample_t.reindex(samples_order)"
   ]
  },
  {
   "cell_type": "code",
   "execution_count": null,
   "id": "6ed9ac17-10e6-4340-9e7c-dced2295e554",
   "metadata": {},
   "outputs": [],
   "source": [
    "fig = go.Figure()\n",
    "x = [\n",
    "    list(chain(*[[s]*3 for s in dn_ref_nonref_per_sample_t.index])),\n",
    "    ['DN', 'MTP', 'IA']*len(dn_ref_nonref_per_sample_t.index)\n",
    "]\n",
    "y1 = list(chain(*zip(list(dn_ref_nonref_per_sample_t['Reference']),list(mtp_ref_nonref_per_sample_t['Reference']),list(ia_ref_nonref_per_sample_t['Reference']))))\n",
    "y2 = list(chain(*zip(list(dn_ref_nonref_per_sample_t['Nonreference']),list(mtp_ref_nonref_per_sample_t['Nonreference']),list(ia_ref_nonref_per_sample_t['Nonreference']))))\n",
    "fig.add_bar(name=\"Reference\", x=x, y=y1, legendrank=2)\n",
    "fig.add_bar(name=\"Nonreference\", x=x, y=y2, legendrank=1)\n",
    "fig.update_layout(barmode='stack', colorway=colors, yaxis_title=\"Number of pan-genes\", bargap=0.1)\n",
    "fig.update_xaxes(mirror=True, showline=True, linecolor='black')\n",
    "fig.update_yaxes(mirror=True, showline=True, linecolor='black', showgrid=False)\n",
    "fig.show()"
   ]
  },
  {
   "cell_type": "code",
   "execution_count": null,
   "id": "af154be7-f41f-4369-ac45-7b25991a2277",
   "metadata": {},
   "outputs": [],
   "source": [
    "fig2s_b = os.path.join(figs_path, 'figS2b.pdf')\n",
    "fig.write_image(fig2s_b)"
   ]
  },
  {
   "cell_type": "markdown",
   "id": "d0de91c1-059a-489d-bfc1-1e7a6b822ad8",
   "metadata": {},
   "source": [
    "## Occupancy analysis"
   ]
  },
  {
   "cell_type": "code",
   "execution_count": null,
   "id": "a5d45017-21fc-4366-bfc7-16ee0fc1028d",
   "metadata": {},
   "outputs": [],
   "source": [
    "def occup_to_cat(occup, n_samples):\n",
    "    if occup == 1:\n",
    "        return \"Singleton\"\n",
    "    elif occup < n_samples:\n",
    "        return \"Shell\"\n",
    "    elif occup == n_samples:\n",
    "        return \"Core\"\n",
    "\n",
    "def occup_categories_per_sample(df):\n",
    "    occup = df.sum(axis=1)\n",
    "    n_samples = df.shape[1]\n",
    "    occup_cat = occup.apply(occup_to_cat, args=(n_samples,))\n",
    "    \n",
    "    per_sample = []\n",
    "    for sample in df.columns:\n",
    "        sample_pav = df[sample]\n",
    "        sample_present = sample_pav.loc[sample_pav == 1]\n",
    "        cat_counts = pd.concat([sample_present, occup_cat], axis=1, join='inner')[0].value_counts()\n",
    "        cat_counts.name = sample\n",
    "        per_sample.append(cat_counts)\n",
    "    return pd.concat(per_sample, axis=1)"
   ]
  },
  {
   "cell_type": "code",
   "execution_count": null,
   "id": "6840c3f5-a3a9-4849-819f-fdfd97943258",
   "metadata": {},
   "outputs": [],
   "source": [
    "dn_occup_cat_per_sample = occup_categories_per_sample(dn_pg_pav_df)\n",
    "mtp_occup_cat_per_sample = occup_categories_per_sample(mtp_pg_pav_df)\n",
    "ia_occup_cat_per_sample = occup_categories_per_sample(ia_pg_pav_df)\n",
    "# Order columns alphabetically\n",
    "dn_occup_cat_per_sample = dn_occup_cat_per_sample[dn_occup_cat_per_sample.columns.sort_values()]\n",
    "mtp_occup_cat_per_sample = mtp_occup_cat_per_sample[mtp_occup_cat_per_sample.columns.sort_values()]\n",
    "ia_occup_cat_per_sample = ia_occup_cat_per_sample[ia_occup_cat_per_sample.columns.sort_values()]\n",
    "# Add _MTP suffices to columns names\n",
    "mtp_occup_cat_per_sample.columns = [col + '_1MTP' for col in mtp_occup_cat_per_sample.columns]\n",
    "ia_occup_cat_per_sample.columns = [col + '_IA' for col in ia_occup_cat_per_sample.columns]\n",
    "\n",
    "occup_cat_per_sample_df = pd.concat([dn_occup_cat_per_sample,mtp_occup_cat_per_sample,ia_occup_cat_per_sample], axis=1)\n",
    "occup_cat_per_sample_df = occup_cat_per_sample_df[occup_cat_per_sample_df.columns.sort_values()]\n",
    "occup_cat_per_sample_df.columns = [col.split('_')[0] for col in occup_cat_per_sample_df.columns]\n",
    "occup_cat_per_sample_df.columns = pd.MultiIndex.from_product([dn_occup_cat_per_sample.columns,['De novo','Map-to-pan','Iterative assembly']])\n",
    "# Make Col-0 the last column\n",
    "occup_cat_per_sample_df = occup_cat_per_sample_df[pd.MultiIndex.from_tuples([x for x in occup_cat_per_sample_df.columns if x[0] != 'Col-0'] + [x for x in occup_cat_per_sample_df.columns if x[0] == 'Col-0'])]\n",
    "occup_cat_per_sample_df"
   ]
  },
  {
   "cell_type": "markdown",
   "id": "1a7b03be-cc78-4ff0-9bce-d299fb76cab8",
   "metadata": {},
   "source": [
    "## Nonreference gene pool\n",
    "DN vs. MTP only"
   ]
  },
  {
   "cell_type": "code",
   "execution_count": null,
   "id": "25be15f6-0615-4a1e-b421-73d67b249926",
   "metadata": {},
   "outputs": [],
   "source": [
    "nonref_matched = compare_dir + '/soybean_DN_x50_vs_soybean_MTP_x50_max_weight_matches.tsv'\n",
    "nonref_matched_df = pd.read_csv(nonref_matched, sep='\\t')"
   ]
  },
  {
   "cell_type": "code",
   "execution_count": null,
   "id": "0f1b2845-99e0-4d3c-a457-36c5b87dc042",
   "metadata": {},
   "outputs": [],
   "source": [
    "# how many matched?\n",
    "nonref_matched_df.shape"
   ]
  },
  {
   "cell_type": "markdown",
   "id": "ff768f10-8d80-44b8-9187-b756e50b13ad",
   "metadata": {},
   "source": [
    "## Compare PAV matrices\n",
    "To compare occupancies and detect PA discrepancies between the pan-genomes, we focus on reference and matched nonreference genes. Genes which are considered core in both pan-genomes were removed too."
   ]
  },
  {
   "cell_type": "code",
   "execution_count": null,
   "id": "c8fe3977-66ea-4107-88b6-1d55e71d6572",
   "metadata": {},
   "outputs": [],
   "source": [
    "# remove unmatched genes\n",
    "dn_pg_pav_matched_df = dn_pg_pav_df.loc[(~dn_pg_pav_df.index.str.startswith('PanGene')) | (dn_pg_pav_df.index.isin(nonref_matched_df['soybean_DN_x50']))]\n",
    "mtp_pg_pav_matched_df = mtp_pg_pav_df.loc[(~mtp_pg_pav_df.index.str.startswith('PanGene')) | (mtp_pg_pav_df.index.isin(nonref_matched_df['soybean_MTP_x50']))]\n",
    "# rename MTP matched nonreference to match DN\n",
    "def tmp_func(x):\n",
    "    if x in nonref_matched_df['soybean_MTP_x50'].unique():\n",
    "        return nonref_matched_df.loc[nonref_matched_df['soybean_MTP_x50'] == x]['soybean_DN_x50'].iloc[0]\n",
    "    else:\n",
    "        return x.replace(':','_')\n",
    "mtp_pg_pav_matched_df.index = mtp_pg_pav_matched_df.index.map(tmp_func)\n",
    "# sort rows and columns of PAV tables to get the same order\n",
    "dn_pg_pav_matched_df.sort_index(inplace=True)\n",
    "mtp_pg_pav_matched_df.sort_index(inplace=True)\n",
    "dn_pg_pav_matched_df = dn_pg_pav_matched_df[dn_pg_pav_matched_df.columns.sort_values()]\n",
    "mtp_pg_pav_matched_df = mtp_pg_pav_matched_df[mtp_pg_pav_matched_df.columns.sort_values()]"
   ]
  },
  {
   "cell_type": "code",
   "execution_count": null,
   "id": "effe5927-f8ca-415e-9ce3-c69900e75376",
   "metadata": {},
   "outputs": [],
   "source": [
    "assert all(dn_pg_pav_matched_df.columns == mtp_pg_pav_matched_df.columns) and all(dn_pg_pav_matched_df.index == mtp_pg_pav_matched_df.index)"
   ]
  },
  {
   "cell_type": "code",
   "execution_count": null,
   "id": "38835ac6-0846-4d7d-8439-55848441cc1d",
   "metadata": {},
   "outputs": [],
   "source": [
    "# Calculate occupancies\n",
    "dn_pg_matched_occup = dn_pg_pav_matched_df.sum(axis=1)\n",
    "mtp_pg_matched_occup = mtp_pg_pav_matched_df.sum(axis=1)\n",
    "# Core sets\n",
    "dn_pg_matched_core = set(dn_pg_matched_occup.loc[dn_pg_matched_occup == 8].index)\n",
    "mtp_pg_matched_core = set(mtp_pg_matched_occup.loc[mtp_pg_matched_occup == 8].index)\n",
    "# Core in both DN and MTP\n",
    "both_matched_core = dn_pg_matched_core.intersection(mtp_pg_matched_core)\n",
    "print(\"Number of genes which are core in both DN and MTP: %s\" % len(both_matched_core))\n",
    "print(\"Out of %s matched genes\" % len(dn_pg_matched_occup))"
   ]
  },
  {
   "cell_type": "code",
   "execution_count": null,
   "id": "d7f3cc4e-2af2-4b0b-a9ec-2a8134521ce9",
   "metadata": {},
   "outputs": [],
   "source": [
    "# remove genes which are core in both (keep noncore)\n",
    "dn_pg_pav_matched_noncore_df = dn_pg_pav_matched_df.loc[~ dn_pg_pav_matched_df.index.isin(both_matched_core)]\n",
    "mtp_pg_pav_matched_noncore_df = mtp_pg_pav_matched_df.loc[~ mtp_pg_pav_matched_df.index.isin(both_matched_core)]"
   ]
  },
  {
   "cell_type": "code",
   "execution_count": null,
   "id": "579a1f94-c7cf-4d5b-bb18-1ba30865233b",
   "metadata": {},
   "outputs": [],
   "source": [
    "# Discrepancies table\n",
    "discrep_df = dn_pg_pav_matched_noncore_df - mtp_pg_pav_matched_noncore_df\n",
    "# Remove reference Col-0\n",
    "discrep_df = discrep_df[[acc for acc in discrep_df.columns if acc != 'Wm82']]"
   ]
  },
  {
   "cell_type": "code",
   "execution_count": null,
   "id": "c46c24c7-6952-4b1e-88d3-35fd6c393ff8",
   "metadata": {},
   "outputs": [],
   "source": [
    "# Count discrepancies per gene\n",
    "def count_discrep_types(row):\n",
    "    val_counts = row.value_counts()\n",
    "    for x in [0,-1,1]:\n",
    "        if x not in val_counts:\n",
    "            val_counts[x] = 0\n",
    "    return val_counts.sort_index()\n",
    "\n",
    "discrep_per_gene = discrep_df.apply(count_discrep_types, axis=1, result_type=\"expand\")\n",
    "discrep_per_gene.columns = ['DN-|MTP+', 'match', 'DN+|MTP-']"
   ]
  },
  {
   "cell_type": "code",
   "execution_count": null,
   "id": "c4d20437-d953-4a33-b446-2e7150ce7de3",
   "metadata": {},
   "outputs": [],
   "source": [
    "# How many with at least one discrepancy?\n",
    "discrep_per_gene.query('match != 7').shape[0]"
   ]
  },
  {
   "cell_type": "code",
   "execution_count": null,
   "id": "f3927ae3-fad0-468f-ae35-d570c62f14d5",
   "metadata": {},
   "outputs": [],
   "source": [
    "# Sum across all genes\n",
    "tot_discrep_types = discrep_per_gene.sum()\n",
    "tot_pav_calls = tot_discrep_types.sum()\n",
    "print(\"Total PAV calls: %s\" % tot_pav_calls)\n",
    "tot_discrep_types"
   ]
  }
 ],
 "metadata": {
  "kernelspec": {
   "display_name": "Python 3 (ipykernel)",
   "language": "python",
   "name": "python3"
  },
  "language_info": {
   "codemirror_mode": {
    "name": "ipython",
    "version": 3
   },
   "file_extension": ".py",
   "mimetype": "text/x-python",
   "name": "python",
   "nbconvert_exporter": "python",
   "pygments_lexer": "ipython3",
   "version": "3.8.13"
  }
 },
 "nbformat": 4,
 "nbformat_minor": 5
}
