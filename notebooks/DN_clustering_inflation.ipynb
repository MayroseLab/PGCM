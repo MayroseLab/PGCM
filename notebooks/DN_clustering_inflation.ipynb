{
 "cells": [
  {
   "cell_type": "markdown",
   "id": "7ea8474a-34ce-4fab-9b9e-b3d1683e204c",
   "metadata": {},
   "source": [
    "# De novo orthology clustering inflation parameter\n",
    "This notebook contains an analysis of the effect of the MCL inflation value used by OrthoFinder. We focus on the effect on the overall pan-genome composition."
   ]
  },
  {
   "cell_type": "code",
   "execution_count": null,
   "id": "cf0e7873-7e92-413a-a00f-667a837026cd",
   "metadata": {},
   "outputs": [],
   "source": [
    "import os\n",
    "import numpy as np\n",
    "import pandas as pd\n",
    "import plotly.express as px\n",
    "import plotly.io as pio\n",
    "import plotly.graph_objects as go\n",
    "from plotly.colors import n_colors, named_colorscales, sample_colorscale\n",
    "from scipy.stats import ttest_ind"
   ]
  },
  {
   "cell_type": "code",
   "execution_count": null,
   "id": "1a33c86f-c1ad-4180-981e-6a8631271c96",
   "metadata": {},
   "outputs": [],
   "source": [
    "pio.templates.default = \"plotly_white\"\n",
    "colors = ['grey','purple','darkgreen','lightblue','orange']"
   ]
  },
  {
   "cell_type": "markdown",
   "id": "63761c71-301f-4f97-8176-7f01c77fbdda",
   "metadata": {},
   "source": [
    "## Paths"
   ]
  },
  {
   "cell_type": "code",
   "execution_count": null,
   "id": "60f83930-c708-4f3b-b637-336713f025ec",
   "metadata": {},
   "outputs": [],
   "source": [
    "base_dir = \"/groups/itay_mayrose_nosnap/liorglic/Projects/PGCM/output/A_thaliana_pan_genome/analyze_OF_inflation\""
   ]
  },
  {
   "cell_type": "code",
   "execution_count": null,
   "id": "02d3aaac-f797-43a9-86f7-bf9961cd0d2c",
   "metadata": {},
   "outputs": [],
   "source": [
    "figs_path = \"/groups/itay_mayrose_nosnap/liorglic/Projects/PGCM/figs/FINAL\""
   ]
  },
  {
   "cell_type": "markdown",
   "id": "70b1e30b-ac5b-4231-a436-f7cd5394b256",
   "metadata": {},
   "source": [
    "## Extract stats from PAV matrices"
   ]
  },
  {
   "cell_type": "code",
   "execution_count": null,
   "id": "fdf61cef-d3ba-4b62-9451-f026ee5465ac",
   "metadata": {},
   "outputs": [],
   "source": [
    "def pav_matrix_stats(p):\n",
    "    \"\"\"\n",
    "    Given a path to a gene PAV matrix tsv,\n",
    "    calculates: pan-genome size, % core,\n",
    "    % singletons, overall occupancy\n",
    "    \"\"\"\n",
    "    pav_df = pd.read_csv(p, sep='\\t', index_col=0)\n",
    "    pg_size, n_samples = pav_df.shape\n",
    "    nonref = sum(pav_df[\"TAIR10\"] == 0)\n",
    "    occup = pav_df.sum(axis=1)\n",
    "    perc_core = sum(occup == n_samples)/pg_size*100\n",
    "    perc_singleton = sum(occup == 1)/pg_size*100\n",
    "    perc_occup = sum(occup)/(pg_size*n_samples)*100\n",
    "    return pg_size, nonref, perc_core, perc_singleton, perc_occup"
   ]
  },
  {
   "cell_type": "code",
   "execution_count": null,
   "id": "b1c8a43f-b6e6-4fe2-b588-c2893e3f53f2",
   "metadata": {},
   "outputs": [],
   "source": [
    "inflation_vals = np.arange(1,5.2,0.2)"
   ]
  },
  {
   "cell_type": "code",
   "execution_count": null,
   "id": "a6993546-2ef1-4862-bdb4-b3feef1c7745",
   "metadata": {},
   "outputs": [],
   "source": [
    "rows = []\n",
    "i = 1.0\n",
    "for i in inflation_vals:\n",
    "    i = round(i,1)\n",
    "    if i.is_integer():\n",
    "        i = int(i)\n",
    "    pav_path = os.path.join(base_dir, 'PAV_I%s.tsv' % i)\n",
    "    pg_size, nonref, perc_core, perc_singleton, perc_occup = pav_matrix_stats(pav_path)\n",
    "    rows.append([i, pg_size, nonref, perc_core, perc_singleton, perc_occup])"
   ]
  },
  {
   "cell_type": "code",
   "execution_count": null,
   "id": "40ccaea5-7d4e-455f-af7d-ef022a5ef5ba",
   "metadata": {},
   "outputs": [],
   "source": [
    "inflation_stats_df = pd.DataFrame(rows)\n",
    "inflation_stats_df.columns = ['Inflation value', 'Pan-genome size', 'Nonreference pan-genes',\n",
    "                              \"Core pan-genes (%)\", \"Singletons (%)\", \"Overall gene occupancy (%)\"]\n",
    "inflation_stats_df['Shell pan-genes (%)'] = 100 - inflation_stats_df[\"Core pan-genes (%)\"] - inflation_stats_df[\"Singletons (%)\"]"
   ]
  },
  {
   "cell_type": "code",
   "execution_count": null,
   "id": "5ab18c3e-6ec9-4a79-b79f-6aee462e656f",
   "metadata": {},
   "outputs": [],
   "source": [
    "fig = go.Figure()\n",
    "\n",
    "fig.add_trace(go.Line(x=inflation_stats_df['Inflation value'], y=inflation_stats_df['Core pan-genes (%)'], name='Core', mode='lines+markers', marker_color='darkgreen'))\n",
    "fig.add_trace(go.Line(x=inflation_stats_df['Inflation value'], y=inflation_stats_df['Shell pan-genes (%)'], name='Shell', mode='lines+markers', marker_color='lightblue'))\n",
    "fig.add_trace(go.Line(x=inflation_stats_df['Inflation value'], y=inflation_stats_df['Singletons (%)'], name='Singletons', mode='lines+markers', marker_color='orange'))\n",
    "\n",
    "fig.update_xaxes(title='Inflation value')\n",
    "fig.update_yaxes(title='Pan-genome composition (%)', range=[0,100])\n",
    "fig.update_xaxes(mirror=True, showline=True, linecolor='black')\n",
    "fig.update_yaxes(mirror=True, showline=True, linecolor='black', showgrid=False)\n",
    "\n",
    "fig.show()"
   ]
  },
  {
   "cell_type": "code",
   "execution_count": null,
   "id": "b6deb7e6-7979-4ae4-8a44-f97af052af9d",
   "metadata": {},
   "outputs": [],
   "source": [
    "fig6s_a = os.path.join(figs_path, 'figS6a.pdf')\n",
    "fig.write_image(fig6s_a)"
   ]
  },
  {
   "cell_type": "code",
   "execution_count": null,
   "id": "09b47ad2-836b-433a-b03d-cc8158b8681c",
   "metadata": {},
   "outputs": [],
   "source": [
    "fig = px.line(inflation_stats_df, x='Inflation value', y='Nonreference pan-genes', markers=True, color_discrete_sequence=['black'])\n",
    "fig.update_xaxes(mirror=True, showline=True, linecolor='black')\n",
    "fig.update_yaxes(mirror=True, showline=True, linecolor='black', showgrid=False)\n",
    "fig.show()"
   ]
  },
  {
   "cell_type": "code",
   "execution_count": null,
   "id": "c3a56f9a-d3c6-4178-9f53-9287e80aa1a5",
   "metadata": {},
   "outputs": [],
   "source": [
    "fig6s_b = os.path.join(figs_path, 'figS6b.pdf')\n",
    "fig.write_image(fig6s_b)"
   ]
  }
 ],
 "metadata": {
  "kernelspec": {
   "display_name": "Python 3",
   "language": "python",
   "name": "python3"
  },
  "language_info": {
   "codemirror_mode": {
    "name": "ipython",
    "version": 3
   },
   "file_extension": ".py",
   "mimetype": "text/x-python",
   "name": "python",
   "nbconvert_exporter": "python",
   "pygments_lexer": "ipython3",
   "version": "3.8.13"
  }
 },
 "nbformat": 4,
 "nbformat_minor": 5
}
