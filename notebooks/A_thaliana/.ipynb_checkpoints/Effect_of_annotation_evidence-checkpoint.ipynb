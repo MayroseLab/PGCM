{
 "cells": [
  {
   "cell_type": "markdown",
   "id": "49d9114f-ce05-47dd-83c2-027d6ef6df87",
   "metadata": {},
   "source": [
    "# The effect of annotation evidence\n",
    "This notebook contains the analysis of the effect of annotation evidence on pan-genome results.  \n",
    "Specifically, we compare pan-genomes which are constructed from the same data, except annotation evidence:  \n",
    "1) No evidence (liftover + ab-initio only)\n",
    "2) Standard evidence\n",
    "3) High quality (HQ) evidence"
   ]
  },
  {
   "cell_type": "code",
   "execution_count": null,
   "id": "993bd846-a959-4a48-a7e1-5c6bb022eecd",
   "metadata": {},
   "outputs": [],
   "source": [
    "import os\n",
    "import pandas as pd\n",
    "import plotly.graph_objects as go\n",
    "import plotly.express as px\n",
    "import plotly.io as pio\n",
    "from plotly.subplots import make_subplots\n",
    "from intervaltree import Interval, IntervalTree\n",
    "from itertools import chain"
   ]
  },
  {
   "cell_type": "code",
   "execution_count": null,
   "id": "6febfadf-7c74-407f-a335-ec1d499dccfd",
   "metadata": {},
   "outputs": [],
   "source": [
    "pio.templates.default = \"plotly_white\""
   ]
  },
  {
   "cell_type": "code",
   "execution_count": null,
   "id": "e90093ac-ffa0-43bc-aa9b-451317a27a09",
   "metadata": {},
   "outputs": [],
   "source": [
    "pg_order = ['no_ev', 'normal_ev', 'HQ_ev']\n",
    "samples = ['An-1', 'C24', 'Cvi-0', 'Eri', 'Kyo', 'Ler', 'Sha', 'TAIR10']\n",
    "n_samples = len(samples)"
   ]
  },
  {
   "cell_type": "markdown",
   "id": "0c6dad40-1a3f-4a4a-836a-9032669c304a",
   "metadata": {},
   "source": [
    "## Paths\n",
    "Paths to dirs containing pan-genome analyses"
   ]
  },
  {
   "cell_type": "code",
   "execution_count": null,
   "id": "96032fa1-322a-443f-8d30-c636c5adf8d4",
   "metadata": {},
   "outputs": [],
   "source": [
    "dn_dir = \"/groups/itay_mayrose_nosnap/liorglic/Projects/PGCM/output/A_thaliana_pan_genome/de_novo\"\n",
    "mtp_dir = \"/groups/itay_mayrose_nosnap/liorglic/Projects/PGCM/output/A_thaliana_pan_genome/map_to_pan\""
   ]
  },
  {
   "cell_type": "code",
   "execution_count": null,
   "id": "a84f66e7-4d33-4ed6-9738-c6e5b2c6fb35",
   "metadata": {},
   "outputs": [],
   "source": [
    "# de novo pan-genomes\n",
    "dn_pan_genomes = {\n",
    "    'no_ev': os.path.join(dn_dir, \"x50_no_ev/RESULT\"),\n",
    "    'normal_ev': os.path.join(dn_dir, \"x50/RESULT\"),\n",
    "    'HQ_ev': os.path.join(dn_dir, \"x50_HQ_ev/RESULT\")\n",
    "}\n",
    "\n",
    "# map-to-pan pan-genomes\n",
    "mtp_pan_genomes = {\n",
    "    'no_ev': os.path.join(mtp_dir, \"x50_no_ev/RESULT\"),\n",
    "    'normal_ev': os.path.join(mtp_dir, \"x50/RESULT\"),\n",
    "    'HQ_ev': os.path.join(mtp_dir, \"x50_HQ_ev/RESULT\")\n",
    "}"
   ]
  },
  {
   "cell_type": "code",
   "execution_count": null,
   "id": "faa78c6c-4f13-4afb-98d9-e54e86e730ea",
   "metadata": {},
   "outputs": [],
   "source": [
    "figs_path = \"/groups/itay_mayrose_nosnap/liorglic/Projects/PGCM/figs/FINAL\""
   ]
  },
  {
   "cell_type": "markdown",
   "id": "a75e880d-1279-48b2-9b68-46f3af287e10",
   "metadata": {},
   "source": [
    "## Load and preprocess data"
   ]
  },
  {
   "cell_type": "markdown",
   "id": "fc2db184-7ca3-491a-aea8-244a8ca6d187",
   "metadata": {},
   "source": [
    "### PAV matrices"
   ]
  },
  {
   "cell_type": "code",
   "execution_count": null,
   "id": "d3cc0953-2fe1-4510-917c-4604998c05a0",
   "metadata": {},
   "outputs": [],
   "source": [
    "# de novo\n",
    "dn_pav = {\n",
    "    pg :\n",
    "    pd.read_csv(os.path.join(dn_pan_genomes[pg],\"all_samples/pan_genome/pan_PAV.tsv\"), sep='\\t', index_col='gene')\n",
    "    for pg in dn_pan_genomes\n",
    "}\n",
    "\n",
    "# map-to-pan\n",
    "mtp_pav = {\n",
    "    pg :\n",
    "    pd.read_csv(os.path.join(mtp_pan_genomes[pg],\"all_samples/pan_genome/pan_PAV.tsv\"), sep='\\t', index_col='gene')\n",
    "    for pg in mtp_pan_genomes\n",
    "}\n",
    "\n",
    "for pg in dn_pav:\n",
    "    dn_pav[pg].columns = dn_pav[pg].columns.map(lambda x: x.split('_')[0])\n",
    "    dn_pav[pg] = dn_pav[pg][samples]\n",
    "\n",
    "for pg in mtp_pav:\n",
    "    mtp_pav[pg].columns = mtp_pav[pg].columns.map(lambda x: x.split('_')[0])\n",
    "    dn_pav[pg] = dn_pav[pg][samples]\n",
    "    mtp_pav[pg].index = mtp_pav[pg].index.str.replace(':','_')"
   ]
  },
  {
   "cell_type": "markdown",
   "id": "aee7ea4d-649b-4360-a488-821a5b7ca621",
   "metadata": {},
   "source": [
    "### Calculate occupancy and occupancy class\n",
    "(core, shell, singleton)"
   ]
  },
  {
   "cell_type": "code",
   "execution_count": null,
   "id": "56fa6b7b-315c-4faa-a5f0-4e79aa28ee7d",
   "metadata": {},
   "outputs": [],
   "source": [
    "def occup_class(occup, core_cut):\n",
    "    if occup >= core_cut:\n",
    "        return 'Core'\n",
    "    elif occup == 1:\n",
    "        return 'Singleton'\n",
    "    else:\n",
    "        return 'Shell'"
   ]
  },
  {
   "cell_type": "code",
   "execution_count": null,
   "id": "295ea34d-8770-4a9f-8be9-bcaae6637380",
   "metadata": {},
   "outputs": [],
   "source": [
    "for pg in dn_pav:\n",
    "    # calculate occupancy\n",
    "    dn_pav[pg]['occupancy'] = dn_pav[pg].apply(sum, axis=1)\n",
    "    # discard genes with occupancy 0\n",
    "    dn_pav[pg] = dn_pav[pg].query('occupancy > 0')\n",
    "    # occupancy class\n",
    "    dn_pav[pg]['occup_class'] = dn_pav[pg].apply(lambda row: occup_class(row['occupancy'], n_samples), axis=1)"
   ]
  },
  {
   "cell_type": "code",
   "execution_count": null,
   "id": "45c70fdd-0735-434e-a138-be96dc424bc5",
   "metadata": {},
   "outputs": [],
   "source": [
    "for pg in mtp_pav:\n",
    "    # calculate occupancy\n",
    "    mtp_pav[pg]['occupancy'] = mtp_pav[pg].apply(sum, axis=1)\n",
    "    # discard genes with occupancy 0\n",
    "    mtp_pav[pg] = mtp_pav[pg].query('occupancy > 0')\n",
    "    # occupancy class\n",
    "    mtp_pav[pg]['occup_class'] = mtp_pav[pg].apply(lambda row: occup_class(row['occupancy'], n_samples), axis=1)"
   ]
  },
  {
   "cell_type": "markdown",
   "id": "36b3fded-fa08-4ba1-b2a7-56e195de85e0",
   "metadata": {
    "tags": []
   },
   "source": [
    "## Genes per sample"
   ]
  },
  {
   "cell_type": "code",
   "execution_count": null,
   "id": "d40fa9f9-ddff-4fd1-b9fa-7beaf7e8f976",
   "metadata": {},
   "outputs": [],
   "source": [
    "dn_gene_counts = {}\n",
    "for pg in pg_order:\n",
    "    sample_counts = []\n",
    "    for sample in samples:\n",
    "        sample_pav = dn_pav[pg][sample]\n",
    "        sample_present = sample_pav.loc[sample_pav == 1]\n",
    "        ref_nonref = pd.Series(sample_present.index.str.startswith('PanGene')).map({False: 'Reference', True: 'Nonreference'}).value_counts().sort_index()\n",
    "        ref_nonref.name = sample\n",
    "        sample_counts.append(ref_nonref)\n",
    "    dn_gene_counts[pg] = pd.concat(sample_counts, axis=1).transpose()"
   ]
  },
  {
   "cell_type": "code",
   "execution_count": null,
   "id": "4324b9a6-64b9-4bfa-9947-67a6f69364f5",
   "metadata": {},
   "outputs": [],
   "source": [
    "dn_gene_counts_df = pd.concat([dn_gene_counts[pg] for pg in pg_order], axis=1)\n",
    "dn_gene_counts_df.columns = pd.MultiIndex.from_product([['No-evidence','Standard evidence','HQ evidence'], ['Nonreference','Reference']])\n",
    "dn_gene_counts_df"
   ]
  },
  {
   "cell_type": "code",
   "execution_count": null,
   "id": "e3169ba1-14fd-4ad8-9294-e18ba2272e64",
   "metadata": {},
   "outputs": [],
   "source": [
    "mtp_gene_counts = {}\n",
    "for pg in pg_order:\n",
    "    sample_counts = []\n",
    "    for sample in samples:\n",
    "        sample_pav = mtp_pav[pg][sample]\n",
    "        sample_present = sample_pav.loc[sample_pav == 1]\n",
    "        ref_nonref = pd.Series(sample_present.index.str.startswith('PanGene')).map({False: 'Reference', True: 'Nonreference'}).value_counts().sort_index()\n",
    "        ref_nonref.name = sample\n",
    "        sample_counts.append(ref_nonref)\n",
    "    mtp_gene_counts[pg] = pd.concat(sample_counts, axis=1).transpose()"
   ]
  },
  {
   "cell_type": "code",
   "execution_count": null,
   "id": "ff69dadd-268e-4fa9-b0f3-9693327fb981",
   "metadata": {},
   "outputs": [],
   "source": [
    "mtp_gene_counts_df = pd.concat([mtp_gene_counts[pg] for pg in pg_order], axis=1)\n",
    "mtp_gene_counts_df.columns = pd.MultiIndex.from_product([['No-evidence','Standard evidence','HQ evidence'], ['Nonreference','Reference']])\n",
    "mtp_gene_counts_df"
   ]
  },
  {
   "cell_type": "code",
   "execution_count": null,
   "id": "c6284121-f5e1-4fb0-a108-660a6a085d8b",
   "metadata": {},
   "outputs": [],
   "source": [
    "dn_nonref_counts = dn_gene_counts_df[[('No-evidence','Nonreference'),('Standard evidence','Nonreference'),('HQ evidence','Nonreference')]]\n",
    "dn_nonref_counts.columns = ['No-evidence','Standard evidence','HQ evidence']\n",
    "dn_nonref_counts = dn_nonref_counts.dropna()\n",
    "dn_nonref_counts_melt = dn_nonref_counts.reset_index().melt(id_vars='index',\n",
    "                                                           value_vars=['No-evidence','Standard evidence','HQ evidence'])\n",
    "dn_nonref_counts_melt.columns = ['sample','PG','genes']\n",
    "dn_nonref_counts_melt['pipeline'] = 'De novo'\n",
    "\n",
    "mtp_nonref_counts = mtp_gene_counts_df[[('No-evidence','Nonreference'),('Standard evidence','Nonreference'),('HQ evidence','Nonreference')]]\n",
    "mtp_nonref_counts.columns = ['No-evidence','Standard evidence','HQ evidence']\n",
    "mtp_nonref_counts = mtp_nonref_counts.dropna()\n",
    "mtp_nonref_counts_melt = mtp_nonref_counts.reset_index().melt(id_vars='index',\n",
    "                                                           value_vars=['No-evidence','Standard evidence','HQ evidence'])\n",
    "mtp_nonref_counts_melt.columns = ['sample','PG','genes']\n",
    "mtp_nonref_counts_melt['pipeline'] = 'Map-to-pan'\n",
    "\n",
    "nonref_counts_melt = pd.concat([dn_nonref_counts_melt, mtp_nonref_counts_melt])"
   ]
  },
  {
   "cell_type": "code",
   "execution_count": null,
   "id": "0c23aacb-00aa-41ba-86c2-be7b481b82cb",
   "metadata": {},
   "outputs": [],
   "source": [
    "xbase = pd.Series(nonref_counts_melt[\"PG\"].unique()).reset_index().rename(columns={\"index\":\"x\",0:\"PG\"})\n",
    "nonref_counts_melt = nonref_counts_melt.merge(xbase, on=\"PG\").set_index(\"pipeline\")"
   ]
  },
  {
   "cell_type": "code",
   "execution_count": null,
   "id": "5bb04f4b-0bfc-48eb-b98e-15d91c62ce05",
   "metadata": {},
   "outputs": [],
   "source": [
    "#samples_color_map = dict(zip(gene_counts_melt['sample'].unique(), pio.templates['plotly'].layout.colorway[:8]))\n",
    "\n",
    "sample_colors = ['blue','red','green','purple','orange','brown','lightblue','darkgreen']\n",
    "sample_colors = dict(zip(samples, sample_colors))\n",
    "\n",
    "nonref_counts_melt['color'] = nonref_counts_melt.apply(lambda row: sample_colors[row['sample']], axis=1)\n",
    "\n",
    "pipeline_symbol_map = {'De novo': 'square',\n",
    "                      'Map-to-pan': 'cross'}\n",
    "nonref_counts_melt['symbol'] = nonref_counts_melt.apply(lambda row: pipeline_symbol_map[row.name], axis=1)"
   ]
  },
  {
   "cell_type": "code",
   "execution_count": null,
   "id": "fe1c5ab5-89b4-4e97-ba22-75b10e5033e9",
   "metadata": {},
   "outputs": [],
   "source": [
    "fig = go.Figure(\n",
    "    [\n",
    "        go.Scatter(\n",
    "            name=p,\n",
    "            x=nonref_counts_melt.loc[p, \"x\"] + i/5,\n",
    "            y=nonref_counts_melt.loc[p, \"genes\"],\n",
    "            text=nonref_counts_melt.loc[p, \"PG\"],\n",
    "            mode=\"markers\",\n",
    "            marker={\"color\": nonref_counts_melt.loc[p, \"color\"], \"symbol\": nonref_counts_melt.loc[p, \"symbol\"], \"size\":7},\n",
    "            hovertemplate=\"(%{text},%{y})\"\n",
    "        )\n",
    "        for i, p in enumerate(nonref_counts_melt.index.get_level_values(\"pipeline\").unique())\n",
    "    ]\n",
    ")\n",
    "\n",
    "fig.update_layout(xaxis={\"tickmode\":\"array\", \"tickvals\":xbase[\"x\"], \"ticktext\":xbase[\"PG\"]},\n",
    "                 yaxis={'title': 'Number of genes'},\n",
    "                 )\n",
    "\n",
    "fig.update_xaxes(mirror=True, showline=True, linecolor='black', showgrid=False, zeroline=False)\n",
    "fig.update_yaxes(mirror=True, showline=True, linecolor='black', showgrid=False, zeroline=False)\n",
    "\n",
    "fig.update_layout(autosize=False, width=500)\n",
    "    \n",
    "fig.show()"
   ]
  },
  {
   "cell_type": "markdown",
   "id": "237b44d7-fe3d-4ee3-b6e7-37b71f516d3e",
   "metadata": {},
   "source": [
    "## Pan-genome size and composition\n",
    "Basic stats of the total sizes and occupancy classes of the various PGs"
   ]
  },
  {
   "cell_type": "code",
   "execution_count": null,
   "id": "951e770f-4416-4567-85fb-9745fddfcd96",
   "metadata": {},
   "outputs": [],
   "source": [
    "dn_pg_composition = pd.concat([dn_pav[pg]['occup_class'].value_counts().rename(pg).sort_index()\n",
    "           for pg in pg_order], axis=1).transpose()\n",
    "dn_pg_composition['Total'] = dn_pg_composition.apply(sum, axis=1)\n",
    "dn_pg_composition.index = ['No-evidence','Standard evidence', 'HQ evidence']"
   ]
  },
  {
   "cell_type": "code",
   "execution_count": null,
   "id": "c0ba964d-a9f5-454d-ac16-8a15362cd562",
   "metadata": {},
   "outputs": [],
   "source": [
    "mtp_pg_composition = pd.concat([mtp_pav[pg]['occup_class'].value_counts().rename(pg).sort_index()\n",
    "           for pg in pg_order], axis=1).transpose()\n",
    "mtp_pg_composition['Total'] = mtp_pg_composition.apply(sum, axis=1)\n",
    "mtp_pg_composition.index = ['No-evidence','Standard evidence', 'HQ evidence']"
   ]
  },
  {
   "cell_type": "code",
   "execution_count": null,
   "id": "bf34eaa7-af9c-48cf-b57a-635bd01c2782",
   "metadata": {},
   "outputs": [],
   "source": [
    "pg_composition = dn_pg_composition.join(mtp_pg_composition, rsuffix='_MTP')\n",
    "pg_composition.columns = pd.MultiIndex.from_product([['De novo','Map-to-pan'],['Core','Shell','Singletons','Total']])\n",
    "pg_composition"
   ]
  },
  {
   "cell_type": "code",
   "execution_count": null,
   "id": "299f0e2d-1bf0-436e-8946-bf5ba8d44d53",
   "metadata": {},
   "outputs": [],
   "source": [
    "colors = ['grey','purple','darkgreen','lightblue','orange']"
   ]
  },
  {
   "cell_type": "code",
   "execution_count": null,
   "id": "eed7c4b1-0b24-4cd9-9168-91739d8fc680",
   "metadata": {},
   "outputs": [],
   "source": [
    "fig = make_subplots(rows=2, cols=1,\n",
    "                    shared_xaxes=True,\n",
    "                    vertical_spacing=0.1,\n",
    "                   subplot_titles=('De novo', 'Map-to-pan'),\n",
    "                   y_title=\"Number of pan-genes\")\n",
    "\n",
    "fig.add_trace(go.Bar(x=dn_pg_composition.index, y=dn_pg_composition['Core'], name='Core', legendrank=3), row=1, col=1)\n",
    "fig.add_trace(go.Bar(x=dn_pg_composition.index, y=dn_pg_composition['Shell'], name='Shell', legendrank=2), row=1, col=1)\n",
    "fig.add_trace(go.Bar(x=dn_pg_composition.index, y=dn_pg_composition['Singleton'], name='Singleton', legendrank=1), row=1, col=1)\n",
    "\n",
    "fig.add_trace(go.Bar(x=mtp_pg_composition.index, y=mtp_pg_composition['Core'], name='Core', showlegend=False), row=2, col=1)\n",
    "fig.add_trace(go.Bar(x=mtp_pg_composition.index, y=mtp_pg_composition['Shell'], name='Shell', showlegend=False), row=2, col=1)\n",
    "fig.add_trace(go.Bar(x=mtp_pg_composition.index, y=mtp_pg_composition['Singleton'], name='Singleton', showlegend=False), row=2, col=1)\n",
    "\n",
    "\n",
    "fig.update_layout(barmode='stack', colorway=colors[2:])\n",
    "fig.update_xaxes(mirror=True, showline=True, linecolor='black')\n",
    "fig.update_yaxes(mirror=True, showline=True, linecolor='black', showgrid=False)\n",
    "\n",
    "fig.show()"
   ]
  }
 ],
 "metadata": {
  "kernelspec": {
   "display_name": "Python 3",
   "language": "python",
   "name": "python3"
  },
  "language_info": {
   "codemirror_mode": {
    "name": "ipython",
    "version": 3
   },
   "file_extension": ".py",
   "mimetype": "text/x-python",
   "name": "python",
   "nbconvert_exporter": "python",
   "pygments_lexer": "ipython3",
   "version": "3.8.12"
  }
 },
 "nbformat": 4,
 "nbformat_minor": 5
}
