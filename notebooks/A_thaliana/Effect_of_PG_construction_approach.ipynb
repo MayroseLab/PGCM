{
 "cells": [
  {
   "cell_type": "markdown",
   "id": "dominant-milton",
   "metadata": {},
   "source": [
    "# The effect of pan-genome construction approach\n",
    "This notebook contains the analysis of the effect of construction approach on pan-genome results.  \n",
    "The analysis mainly consists of comparing three _A. thaliana_ pan-genomes, constructed with either the de novo (DN), the map-to-pan (MTP), or the iterative-assembly (IA) approach, based on the same 50x sequencing data and annotation evidence."
   ]
  },
  {
   "cell_type": "code",
   "execution_count": null,
   "id": "center-serum",
   "metadata": {
    "tags": []
   },
   "outputs": [],
   "source": [
    "import os\n",
    "import pandas as pd\n",
    "import plotly.graph_objects as go\n",
    "import plotly.express as px\n",
    "from plotly.subplots import make_subplots\n",
    "import plotly.io as pio\n",
    "from Bio import SeqIO\n",
    "from itertools import chain"
   ]
  },
  {
   "cell_type": "code",
   "execution_count": null,
   "id": "735b022e-270a-4eec-9ecf-f374a7896bd5",
   "metadata": {},
   "outputs": [],
   "source": [
    "pio.templates.default = \"plotly_white\"\n",
    "colors = ['grey','purple','darkgreen','lightblue','orange']\n",
    "pd.set_option(\"display.max_columns\", None)"
   ]
  },
  {
   "cell_type": "markdown",
   "id": "intellectual-satellite",
   "metadata": {},
   "source": [
    "## Paths"
   ]
  },
  {
   "cell_type": "code",
   "execution_count": null,
   "id": "cosmetic-desert",
   "metadata": {},
   "outputs": [],
   "source": [
    "base_dir = \"/groups/itay_mayrose_nosnap/liorglic/Projects/PGCM/output/A_thaliana_pan_genome\"\n",
    "dn_pg = os.path.join(base_dir, \"de_novo/x50/RESULT\")\n",
    "mtp_pg = os.path.join(base_dir, \"map_to_pan/x50/RESULT\")\n",
    "ia_pg = os.path.join(base_dir, \"iterative_mapping/x50_bowtie2/RESULT\")\n",
    "compare_dir = os.path.join(base_dir, \"compare_pan_genomes/DN_x50_vs_MTP_x50/RESULT\")\n",
    "compare_ia_mtp_dir = os.path.join(base_dir, \"compare_pan_genomes/MTP_x50_vs_IA_x50_bowtie2/RESULT\")"
   ]
  },
  {
   "cell_type": "code",
   "execution_count": null,
   "id": "specific-northwest",
   "metadata": {},
   "outputs": [],
   "source": [
    "dn_pav_tsv = os.path.join(dn_pg, \"all_samples/pan_genome/pan_PAV.tsv\")\n",
    "mtp_pav_tsv = os.path.join(mtp_pg, \"all_samples/pan_genome/pan_PAV.tsv\")\n",
    "ia_pav_tsv = os.path.join(ia_pg, \"all_samples/pan_genome/pan_PAV.tsv\")"
   ]
  },
  {
   "cell_type": "code",
   "execution_count": null,
   "id": "b444182b-9425-4e25-94d2-71ea62b759e9",
   "metadata": {},
   "outputs": [],
   "source": [
    "dn_nonref_analysis_dir = os.path.join(base_dir, 'analyze_nonref/DN_x50/RESULT')\n",
    "mtp_nonref_analysis_dir = os.path.join(base_dir, 'analyze_nonref/MTP_x50/RESULT')"
   ]
  },
  {
   "cell_type": "code",
   "execution_count": null,
   "id": "e88fcbe1-0f57-493c-8c36-4acc74e78b95",
   "metadata": {},
   "outputs": [],
   "source": [
    "figs_path = \"/groups/itay_mayrose_nosnap/liorglic/Projects/PGCM/figs/FINAL\""
   ]
  },
  {
   "cell_type": "markdown",
   "id": "silent-silence",
   "metadata": {},
   "source": [
    "## Basic stats comparison\n",
    "Extract and compare general stats of the three pan-genomes"
   ]
  },
  {
   "cell_type": "code",
   "execution_count": null,
   "id": "preceding-illness",
   "metadata": {},
   "outputs": [],
   "source": [
    "# Read PAV TSVs as pandas data frames\n",
    "dn_pg_pav_df = pd.read_csv(dn_pav_tsv, sep='\\t', index_col=0)\n",
    "dn_pg_pav_df.columns = [col.split('_')[0] for col in dn_pg_pav_df.columns]\n",
    "mtp_pg_pav_df = pd.read_csv(mtp_pav_tsv, sep='\\t', index_col=0)\n",
    "mtp_pg_pav_df.columns = [col.split('_')[0] for col in mtp_pg_pav_df.columns]\n",
    "ia_pg_pav_df = pd.read_csv(ia_pav_tsv, sep='\\t', index_col=0)\n",
    "ia_pg_pav_df.columns = [col.split('_')[0] for col in ia_pg_pav_df.columns]"
   ]
  },
  {
   "cell_type": "code",
   "execution_count": null,
   "id": "1ded0a21-74a2-48eb-9f55-68b7f9684c3d",
   "metadata": {},
   "outputs": [],
   "source": [
    "# Rename TAIR10 to col-0\n",
    "dn_pg_pav_df.columns = [col if col != 'TAIR10' else 'Col-0' for col in dn_pg_pav_df.columns]\n",
    "mtp_pg_pav_df.columns = [col if col != 'TAIR10' else 'Col-0' for col in mtp_pg_pav_df.columns]\n",
    "ia_pg_pav_df.columns = [col if col != 'TAIR10' else 'Col-0' for col in ia_pg_pav_df.columns]"
   ]
  },
  {
   "cell_type": "code",
   "execution_count": null,
   "id": "welcome-yugoslavia",
   "metadata": {},
   "outputs": [],
   "source": [
    "# Calculate stats\n",
    "def stats_from_pav_df(df):\n",
    "    total_pangenes = df.shape[0]\n",
    "    non_ref_pangenes = df.loc[df.index.str.startswith('PanGene')].shape[0]\n",
    "    ref_pangenes = total_pangenes - non_ref_pangenes\n",
    "    n_samples = df.shape[1]\n",
    "    occup = df.sum(axis=1)\n",
    "    core = (occup == n_samples).sum()\n",
    "    shell = (occup.between(1,n_samples,inclusive='neither')).sum()\n",
    "    singletons = (occup == 1).sum()\n",
    "    index = ['Total pan-genes', 'Reference pan-genes', 'Non-reference pan-genes',\n",
    "             'Core pan-genes', 'Shell pan-genes', 'Singletons']\n",
    "    values =  [total_pangenes, ref_pangenes, non_ref_pangenes, core, shell, singletons]\n",
    "    return pd.Series(values, index = index)\n",
    "\n",
    "dn_pg_stats = stats_from_pav_df(dn_pg_pav_df)\n",
    "mtp_pg_stats = stats_from_pav_df(mtp_pg_pav_df)\n",
    "ia_pg_stats = stats_from_pav_df(ia_pg_pav_df)"
   ]
  },
  {
   "cell_type": "code",
   "execution_count": null,
   "id": "numerous-sydney",
   "metadata": {},
   "outputs": [],
   "source": [
    "# Display stats\n",
    "stats_df = pd.concat([dn_pg_stats, mtp_pg_stats, ia_pg_stats], axis=1)\n",
    "stats_df.columns = ['De novo', 'Map-to-pan', 'Iterative assembly']\n",
    "stats_df"
   ]
  },
  {
   "cell_type": "code",
   "execution_count": null,
   "id": "permanent-worship",
   "metadata": {},
   "outputs": [],
   "source": [
    "ref_nonref = stats_df.loc[['Reference pan-genes','Non-reference pan-genes']].transpose()\n",
    "pg_composition = stats_df.loc[['Core pan-genes','Shell pan-genes','Singletons']].transpose()"
   ]
  },
  {
   "cell_type": "code",
   "execution_count": null,
   "id": "c08af16f-e6e3-4700-88b7-3bf9433b39db",
   "metadata": {},
   "outputs": [],
   "source": [
    "fig = make_subplots(rows=1, cols=2, shared_yaxes=True)\n",
    "\n",
    "fig_a_t1 = go.Bar(x=ref_nonref.index, y=ref_nonref['Reference pan-genes'], name='Reference', legendrank=5)\n",
    "fig_a_t2 = go.Bar(x=ref_nonref.index, y=ref_nonref['Non-reference pan-genes'], name='Nonreference', legendrank=4)\n",
    "fig.add_trace(fig_a_t1, row=1, col=1)\n",
    "fig.add_trace(fig_a_t2, row=1, col=1)\n",
    "\n",
    "fig_b_t1 = go.Bar(x=pg_composition.index, y=pg_composition['Core pan-genes'], name='Core', legendrank=3)\n",
    "fig_b_t2 = go.Bar(x=pg_composition.index, y=pg_composition['Shell pan-genes'], name='Shell', legendrank=2)\n",
    "fig_b_t3 = go.Bar(x=pg_composition.index, y=pg_composition['Singletons'], name='Singletons', legendrank=1)\n",
    "fig.add_trace(fig_b_t1, row=1, col=2)\n",
    "fig.add_trace(fig_b_t2, row=1, col=2)\n",
    "fig.add_trace(fig_b_t3, row=1, col=2)\n",
    "\n",
    "fig.update_layout(barmode='stack', colorway=colors, yaxis_title=\"Number of pan-genes\")\n",
    "fig.update_xaxes(mirror=True, showline=True, linecolor='black')\n",
    "fig.update_yaxes(mirror=True, showline=True, linecolor='black', showgrid=False)\n",
    "fig.show()"
   ]
  },
  {
   "cell_type": "code",
   "execution_count": null,
   "id": "c690889b-9d83-493c-a781-ea7bb8379235",
   "metadata": {},
   "outputs": [],
   "source": [
    "fig2_a = os.path.join(figs_path, 'fig2a.pdf')\n",
    "fig.write_image(fig2_a)"
   ]
  },
  {
   "cell_type": "markdown",
   "id": "366ee861-bc9b-4e6d-8b98-35657f307ff9",
   "metadata": {},
   "source": [
    "## Per sample reference/nonreference"
   ]
  },
  {
   "cell_type": "code",
   "execution_count": null,
   "id": "8e5ec445-076a-4855-b696-317445ba6ec8",
   "metadata": {},
   "outputs": [],
   "source": [
    "# Create table\n",
    "dn_ref_nonref = dn_pg_pav_df.apply(lambda row: 'Reference' if row.name.startswith('transcript') else 'Nonreference', axis=1)\n",
    "mtp_ref_nonref = mtp_pg_pav_df.apply(lambda row: 'Reference' if row.name.startswith('transcript') else 'Nonreference', axis=1)\n",
    "ia_ref_nonref = ia_pg_pav_df.apply(lambda row: 'Reference' if row.name.startswith('transcript') else 'Nonreference', axis=1)"
   ]
  },
  {
   "cell_type": "code",
   "execution_count": null,
   "id": "f8c39852-531e-42c6-b684-dd3f2754f182",
   "metadata": {},
   "outputs": [],
   "source": [
    "def ref_nonref_per_sample(df, vec):\n",
    "    per_sample = []\n",
    "    for sample in df.columns:\n",
    "        sample_pav = df[sample]\n",
    "        sample_present = sample_pav.loc[sample_pav == 1]\n",
    "        counts = pd.concat([sample_present, vec], axis=1, join='inner')[0].value_counts()\n",
    "        counts.name = sample\n",
    "        per_sample.append(counts)\n",
    "    return pd.concat(per_sample, axis=1)"
   ]
  },
  {
   "cell_type": "code",
   "execution_count": null,
   "id": "4be7d2a4-8c47-4587-8f53-7c08eeefffec",
   "metadata": {},
   "outputs": [],
   "source": [
    "dn_ref_nonref_per_sample = ref_nonref_per_sample(dn_pg_pav_df, dn_ref_nonref).fillna(0)\n",
    "mtp_ref_nonref_per_sample = ref_nonref_per_sample(mtp_pg_pav_df, mtp_ref_nonref).fillna(0)\n",
    "ia_ref_nonref_per_sample = ref_nonref_per_sample(ia_pg_pav_df, ia_ref_nonref).fillna(0)\n",
    "# Order columns alphabetically\n",
    "dn_ref_nonref_per_sample = dn_ref_nonref_per_sample[dn_ref_nonref_per_sample.columns.sort_values()]\n",
    "mtp_ref_nonref_per_sample = mtp_ref_nonref_per_sample[mtp_ref_nonref_per_sample.columns.sort_values()]\n",
    "ia_ref_nonref_per_sample = ia_ref_nonref_per_sample[ia_ref_nonref_per_sample.columns.sort_values()]\n",
    "# Add _MTP / _IA suffices to columns names\n",
    "mtp_ref_nonref_per_sample.columns = [col + '_1MTP' for col in mtp_ref_nonref_per_sample.columns]\n",
    "ia_ref_nonref_per_sample.columns = [col + '_IA' for col in ia_ref_nonref_per_sample.columns]\n",
    "\n",
    "ref_nonref_per_sample_df = pd.concat([dn_ref_nonref_per_sample,mtp_ref_nonref_per_sample,ia_ref_nonref_per_sample], axis=1)\n",
    "ref_nonref_per_sample_df = ref_nonref_per_sample_df[ref_nonref_per_sample_df.columns.sort_values()]\n",
    "ref_nonref_per_sample_df.columns = [col.split('_')[0] for col in ref_nonref_per_sample_df.columns]\n",
    "ref_nonref_per_sample_df.columns = pd.MultiIndex.from_product([dn_ref_nonref_per_sample.columns,['De novo','Map-to-pan','Iterative assembly']])\n",
    "# Make Col-0 the last column\n",
    "ref_nonref_per_sample_df = ref_nonref_per_sample_df[pd.MultiIndex.from_tuples([x for x in ref_nonref_per_sample_df.columns if x[0] != 'Col-0'] + [x for x in ref_nonref_per_sample_df.columns if x[0] == 'Col-0'])]\n",
    "ref_nonref_per_sample_df"
   ]
  },
  {
   "cell_type": "code",
   "execution_count": null,
   "id": "9cd29e78-dc12-47e9-aeb4-5ad461c11a3b",
   "metadata": {},
   "outputs": [],
   "source": [
    "# Plot\n",
    "dn_ref_nonref_per_sample_t = dn_ref_nonref_per_sample.transpose()\n",
    "samples_order = [s for s in dn_ref_nonref_per_sample_t.index if s != 'Col-0'] + ['Col-0']\n",
    "dn_ref_nonref_per_sample_t = dn_ref_nonref_per_sample_t.reindex(samples_order)\n",
    "\n",
    "mtp_ref_nonref_per_sample_t = mtp_ref_nonref_per_sample.transpose()\n",
    "mtp_ref_nonref_per_sample_t.index = [s.replace('_1MTP','') for s in mtp_ref_nonref_per_sample_t.index]\n",
    "mtp_ref_nonref_per_sample_t = mtp_ref_nonref_per_sample_t.reindex(samples_order)\n",
    "\n",
    "ia_ref_nonref_per_sample_t = ia_ref_nonref_per_sample.transpose()\n",
    "ia_ref_nonref_per_sample_t.index = [s.replace('_IA','') for s in ia_ref_nonref_per_sample_t.index]\n",
    "ia_ref_nonref_per_sample_t = ia_ref_nonref_per_sample_t.reindex(samples_order)"
   ]
  },
  {
   "cell_type": "code",
   "execution_count": null,
   "id": "6ed9ac17-10e6-4340-9e7c-dced2295e554",
   "metadata": {
    "tags": []
   },
   "outputs": [],
   "source": [
    "fig = go.Figure()\n",
    "x = [\n",
    "    list(chain(*[[s]*3 for s in dn_ref_nonref_per_sample_t.index])),\n",
    "    ['DN', 'MTP', 'IA']*len(dn_ref_nonref_per_sample_t.index)\n",
    "]\n",
    "y1 = list(chain(*zip(list(dn_ref_nonref_per_sample_t['Reference']),list(mtp_ref_nonref_per_sample_t['Reference']),list(ia_ref_nonref_per_sample_t['Reference']))))\n",
    "y2 = list(chain(*zip(list(dn_ref_nonref_per_sample_t['Nonreference']),list(mtp_ref_nonref_per_sample_t['Nonreference']),list(ia_ref_nonref_per_sample_t['Nonreference']))))\n",
    "fig.add_bar(name=\"Reference\", x=x, y=y1, legendrank=2)\n",
    "fig.add_bar(name=\"Nonreference\", x=x, y=y2, legendrank=1)\n",
    "fig.update_layout(barmode='stack', colorway=colors, yaxis_title=\"Number of pan-genes\", bargap=0.1)\n",
    "fig.update_xaxes(mirror=True, showline=True, linecolor='black')\n",
    "fig.update_yaxes(mirror=True, showline=True, linecolor='black', showgrid=False)\n",
    "fig.show()"
   ]
  },
  {
   "cell_type": "code",
   "execution_count": null,
   "id": "af154be7-f41f-4369-ac45-7b25991a2277",
   "metadata": {},
   "outputs": [],
   "source": [
    "fig2_b = os.path.join(figs_path, 'fig2b.pdf')\n",
    "fig.write_image(fig2_b)"
   ]
  },
  {
   "cell_type": "markdown",
   "id": "d0de91c1-059a-489d-bfc1-1e7a6b822ad8",
   "metadata": {},
   "source": [
    "## Occupancy analysis"
   ]
  },
  {
   "cell_type": "code",
   "execution_count": null,
   "id": "a5d45017-21fc-4366-bfc7-16ee0fc1028d",
   "metadata": {},
   "outputs": [],
   "source": [
    "def occup_to_cat(occup, n_samples):\n",
    "    if occup == 1:\n",
    "        return \"Singleton\"\n",
    "    elif occup < n_samples:\n",
    "        return \"Shell\"\n",
    "    elif occup == n_samples:\n",
    "        return \"Core\"\n",
    "\n",
    "def occup_categories_per_sample(df):\n",
    "    occup = df.sum(axis=1)\n",
    "    n_samples = df.shape[1]\n",
    "    occup_cat = occup.apply(occup_to_cat, args=(n_samples,))\n",
    "    \n",
    "    per_sample = []\n",
    "    for sample in df.columns:\n",
    "        sample_pav = df[sample]\n",
    "        sample_present = sample_pav.loc[sample_pav == 1]\n",
    "        cat_counts = pd.concat([sample_present, occup_cat], axis=1, join='inner')[0].value_counts()\n",
    "        cat_counts.name = sample\n",
    "        per_sample.append(cat_counts)\n",
    "    return pd.concat(per_sample, axis=1)"
   ]
  },
  {
   "cell_type": "code",
   "execution_count": null,
   "id": "6840c3f5-a3a9-4849-819f-fdfd97943258",
   "metadata": {},
   "outputs": [],
   "source": [
    "dn_occup_cat_per_sample = occup_categories_per_sample(dn_pg_pav_df)\n",
    "mtp_occup_cat_per_sample = occup_categories_per_sample(mtp_pg_pav_df)\n",
    "ia_occup_cat_per_sample = occup_categories_per_sample(ia_pg_pav_df)\n",
    "# Order columns alphabetically\n",
    "dn_occup_cat_per_sample = dn_occup_cat_per_sample[dn_occup_cat_per_sample.columns.sort_values()]\n",
    "mtp_occup_cat_per_sample = mtp_occup_cat_per_sample[mtp_occup_cat_per_sample.columns.sort_values()]\n",
    "ia_occup_cat_per_sample = ia_occup_cat_per_sample[ia_occup_cat_per_sample.columns.sort_values()]\n",
    "# Add _MTP suffices to columns names\n",
    "mtp_occup_cat_per_sample.columns = [col + '_1MTP' for col in mtp_occup_cat_per_sample.columns]\n",
    "ia_occup_cat_per_sample.columns = [col + '_IA' for col in ia_occup_cat_per_sample.columns]\n",
    "\n",
    "occup_cat_per_sample_df = pd.concat([dn_occup_cat_per_sample,mtp_occup_cat_per_sample,ia_occup_cat_per_sample], axis=1)\n",
    "occup_cat_per_sample_df = occup_cat_per_sample_df[occup_cat_per_sample_df.columns.sort_values()]\n",
    "occup_cat_per_sample_df.columns = [col.split('_')[0] for col in occup_cat_per_sample_df.columns]\n",
    "occup_cat_per_sample_df.columns = pd.MultiIndex.from_product([dn_occup_cat_per_sample.columns,['De novo','Map-to-pan','Iterative assembly']])\n",
    "# Make Col-0 the last column\n",
    "occup_cat_per_sample_df = occup_cat_per_sample_df[pd.MultiIndex.from_tuples([x for x in occup_cat_per_sample_df.columns if x[0] != 'Col-0'] + [x for x in occup_cat_per_sample_df.columns if x[0] == 'Col-0'])]\n",
    "occup_cat_per_sample_df"
   ]
  },
  {
   "cell_type": "markdown",
   "id": "1a7b03be-cc78-4ff0-9bce-d299fb76cab8",
   "metadata": {},
   "source": [
    "## Nonreference gene pool\n",
    "DN and MTP only"
   ]
  },
  {
   "cell_type": "code",
   "execution_count": null,
   "id": "25be15f6-0615-4a1e-b421-73d67b249926",
   "metadata": {},
   "outputs": [],
   "source": [
    "nonref_matched = compare_dir + '/A_thaliana_DN_x50_vs_A_thaliana_MTP_x50_max_weight_matches.tsv'\n",
    "nonref_matched_df = pd.read_csv(nonref_matched, sep='\\t')"
   ]
  },
  {
   "cell_type": "code",
   "execution_count": null,
   "id": "0f1b2845-99e0-4d3c-a457-36c5b87dc042",
   "metadata": {},
   "outputs": [],
   "source": [
    "# how many matched?\n",
    "nonref_matched_df.shape"
   ]
  },
  {
   "cell_type": "code",
   "execution_count": null,
   "id": "f4fa286c-a90e-4fda-afe9-6f6be6b02d65",
   "metadata": {},
   "outputs": [],
   "source": [
    "nonref_matched_df.columns"
   ]
  },
  {
   "cell_type": "markdown",
   "id": "ab79773d-f233-4ce8-9fb7-8697e471d182",
   "metadata": {},
   "source": [
    "### Nonreference genes reliability\n",
    "Assessing the reliability of DN and MTP nonreference genes by homology searches and expression analysis."
   ]
  },
  {
   "cell_type": "code",
   "execution_count": null,
   "id": "400c63f5-6011-4aef-b8ea-e8b3abee9bfa",
   "metadata": {},
   "outputs": [],
   "source": [
    "# Read tables\n",
    "dn_nonref_tsv = os.path.join(dn_nonref_analysis_dir, 'nonref_analysis.tsv')\n",
    "mtp_nonref_tsv = os.path.join(mtp_nonref_analysis_dir, 'nonref_analysis.tsv')\n",
    "dn_nonref_df = pd.read_csv(dn_nonref_tsv, sep='\\t', index_col=0)\n",
    "mtp_nonref_df = pd.read_csv(mtp_nonref_tsv, sep='\\t', index_col=0)"
   ]
  },
  {
   "cell_type": "code",
   "execution_count": null,
   "id": "35f1363e-281a-4f61-bfb4-60d6682bd151",
   "metadata": {},
   "outputs": [],
   "source": [
    "# Basic stats\n",
    "\n",
    "def nonref_stats(nonref_df, name='0'):\n",
    "    stats = ['Total nonreference','High similarity to reference', 'Truncated reference',\n",
    "         'Has plant homologs', 'Expressed', 'High quality candidates']\n",
    "    tot_nonref = nonref_df.shape[0]\n",
    "    high_sim_ref = nonref_df.query('identical_to_ref == 1').shape[0]\n",
    "    trunc_ref = nonref_df.query('truncated_ref == 1').shape[0]\n",
    "    has_homologs = nonref_df.query('has_homologs == 1').shape[0]\n",
    "    expressed = nonref_df.query('expressed == 1').shape[0]\n",
    "    hq = nonref_df.query('identical_to_ref == 0 and truncated_ref == 0 and (has_homologs == 1 or expressed == 1)').shape[0]\n",
    "    stat_vals = [tot_nonref, high_sim_ref, trunc_ref, has_homologs, expressed, hq]\n",
    "    return pd.DataFrame(stat_vals, index=stats, columns=[name])"
   ]
  },
  {
   "cell_type": "code",
   "execution_count": null,
   "id": "abca00e9-44b2-4615-ba18-76335991b3aa",
   "metadata": {},
   "outputs": [],
   "source": [
    "dn_nonref_stats = nonref_stats(dn_nonref_df, name='De novo')\n",
    "mtp_nonref_stats = nonref_stats(mtp_nonref_df, name='Map-to-pan')\n",
    "nonref_stats_df = pd.concat([dn_nonref_stats, mtp_nonref_stats], axis=1)\n",
    "nonref_stats_df"
   ]
  },
  {
   "cell_type": "code",
   "execution_count": null,
   "id": "25195f11-ede9-45fd-b826-4bd85a97ae5d",
   "metadata": {},
   "outputs": [],
   "source": [
    "# Overlap with matched nonreference genes\n",
    "dn_hq_candidates = dn_nonref_df.query(\n",
    "    'identical_to_ref == 0 and truncated_ref == 0 and (has_homologs == 1 or expressed == 1)'\n",
    ").index\n",
    "dn_hq_candidates = set(dn_hq_candidates)\n",
    "mtp_hq_candidates = mtp_nonref_df.query(\n",
    "    'identical_to_ref == 0 and truncated_ref == 0 and (has_homologs == 1 or expressed == 1)'\n",
    ").index\n",
    "mtp_hq_candidates = set(mtp_hq_candidates)\n",
    "\n",
    "n = nonref_matched_df.loc[nonref_matched_df['A_thaliana_DN_x50'].isin(dn_hq_candidates) & nonref_matched_df['A_thaliana_MTP_x50'].isin(mtp_hq_candidates)].shape[0]\n",
    "\n",
    "print('Matched nonreference which are also HQ candidates in both DN and MTP:')\n",
    "print(n)"
   ]
  },
  {
   "cell_type": "markdown",
   "id": "5e4941d1-0719-4a75-9ce2-5c7d9af76800",
   "metadata": {},
   "source": [
    "### DN+|MTP- mapping\n",
    "Analyzing the source of DN+|MTP- unmatched genes.\n",
    "First, check how many DN+|MTP- transcripts can be mapped to MTP novel sequences (use minimap2 output). Then check how many transcripts can be mapped to the reference genome."
   ]
  },
  {
   "cell_type": "code",
   "execution_count": null,
   "id": "68ce90a3-f561-487b-863f-de3a676e756a",
   "metadata": {},
   "outputs": [],
   "source": [
    "# create fasta file of DN+|MTP- transcripts\n",
    "dn_unmatched = set(dn_pg_pav_df.loc[(dn_pg_pav_df.index.str.startswith('PanGene')) & (~dn_pg_pav_df.index.isin(nonref_matched_df['A_thaliana_DN_x50']))].index)\n",
    "dn_unmatched_recs = []\n",
    "dn_trans_fasta = os.path.join(dn_pg, 'all_samples/pan_genome/pan_transcripts.fasta')\n",
    "dn_unmatched_trans_fasta = os.path.join(compare_dir, 'MANUAL/DN_unmatched_transcripts.fasta')\n",
    "for rec in SeqIO.parse(dn_trans_fasta, 'fasta'):\n",
    "    if rec.id in dn_unmatched:\n",
    "        dn_unmatched_recs.append(rec)\n",
    "\n",
    "SeqIO.write(dn_unmatched_recs,dn_unmatched_trans_fasta,'fasta')"
   ]
  },
  {
   "cell_type": "markdown",
   "id": "b9330ce1-157f-42e4-98ab-7758e2f3ffc2",
   "metadata": {},
   "source": [
    "Mapping DN+|MTP- transcripts to MTP novel sequences, using Minimap2:"
   ]
  },
  {
   "cell_type": "raw",
   "id": "15089634-fc18-49a6-aef5-79b086441127",
   "metadata": {},
   "source": [
    "minimap2 -x splice:hq -uf /groups/itay_mayrose_nosnap/liorglic/Projects/PGCM/output/A_thaliana_pan_genome/map_to_pan/x50/RESULT/all_samples/pan_genome/all_novel.fasta /groups/itay_mayrose_nosnap/liorglic/Projects/PGCM/output/A_thaliana_pan_genome/compare_pan_genomes/DN_x50_vs_MTP_x50/RESULT/MANUAL/DN_unmatched_transcripts.fasta > /groups/itay_mayrose_nosnap/liorglic/Projects/PGCM/output/A_thaliana_pan_genome/compare_pan_genomes/DN_x50_vs_MTP_x50/RESULT/MANUAL/DN_unmatched_transcripts_vs_MTP_novel.paf"
   ]
  },
  {
   "cell_type": "code",
   "execution_count": null,
   "id": "d14843b5-55c8-47ea-bc3b-b22502361b25",
   "metadata": {},
   "outputs": [],
   "source": [
    "# Load PAF\n",
    "dn_unmatched_trans_vs_mtp_novel_paf = os.path.join(compare_dir, 'MANUAL/DN_unmatched_transcripts_vs_MTP_novel.paf')\n",
    "paf_cols = ['Query_sequence_name', 'Query_sequence_length', 'Query_start',\n",
    "            'Query_end', 'Relative_strand', 'Target_sequence_name',\n",
    "            'Target_sequence_length', 'Target_start', 'Target_end',\n",
    "            'Number_of_residue_matches', 'Alignment_block_length', 'Mapping_quality']\n",
    "dn_unmatched_trans_vs_mtp_novel_df = pd.read_csv(dn_unmatched_trans_vs_mtp_novel_paf, sep='\\t', header=None, usecols=range(12))\n",
    "dn_unmatched_trans_vs_mtp_novel_df.columns = paf_cols\n",
    "# Calculate query coverage\n",
    "dn_unmatched_trans_vs_mtp_novel_df['Query_coverage'] = dn_unmatched_trans_vs_mtp_novel_df['Number_of_residue_matches'] / dn_unmatched_trans_vs_mtp_novel_df['Query_sequence_length']"
   ]
  },
  {
   "cell_type": "code",
   "execution_count": null,
   "id": "3fe1d1d0-d5bc-42aa-b3d4-eb04324122a0",
   "metadata": {},
   "outputs": [],
   "source": [
    "dn_unmatched_trans_mapped_to_mtp_novel = set(dn_unmatched_trans_vs_mtp_novel_df.query('Number_of_residue_matches/Query_sequence_length > 0.95')['Query_sequence_name'].unique())\n",
    "n = len(dn_unmatched_trans_mapped_to_mtp_novel)\n",
    "print('Number of DN+|MTP- genes successfully mapped to MTP novel:')\n",
    "print(n)"
   ]
  },
  {
   "cell_type": "markdown",
   "id": "fdaa1ec8-815b-477c-ba70-bc1ccf4a5d00",
   "metadata": {},
   "source": [
    "Mapping DN+|MTP- transcripts to the reference genome, using Minimap2:"
   ]
  },
  {
   "cell_type": "raw",
   "id": "56bfe100-d92f-4282-b065-d9235646dc4d",
   "metadata": {},
   "source": [
    "minimap2 -x splice:hq -uf /groups/itay_mayrose_nosnap/liorglic/Projects/PGCM/data/A_thaliana_ref/Arabidopsis_thaliana.TAIR10.dna.toplevel.fa /groups/itay_mayrose_nosnap/liorglic/Projects/PGCM/output/A_thaliana_pan_genome/compare_pan_genomes/DN_x50_vs_MTP_x50/RESULT/MANUAL/DN_unmatched_transcripts.fasta > \n",
    "/groups/itay_mayrose_nosnap/liorglic/Projects/PGCM/output/A_thaliana_pan_genome/compare_pan_genomes/DN_x50_vs_MTP_x50/RESULT/MANUAL/DN_unmatched_transcripts_vs_ref_genome.paf"
   ]
  },
  {
   "cell_type": "code",
   "execution_count": null,
   "id": "a286604c-2230-46c8-8046-e09aecde4e5a",
   "metadata": {},
   "outputs": [],
   "source": [
    "dn_unmatched_trans_vs_ref_genome_paf = os.path.join(compare_dir, 'MANUAL/DN_unmatched_transcripts_vs_ref_genome.paf')\n",
    "dn_unmatched_trans_vs_ref_genome_df = pd.read_csv(dn_unmatched_trans_vs_ref_genome_paf, sep='\\t', header=None, usecols=range(12))\n",
    "dn_unmatched_trans_vs_ref_genome_df.columns = paf_cols\n",
    "# Calculate query coverage\n",
    "dn_unmatched_trans_vs_ref_genome_df['Query_coverage'] = dn_unmatched_trans_vs_ref_genome_df['Number_of_residue_matches'] / dn_unmatched_trans_vs_ref_genome_df['Query_sequence_length']\n",
    "# keep only mappings with highest query coverage per transcript\n",
    "dn_unmatched_trans_vs_ref_genome_df = dn_unmatched_trans_vs_ref_genome_df.sort_values('Query_coverage', ascending=False).drop_duplicates('Query_sequence_name')"
   ]
  },
  {
   "cell_type": "code",
   "execution_count": null,
   "id": "frank-commander",
   "metadata": {},
   "outputs": [],
   "source": [
    "# remove DN+|MTP- which were mapped to MTP novel sequences\n",
    "dn_unmatched_trans_vs_ref_genome_df = dn_unmatched_trans_vs_ref_genome_df.loc[~ dn_unmatched_trans_vs_ref_genome_df['Query_sequence_name'].isin(dn_unmatched_trans_mapped_to_mtp_novel)]"
   ]
  },
  {
   "cell_type": "code",
   "execution_count": null,
   "id": "3b085a61-ca38-42d9-a83a-2366f8a9beb9",
   "metadata": {},
   "outputs": [],
   "source": [
    "n = dn_unmatched_trans_vs_ref_genome_df.query('Query_coverage > 0.95').shape[0]\n",
    "print('Number of DN+|MTP- genes successfully mapped to the reference genome:')\n",
    "print(n)"
   ]
  },
  {
   "cell_type": "markdown",
   "id": "23470265-dd1b-4fd5-954d-9a8d898123dd",
   "metadata": {},
   "source": [
    "Extract transcript mapping coordinates as BED and intersect with genes, to check if mapping to reference genes or to intergenic regions."
   ]
  },
  {
   "cell_type": "code",
   "execution_count": null,
   "id": "c334e685-f987-4096-aefb-911639857165",
   "metadata": {},
   "outputs": [],
   "source": [
    "bed_cols = ['Target_sequence_name', 'Target_start', 'Target_end', 'Query_sequence_name']\n",
    "dn_unmatched_trans_map_to_ref_bed_df = dn_unmatched_trans_vs_ref_genome_df.query('Query_coverage > 0.95')[bed_cols]"
   ]
  },
  {
   "cell_type": "code",
   "execution_count": null,
   "id": "dc341101-84bf-49cf-b09a-3ef7ead5c63b",
   "metadata": {},
   "outputs": [],
   "source": [
    "dn_unmatched_trans_map_to_ref_bed = os.path.join(compare_dir, 'MANUAL/DN_unmatched_transcripts_map_to_ref.bed')\n",
    "dn_unmatched_trans_map_to_ref_bed_df.to_csv(dn_unmatched_trans_map_to_ref_bed, sep='\\t', header=False, index=False)"
   ]
  },
  {
   "cell_type": "markdown",
   "id": "df5b5fda-ecd8-410d-b19d-2c24f3af7692",
   "metadata": {},
   "source": [
    "Use bedtools intersect with reference genes. Require 50% overlap."
   ]
  },
  {
   "cell_type": "raw",
   "id": "28e853ce-cd5a-4efb-9890-46b2a2cdb484",
   "metadata": {},
   "source": [
    "awk '$3 == \"gene\" {print $1\"\\t\"$4\"\\t\"$5}' /groups/itay_mayrose_nosnap/liorglic/Projects/PGCM/data/Arabidopsis_thaliana.TAIR10.45.gff3 > Arabidopsis_thaliana.TAIR10.45.genes.bed\n",
    "bedtools intersect -a DN_unmatched_transcripts_map_to_ref.bed -b Arabidopsis_thaliana.TAIR10.45.genes.bed -f 0.5 > DN_unmatched_transcripts_map_to_ref_gene_overlap_0.5.bed"
   ]
  },
  {
   "cell_type": "code",
   "execution_count": null,
   "id": "912add6d-e20a-45b3-9736-ddfa73916f39",
   "metadata": {},
   "outputs": [],
   "source": [
    "dn_unmatched_trans_map_to_ref_genes_intersect_bed = os.path.join(compare_dir, 'MANUAL/DN_unmatched_transcripts_map_to_ref_gene_overlap_0.5.bed')\n",
    "dn_unmatched_trans_map_to_ref_genes_intersect_bed_df = pd.read_csv(dn_unmatched_trans_map_to_ref_genes_intersect_bed, sep='\\t', names=bed_cols)"
   ]
  },
  {
   "cell_type": "code",
   "execution_count": null,
   "id": "5291150d-5162-4d46-8131-9afda39bd768",
   "metadata": {},
   "outputs": [],
   "source": [
    "n = len(dn_unmatched_trans_map_to_ref_genes_intersect_bed_df['Query_sequence_name'].unique())\n",
    "print('Number of DN+|MTP- genes successfully mapped to the reference genome and overlapping reference genes with at least 50%:')\n",
    "print(n)"
   ]
  },
  {
   "cell_type": "code",
   "execution_count": null,
   "id": "a4170f8c-5525-4ddd-94e0-a2813fd860d2",
   "metadata": {},
   "outputs": [],
   "source": [
    "dn_unmatched_trans_vs_ref_genome_df.query('Query_coverage > 0.2 & Query_coverage <= 0.95').shape"
   ]
  },
  {
   "cell_type": "markdown",
   "id": "threatened-growth",
   "metadata": {},
   "source": [
    "### DN-|MTP+ mapping\n",
    "Analyze the source of DN-|MTP+ nonreference genes"
   ]
  },
  {
   "cell_type": "code",
   "execution_count": null,
   "id": "working-three",
   "metadata": {},
   "outputs": [],
   "source": [
    "# create fasta files of DN-|MTP+ transcripts\n",
    "mtp_unmatched = set(mtp_pg_pav_df.loc[(mtp_pg_pav_df.index.str.startswith('PanGene')) & (~mtp_pg_pav_df.index.isin(nonref_matched_df['A_thaliana_MTP_x50']))].index)\n",
    "mtp_unmatched_recs = []\n",
    "mtp_prot_fasta = os.path.join(mtp_pg, 'all_samples/pan_genome/pan_proteome.fasta')\n",
    "mtp_unmatched_prot_fasta = os.path.join(compare_dir, 'MANUAL/MTP_unmatched_prot.fasta')\n",
    "for rec in SeqIO.parse(mtp_prot_fasta, 'fasta'):\n",
    "    if rec.id in mtp_unmatched:\n",
    "        mtp_unmatched_recs.append(rec)\n",
    "\n",
    "SeqIO.write(mtp_unmatched_recs,mtp_unmatched_prot_fasta,'fasta')"
   ]
  },
  {
   "cell_type": "code",
   "execution_count": null,
   "id": "b0f4288d-867c-4f00-9d9b-4f1312c769e8",
   "metadata": {},
   "outputs": [],
   "source": [
    "# create fasta files of DN+|DN- and DN-|DN+ transcripts\n",
    "dn_unmatched = set(dn_pg_pav_df.loc[(dn_pg_pav_df.index.str.startswith('PanGene')) & (~dn_pg_pav_df.index.isin(nonref_matched_df['A_thaliana_DN_x50']))].index)\n",
    "dn_unmatched_recs = []\n",
    "dn_prot_fasta = os.path.join(dn_pg, 'all_samples/pan_genome/pan_proteome.fasta')\n",
    "dn_unmatched_prot_fasta = os.path.join(compare_dir, 'MANUAL/DN_unmatched_prot.fasta')\n",
    "for rec in SeqIO.parse(dn_prot_fasta, 'fasta'):\n",
    "    if rec.id in dn_unmatched:\n",
    "        dn_unmatched_recs.append(rec)\n",
    "\n",
    "SeqIO.write(dn_unmatched_recs,dn_unmatched_prot_fasta,'fasta')"
   ]
  },
  {
   "cell_type": "markdown",
   "id": "alert-rescue",
   "metadata": {},
   "source": [
    "Mapping DN-|MTP+ transcripts to DN+|MTP- transcripts, using Minimap2. This is done in order to look for truncated genes."
   ]
  },
  {
   "cell_type": "raw",
   "id": "eec3dd2e-4ab6-4e62-aa16-22baacf2be31",
   "metadata": {},
   "source": [
    "cd /groups/itay_mayrose_nosnap/liorglic/Projects/PGCM/output/A_thaliana_pan_genome/compare_pan_genomes/DN_x50_vs_MTP_x50/RESULT/MANUAL\n",
    "makeblastdb -in DN_unmatched_prot.fasta -dbtype prot -input_type fasta\n",
    "blastp -query MTP_unmatched_prot.fasta -db DN_unmatched_prot.fasta -out .blast6 -max_target_seqs 1 -outfmt \"6 qseqid sseqid pident length mismatch gapopen qstart qend sstart send evalue bitscore qlen slen\""
   ]
  },
  {
   "cell_type": "code",
   "execution_count": null,
   "id": "04547e1d-30ea-44dc-8616-604e702703b9",
   "metadata": {},
   "outputs": [],
   "source": [
    "# Read blast result\n",
    "mtp_unmatched_prot_vs_dn_unmatched_prot_blast6 = \"/groups/itay_mayrose_nosnap/liorglic/Projects/PGCM/output/A_thaliana_pan_genome/compare_pan_genomes/DN_x50_vs_MTP_x50/RESULT/MANUAL/MTP_unmatched_prot_vs_DN_unmatched_prot.blast6\"\n",
    "blast_cols = [\"qseqid\", \"sseqid\", \"pident\", \"length\", \"mismatch\",\n",
    "              \"gapopen\", \"qstart\", \"qend\", \"sstart\", \"send\", \"evalue\",\n",
    "              \"bitscore\", \"qlen\", \"slen\"]\n",
    "mtp_unmatched_prot_vs_dn_unmatched_prot_df = pd.read_csv(mtp_unmatched_prot_vs_dn_unmatched_prot_blast6,\n",
    "                                                        sep='\\t', names=blast_cols)"
   ]
  },
  {
   "cell_type": "code",
   "execution_count": null,
   "id": "c6e83ca2-e056-4e6e-bea0-985c6f6c9214",
   "metadata": {},
   "outputs": [],
   "source": [
    "mtp_unmatched_prot_vs_dn_unmatched_prot_similar_df = mtp_unmatched_prot_vs_dn_unmatched_prot_df.query('pident > 95')\n",
    "mtp_unmatched_prot_vs_dn_unmatched_prot_similar_df['qseqid'].unique().shape[0]"
   ]
  },
  {
   "cell_type": "code",
   "execution_count": null,
   "id": "5dcd8e2f-f892-4942-89d1-5debc69402e8",
   "metadata": {},
   "outputs": [],
   "source": [
    "len_ratios = mtp_unmatched_prot_vs_dn_unmatched_prot_similar_df['qlen']/mtp_unmatched_prot_vs_dn_unmatched_prot_similar_df['slen']\n",
    "print(min(len_ratios), max(len_ratios))"
   ]
  },
  {
   "cell_type": "markdown",
   "id": "a0776bc8-6c24-4fa3-8a3b-a1f382823183",
   "metadata": {},
   "source": [
    "Mapping DN-|MTP+ to proteins derived from annotations of 7 accessions"
   ]
  },
  {
   "cell_type": "raw",
   "id": "138d4572-4926-449c-9481-b54429da8843",
   "metadata": {},
   "source": [
    "cd /groups/itay_mayrose_nosnap/liorglic/Projects/PGCM/output/A_thaliana_pan_genome/compare_pan_genomes/DN_x50_vs_MTP_x50/RESULT/MANUAL\n",
    "cat ../../../../de_novo/x50/RESULT/per_sample/*/annotation_*/EVM.filter.rename.prot.fasta | sed 's/ .*//' > all_DN_prot.fasta\n",
    "makeblastdb -in all_DN_prot.fasta -dbtype prot -input_type fasta\n",
    "blastp -query MTP_unmatched_prot.fasta -db all_DN_prot.fasta -out MTP_unmatched_prot_vs_DN_all_acc_prot.blast6 -max_target_seqs 1 -outfmt \"6 qseqid sseqid pident length mismatch gapopen qstart qend sstart send evalue bitscore qlen slen\""
   ]
  },
  {
   "cell_type": "code",
   "execution_count": null,
   "id": "70f5d7c6-9cfe-416e-b00c-42ec1ca54c1e",
   "metadata": {},
   "outputs": [],
   "source": [
    "# Read blast result\n",
    "mtp_unmatched_prot_vs_dn_acc_prot_blast6 = \"/groups/itay_mayrose_nosnap/liorglic/Projects/PGCM/output/A_thaliana_pan_genome/compare_pan_genomes/DN_x50_vs_MTP_x50/RESULT/MANUAL/MTP_unmatched_prot_vs_DN_all_acc_prot.blast6\"\n",
    "mtp_unmatched_prot_vs_dn_acc_prot_df = pd.read_csv(mtp_unmatched_prot_vs_dn_acc_prot_blast6,\n",
    "                                                        sep='\\t', names=blast_cols)"
   ]
  },
  {
   "cell_type": "code",
   "execution_count": null,
   "id": "1147f98f-83a4-4e28-82b7-f6f9b5915034",
   "metadata": {},
   "outputs": [],
   "source": [
    "mtp_unmatched_prot_vs_dn_acc_prot_df.query('pident > 95 & (qlen/slen > 0.9 | qlen/slen < 1.1)').loc[~ mtp_unmatched_prot_vs_dn_acc_prot_df['qseqid']\n",
    "                                                                                      .isin(mtp_unmatched_prot_vs_dn_unmatched_prot_similar_df['qseqid'])]['qseqid'].unique().shape[0]"
   ]
  },
  {
   "cell_type": "markdown",
   "id": "ff768f10-8d80-44b8-9187-b756e50b13ad",
   "metadata": {},
   "source": [
    "## Compare PAV matrices\n",
    "To compare occupancies and detect PA discrepancies between the pan-genomes, we focus on reference and matched nonreference genes. Genes which are considered core in both pan-genomes were removed too."
   ]
  },
  {
   "cell_type": "code",
   "execution_count": null,
   "id": "c8fe3977-66ea-4107-88b6-1d55e71d6572",
   "metadata": {},
   "outputs": [],
   "source": [
    "# remove unmatched genes\n",
    "dn_pg_pav_matched_df = dn_pg_pav_df.loc[(~dn_pg_pav_df.index.str.startswith('PanGene')) | (dn_pg_pav_df.index.isin(nonref_matched_df['A_thaliana_DN_x50']))]\n",
    "mtp_pg_pav_matched_df = mtp_pg_pav_df.loc[(~mtp_pg_pav_df.index.str.startswith('PanGene')) | (mtp_pg_pav_df.index.isin(nonref_matched_df['A_thaliana_MTP_x50']))]\n",
    "# rename MTP matched nonreference to match DN\n",
    "def tmp_func(x):\n",
    "    if x in nonref_matched_df['A_thaliana_MTP_x50'].unique():\n",
    "        return nonref_matched_df.loc[nonref_matched_df['A_thaliana_MTP_x50'] == x]['A_thaliana_DN_x50'].iloc[0]\n",
    "    else:\n",
    "        return x.replace(':','_')\n",
    "mtp_pg_pav_matched_df.index = mtp_pg_pav_matched_df.index.map(tmp_func)\n",
    "# sort rows and columns of PAV tables to get the same order\n",
    "dn_pg_pav_matched_df.sort_index(inplace=True)\n",
    "mtp_pg_pav_matched_df.sort_index(inplace=True)\n",
    "dn_pg_pav_matched_df = dn_pg_pav_matched_df[dn_pg_pav_matched_df.columns.sort_values()]\n",
    "mtp_pg_pav_matched_df = mtp_pg_pav_matched_df[mtp_pg_pav_matched_df.columns.sort_values()]"
   ]
  },
  {
   "cell_type": "code",
   "execution_count": null,
   "id": "effe5927-f8ca-415e-9ce3-c69900e75376",
   "metadata": {},
   "outputs": [],
   "source": [
    "assert all(dn_pg_pav_matched_df.columns == mtp_pg_pav_matched_df.columns) and all(dn_pg_pav_matched_df.index == mtp_pg_pav_matched_df.index)"
   ]
  },
  {
   "cell_type": "code",
   "execution_count": null,
   "id": "38835ac6-0846-4d7d-8439-55848441cc1d",
   "metadata": {},
   "outputs": [],
   "source": [
    "# Calculate occupancies\n",
    "dn_pg_matched_occup = dn_pg_pav_matched_df.sum(axis=1)\n",
    "mtp_pg_matched_occup = mtp_pg_pav_matched_df.sum(axis=1)\n",
    "# Core sets\n",
    "dn_pg_matched_core = set(dn_pg_matched_occup.loc[dn_pg_matched_occup == 8].index)\n",
    "mtp_pg_matched_core = set(mtp_pg_matched_occup.loc[mtp_pg_matched_occup == 8].index)\n",
    "# Core in both DN and MTP\n",
    "both_matched_core = dn_pg_matched_core.intersection(mtp_pg_matched_core)\n",
    "print(\"Number of genes which are core in both DN and MTP: %s\" % len(both_matched_core))\n",
    "print(\"Out of %s matched genes\" % len(dn_pg_matched_occup))"
   ]
  },
  {
   "cell_type": "code",
   "execution_count": null,
   "id": "d7f3cc4e-2af2-4b0b-a9ec-2a8134521ce9",
   "metadata": {},
   "outputs": [],
   "source": [
    "# remove genes which are core in both (keep noncore)\n",
    "dn_pg_pav_matched_noncore_df = dn_pg_pav_matched_df.loc[~ dn_pg_pav_matched_df.index.isin(both_matched_core)]\n",
    "mtp_pg_pav_matched_noncore_df = mtp_pg_pav_matched_df.loc[~ mtp_pg_pav_matched_df.index.isin(both_matched_core)]"
   ]
  },
  {
   "cell_type": "code",
   "execution_count": null,
   "id": "579a1f94-c7cf-4d5b-bb18-1ba30865233b",
   "metadata": {},
   "outputs": [],
   "source": [
    "# Discrepancies table\n",
    "discrep_df = dn_pg_pav_matched_noncore_df - mtp_pg_pav_matched_noncore_df\n",
    "# Remove reference Col-0\n",
    "discrep_df = discrep_df[[acc for acc in discrep_df.columns if acc != 'Col-0']]"
   ]
  },
  {
   "cell_type": "code",
   "execution_count": null,
   "id": "6aa9b978-543a-44bc-b10e-4a62252aa3f0",
   "metadata": {},
   "outputs": [],
   "source": [
    "# discrep per sample\n",
    "discrep_counts = []\n",
    "for s in samples_order[:-1]:\n",
    "    discrep_counts.append(discrep_df[s].value_counts()[[1,-1]])\n",
    "discrep_counts_df = pd.concat(discrep_counts, axis=1).transpose()\n",
    "discrep_counts_df.columns = ['DN+|MTP-','DN-/MTP+']\n",
    "discrep_counts_df"
   ]
  },
  {
   "cell_type": "code",
   "execution_count": null,
   "id": "c46c24c7-6952-4b1e-88d3-35fd6c393ff8",
   "metadata": {},
   "outputs": [],
   "source": [
    "# Count discrepancies per gene\n",
    "def count_discrep_types(row):\n",
    "    val_counts = row.value_counts()\n",
    "    for x in [0,-1,1]:\n",
    "        if x not in val_counts:\n",
    "            val_counts[x] = 0\n",
    "    return val_counts.sort_index()\n",
    "\n",
    "discrep_per_gene = discrep_df.apply(count_discrep_types, axis=1, result_type=\"expand\")\n",
    "discrep_per_gene.columns = ['DN-|MTP+', 'match', 'DN+|MTP-']"
   ]
  },
  {
   "cell_type": "code",
   "execution_count": null,
   "id": "30d9ee29-8232-4483-a7f5-babc62f6ce5b",
   "metadata": {},
   "outputs": [],
   "source": [
    "discrep_per_gene.head()"
   ]
  },
  {
   "cell_type": "code",
   "execution_count": null,
   "id": "c4d20437-d953-4a33-b446-2e7150ce7de3",
   "metadata": {},
   "outputs": [],
   "source": [
    "# How many with at least one discrepancy?\n",
    "discrep_per_gene.query('match != 7').shape[0]"
   ]
  },
  {
   "cell_type": "code",
   "execution_count": null,
   "id": "f3927ae3-fad0-468f-ae35-d570c62f14d5",
   "metadata": {},
   "outputs": [],
   "source": [
    "# Sum across all genes\n",
    "tot_discrep_types = discrep_per_gene.sum()\n",
    "tot_pav_calls = tot_discrep_types.sum()\n",
    "print(\"Total PAV calls: %s\" % tot_pav_calls)\n",
    "tot_discrep_types"
   ]
  },
  {
   "cell_type": "markdown",
   "id": "fe88622e-a941-4c91-92e5-325c5557ca26",
   "metadata": {},
   "source": [
    "#### MTP vs IA\n",
    "PAV discrepancies between MTP and IA"
   ]
  },
  {
   "cell_type": "code",
   "execution_count": null,
   "id": "2902cc17-0ded-4237-a5d4-8bdeefd6f7ce",
   "metadata": {
    "tags": []
   },
   "outputs": [],
   "source": [
    "ia_mtp_nonref_matched = compare_ia_mtp_dir + '/A_thaliana_MTP_x50_vs_A_thaliana_IA_x50_bowtie2_max_weight_matches.tsv'\n",
    "ia_mtp_nonref_matched_df = pd.read_csv(ia_mtp_nonref_matched, sep='\\t')"
   ]
  },
  {
   "cell_type": "code",
   "execution_count": null,
   "id": "f189c9cf-18eb-4e77-9856-d09b9a5a0c26",
   "metadata": {
    "tags": []
   },
   "outputs": [],
   "source": [
    "# remove unmatched genes\n",
    "ia_pg_pav_matched_df = ia_pg_pav_df.loc[(~ia_pg_pav_df.index.str.startswith('PanGene')) | (ia_pg_pav_df.index.isin(ia_mtp_nonref_matched_df['A_thaliana_IA_x50_bowtie2']))]\n",
    "mtp_pg_pav_matched_df = mtp_pg_pav_df.loc[(~mtp_pg_pav_df.index.str.startswith('PanGene')) | (mtp_pg_pav_df.index.isin(ia_mtp_nonref_matched_df['A_thaliana_MTP_x50']))]"
   ]
  },
  {
   "cell_type": "code",
   "execution_count": null,
   "id": "22fcf1e2-005e-4a01-8f1a-3f433a690b7d",
   "metadata": {
    "tags": []
   },
   "outputs": [],
   "source": [
    "# replace \":\" with \"_\" in ref gene names of IA\n",
    "ia_pg_pav_matched_df.index = pd.Series(ia_pg_pav_matched_df.index).apply(lambda x: x.replace(':','_'))"
   ]
  },
  {
   "cell_type": "code",
   "execution_count": null,
   "id": "2a8806ff-7f9a-4f17-9ae7-2c05a51d68f7",
   "metadata": {},
   "outputs": [],
   "source": [
    "# rename MTP matched nonreference to match IA\n",
    "def tmp_func(x):\n",
    "    if x in ia_mtp_nonref_matched_df['A_thaliana_MTP_x50'].unique():\n",
    "        return ia_mtp_nonref_matched_df.loc[ia_mtp_nonref_matched_df['A_thaliana_MTP_x50'] == x]['A_thaliana_IA_x50_bowtie2'].iloc[0]\n",
    "    else:\n",
    "        return x.replace(':','_')\n",
    "mtp_pg_pav_matched_df.index = mtp_pg_pav_matched_df.index.map(tmp_func)"
   ]
  },
  {
   "cell_type": "code",
   "execution_count": null,
   "id": "4c30942c-d19d-4921-8f50-f9a2516b08f1",
   "metadata": {
    "tags": []
   },
   "outputs": [],
   "source": [
    "# sort rows and columns of PAV tables to get the same order\n",
    "ia_pg_pav_matched_df.sort_index(inplace=True)\n",
    "mtp_pg_pav_matched_df.sort_index(inplace=True)\n",
    "ia_pg_pav_matched_df = ia_pg_pav_matched_df[ia_pg_pav_matched_df.columns.sort_values()]\n",
    "mtp_pg_pav_matched_df = mtp_pg_pav_matched_df[mtp_pg_pav_matched_df.columns.sort_values()]"
   ]
  },
  {
   "cell_type": "code",
   "execution_count": null,
   "id": "19c9d329-3865-4565-a69e-c9ef8a0c341d",
   "metadata": {
    "tags": []
   },
   "outputs": [],
   "source": [
    "assert all(ia_pg_pav_matched_df.columns == mtp_pg_pav_matched_df.columns) and all(ia_pg_pav_matched_df.index == mtp_pg_pav_matched_df.index)"
   ]
  },
  {
   "cell_type": "code",
   "execution_count": null,
   "id": "1cb70981-f60e-430e-8770-0840f7b1c7b2",
   "metadata": {
    "tags": []
   },
   "outputs": [],
   "source": [
    "# Calculate occupancies\n",
    "ia_pg_matched_occup = ia_pg_pav_matched_df.sum(axis=1)\n",
    "mtp_pg_matched_occup = mtp_pg_pav_matched_df.sum(axis=1)\n",
    "# Core sets\n",
    "ia_pg_matched_core = set(ia_pg_matched_occup.loc[ia_pg_matched_occup == 8].index)\n",
    "mtp_pg_matched_core = set(mtp_pg_matched_occup.loc[mtp_pg_matched_occup == 8].index)\n",
    "# Core in both DN and MTP\n",
    "both_matched_core = ia_pg_matched_core.intersection(mtp_pg_matched_core)\n",
    "print(\"Number of genes which are core in both IA and MTP: %s\" % len(both_matched_core))\n",
    "print(\"Out of %s matched genes\" % len(ia_pg_matched_occup))"
   ]
  },
  {
   "cell_type": "code",
   "execution_count": null,
   "id": "242417ca-4153-46d7-9bc5-9faf469102f6",
   "metadata": {
    "tags": []
   },
   "outputs": [],
   "source": [
    "# remove genes which are core in both (keep noncore)\n",
    "ia_pg_pav_matched_noncore_df = ia_pg_pav_matched_df.loc[~ ia_pg_pav_matched_df.index.isin(both_matched_core)]\n",
    "mtp_pg_pav_matched_noncore_df = mtp_pg_pav_matched_df.loc[~ mtp_pg_pav_matched_df.index.isin(both_matched_core)]"
   ]
  },
  {
   "cell_type": "code",
   "execution_count": null,
   "id": "2464aa9f-aef9-4037-b219-b2b96e113532",
   "metadata": {
    "tags": []
   },
   "outputs": [],
   "source": [
    "# Discrepancies table\n",
    "discrep_ia_mtp_df = ia_pg_pav_matched_noncore_df - mtp_pg_pav_matched_noncore_df\n",
    "# Remove reference Col-0\n",
    "discrep_ia_mtp_df = discrep_ia_mtp_df[[acc for acc in discrep_ia_mtp_df.columns if acc != 'Col-0']]"
   ]
  },
  {
   "cell_type": "code",
   "execution_count": null,
   "id": "507903ee-bad7-483b-81aa-8bfbfb5692db",
   "metadata": {
    "tags": []
   },
   "outputs": [],
   "source": [
    "# Count discrepancies per gene\n",
    "discrep_per_gene_ia_mtp = discrep_ia_mtp_df.apply(count_discrep_types, axis=1, result_type=\"expand\")\n",
    "discrep_per_gene_ia_mtp.columns = ['IA-|MTP+', 'match', 'IA+|MTP-']"
   ]
  },
  {
   "cell_type": "code",
   "execution_count": null,
   "id": "2b908c6d-bbcf-42a1-8667-f2f86f851b94",
   "metadata": {
    "tags": []
   },
   "outputs": [],
   "source": [
    "discrep_per_gene_ia_mtp.shape"
   ]
  },
  {
   "cell_type": "code",
   "execution_count": null,
   "id": "1b489144-65f4-4876-a1ea-42659d1d425f",
   "metadata": {
    "tags": []
   },
   "outputs": [],
   "source": [
    "# How many with at least one discrepancy?\n",
    "discrep_per_gene_ia_mtp.query('match != 7').shape[0]"
   ]
  },
  {
   "cell_type": "code",
   "execution_count": null,
   "id": "67c22de6-0ea5-48da-81d4-84afd57f7d4c",
   "metadata": {},
   "outputs": [],
   "source": []
  },
  {
   "cell_type": "code",
   "execution_count": null,
   "id": "b07706ae-a2d3-4dd2-bbec-2a94a06c37fa",
   "metadata": {
    "tags": []
   },
   "outputs": [],
   "source": [
    "# Sum across all genes\n",
    "tot_discrep_types = discrep_per_gene_ia_mtp.sum()\n",
    "tot_pav_calls = tot_discrep_types.sum()\n",
    "print(\"Total PAV calls: %s\" % tot_pav_calls)\n",
    "tot_discrep_types"
   ]
  },
  {
   "cell_type": "markdown",
   "id": "8fed684c-65c0-4b33-9dc9-0f60b408235a",
   "metadata": {},
   "source": [
    "### Mapping DN-|MTP+ discrepancies\n",
    "Mapping transcript sequences of DN-|MTP+ to the specific DN genomes in which they are missing.  \n",
    "This allows us to determine whether they are missing because of assembly or because of annotation."
   ]
  },
  {
   "cell_type": "code",
   "execution_count": null,
   "id": "64617bb2-d5f5-48b9-b5bf-12d609af0c4c",
   "metadata": {},
   "outputs": [],
   "source": [
    "# create required fastas with transcripts - fasta per accession\n",
    "mtp_trans_fasta = os.path.join(mtp_pg, 'all_samples/pan_genome/pan_transcripts.fasta')\n",
    "out_dir = compare_dir + '/MANUAL'\n",
    "discrep_genes = {}\n",
    "for acc in discrep_df.columns:\n",
    "    discrep_genes[acc] = {}\n",
    "    acc_discrep_genes = set(discrep_df.loc[discrep_df[acc] == -1].index)\n",
    "    acc_discrep_genes = {g.replace(\"_\",':') for g in acc_discrep_genes if not g.startswith('PanGene')}\n",
    "    discrep_genes[acc]['genes'] = acc_discrep_genes\n",
    "    discrep_genes[acc]['fh'] = open(os.path.join(out_dir,\"%s_DN-_MTP+_discrep_trans.fasta\" % acc), 'w')\n",
    "\n",
    "for rec in SeqIO.parse(mtp_trans_fasta, 'fasta'):\n",
    "    for acc in discrep_genes:\n",
    "        if rec.id in discrep_genes[acc]['genes']:\n",
    "            print(rec.format('fasta'), file=discrep_genes[acc]['fh'], end='')\n",
    "\n",
    "for acc in discrep_genes:\n",
    "    discrep_genes[acc]['fh'].close()"
   ]
  },
  {
   "cell_type": "markdown",
   "id": "8961115c-1c82-4ff3-8951-66137dbc986c",
   "metadata": {},
   "source": [
    "Mapping transcripts to 50x and HQ assemblies"
   ]
  },
  {
   "cell_type": "raw",
   "id": "540e3c45-8a02-4712-ab41-2d94b79070ab",
   "metadata": {},
   "source": [
    "minimap2 -x splice:hq -uf ../../../../de_novo/x50/RESULT/per_sample/An-1/RG_assembly_ERR3624579/ragtag_output/ragtag.scaffolds.fasta An-1_DN-_MTP+_discrep_trans.fasta > An-1_DN-_MTP+_discrep_trans_vs_DN_genome.paf\n",
    "minimap2 -x splice:hq -uf ../../../../de_novo/HQ_assembly/RESULT/per_sample/An-1/RG_assembly_ERR3624579/ragtag_output/ragtag.scaffolds.fasta An-1_DN-_MTP+_discrep_trans.fasta > An-1_DN-_MTP+_discrep_trans_vs_HQ_genome.paf\n",
    "\n",
    "minimap2 -x splice:hq -uf ../../../../de_novo/x50/RESULT/per_sample/C24/RG_assembly_ERR3624577/ragtag_output/ragtag.scaffolds.fasta C24_DN-_MTP+_discrep_trans.fasta > C24_DN-_MTP+_discrep_trans_vs_DN_genome.paf\n",
    "minimap2 -x splice:hq -uf ../../../../de_novo/HQ_assembly/RESULT/per_sample/C24/RG_assembly_ERR3624577/ragtag_output/ragtag.scaffolds.fasta C24_DN-_MTP+_discrep_trans.fasta > C24_DN-_MTP+_discrep_trans_vs_HQ_genome.paf\n",
    "\n",
    "minimap2 -x splice:hq -uf ../../../../de_novo/x50/RESULT/per_sample/Cvi-0/RG_assembly_ERR3624578/ragtag_output/ragtag.scaffolds.fasta Cvi-0_DN-_MTP+_discrep_trans.fasta > Cvi-0_DN-_MTP+_discrep_trans_vs_DN_genome.paf\n",
    "minimap2 -x splice:hq -uf ../../../../de_novo/HQ_assembly/RESULT/per_sample/Cvi-0/RG_assembly_ERR3624578/ragtag_output/ragtag.scaffolds.fasta Cvi-0_DN-_MTP+_discrep_trans.fasta > Cvi-0_DN-_MTP+_discrep_trans_vs_HQ_genome.paf\n",
    "\n",
    "minimap2 -x splice:hq -uf ../../../../de_novo/x50/RESULT/per_sample/Eri/RG_assembly_ERR3624573//ragtag_output/ragtag.scaffolds.fasta Eri_DN-_MTP+_discrep_trans.fasta > Eri_DN-_MTP+_discrep_trans_vs_DN_genome.paf\n",
    "minimap2 -x splice:hq -uf ../../../../de_novo/HQ_assembly/RESULT/per_sample/Eri/RG_assembly_ERR3624573//ragtag_output/ragtag.scaffolds.fasta Eri_DN-_MTP+_discrep_trans.fasta > Eri_DN-_MTP+_discrep_trans_vs_HQ_genome.paf\n",
    "\n",
    "minimap2 -x splice:hq -uf ../../../../de_novo/x50/RESULT/per_sample/Kyo/RG_assembly_ERR3624576//ragtag_output/ragtag.scaffolds.fasta Kyo_DN-_MTP+_discrep_trans.fasta > Kyo_DN-_MTP+_discrep_trans_vs_DN_genome.paf\n",
    "minimap2 -x splice:hq -uf ../../../../de_novo/HQ_assembly/RESULT/per_sample/Kyo/RG_assembly_ERR3624576//ragtag_output/ragtag.scaffolds.fasta Kyo_DN-_MTP+_discrep_trans.fasta > Kyo_DN-_MTP+_discrep_trans_vs_HQ_genome.paf\n",
    "\n",
    "minimap2 -x splice:hq -uf ../../../../de_novo/x50/RESULT/per_sample/Ler/RG_assembly_ERR3624574//ragtag_output/ragtag.scaffolds.fasta Ler_DN-_MTP+_discrep_trans.fasta > Ler_DN-_MTP+_discrep_trans_vs_DN_genome.paf\n",
    "minimap2 -x splice:hq -uf ../../../../de_novo/HQ_assembly/RESULT/per_sample/Ler/RG_assembly_ERR3624574//ragtag_output/ragtag.scaffolds.fasta Ler_DN-_MTP+_discrep_trans.fasta > Ler_DN-_MTP+_discrep_trans_vs_HQ_genome.paf\n",
    "\n",
    "minimap2 -x splice:hq -uf ../../../../de_novo/x50/RESULT/per_sample/Sha/RG_assembly_ERR3624575//ragtag_output/ragtag.scaffolds.fasta Sha_DN-_MTP+_discrep_trans.fasta > Sha_DN-_MTP+_discrep_trans_vs_DN_genome.paf\n",
    "minimap2 -x splice:hq -uf ../../../../de_novo/HQ_assembly/RESULT/per_sample/Sha/RG_assembly_ERR3624575//ragtag_output/ragtag.scaffolds.fasta Sha_DN-_MTP+_discrep_trans.fasta > Sha_DN-_MTP+_discrep_trans_vs_HQ_genome.paf"
   ]
  },
  {
   "cell_type": "code",
   "execution_count": null,
   "id": "6fbdfc35-ccfd-4501-bb3d-4c0823de474c",
   "metadata": {},
   "outputs": [],
   "source": [
    "def mapped_transcripts(paf_path, min_map=0.9):\n",
    "    paf_df = pd.read_csv(paf_path, sep='\\t', header=None, usecols=range(12))\n",
    "    paf_df.columns = paf_cols\n",
    "    return set(paf_df.query('Number_of_residue_matches/Query_sequence_length >= @min_map')['Query_sequence_name'])"
   ]
  },
  {
   "cell_type": "code",
   "execution_count": null,
   "id": "e844f14a-8921-4a91-9969-a175f1b4ad20",
   "metadata": {},
   "outputs": [],
   "source": [
    "mapped_trans = {}\n",
    "for acc in discrep_df.columns:\n",
    "    mapped_trans[acc] = {}\n",
    "\n",
    "    paf_x50 = os.path.join(out_dir, '%s_DN-_MTP+_discrep_trans_vs_DN_genome.paf' % acc)\n",
    "    paf_hq = os.path.join(out_dir, '%s_DN-_MTP+_discrep_trans_vs_HQ_genome.paf' % acc)\n",
    "    \n",
    "    mapped_trans[acc]['x50'] = mapped_transcripts(paf_x50)\n",
    "    mapped_trans[acc]['HQ'] = mapped_transcripts(paf_hq)"
   ]
  },
  {
   "cell_type": "code",
   "execution_count": null,
   "id": "4cb65daa-2c0f-4e13-96bc-b7e153b160cf",
   "metadata": {},
   "outputs": [],
   "source": [
    "# How many DN-|MTP+ transcripts?\n",
    "sum([len(discrep_genes[acc]['genes']) for acc in discrep_genes])"
   ]
  },
  {
   "cell_type": "code",
   "execution_count": null,
   "id": "8f7b337e-af5d-446c-b13c-81260106f7f4",
   "metadata": {},
   "outputs": [],
   "source": [
    "# How many mapped to x50\n",
    "tot_mapped_to_x50 = sum([len(mapped_trans[acc]['x50']) for acc in discrep_df.columns])\n",
    "tot_mapped_to_x50"
   ]
  },
  {
   "cell_type": "code",
   "execution_count": null,
   "id": "c2d65e02-d7dc-4f7b-8364-be5d942a544e",
   "metadata": {},
   "outputs": [],
   "source": [
    "# How many mapped to HQ assembly but not x50 assembly?\n",
    "tot_mapped_to_hq = sum([len(mapped_trans[acc]['HQ'] - mapped_trans[acc]['x50']) for acc in discrep_df.columns])\n",
    "tot_mapped_to_hq"
   ]
  }
 ],
 "metadata": {
  "kernelspec": {
   "display_name": "Python 3 (ipykernel)",
   "language": "python",
   "name": "python3"
  },
  "language_info": {
   "codemirror_mode": {
    "name": "ipython",
    "version": 3
   },
   "file_extension": ".py",
   "mimetype": "text/x-python",
   "name": "python",
   "nbconvert_exporter": "python",
   "pygments_lexer": "ipython3",
   "version": "3.10.10"
  }
 },
 "nbformat": 4,
 "nbformat_minor": 5
}
