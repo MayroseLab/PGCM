{
 "cells": [
  {
   "cell_type": "markdown",
   "id": "1354a5ff-d000-4fae-b0fd-08dd31489775",
   "metadata": {},
   "source": [
    "# Pan-genomes meta analysis\n",
    "This notebook contains a meta-analysis of previously published pan-genomes.  \n",
    "Gene PAV matrices were downloaded and parsed in a uniform way to allow direct comparison."
   ]
  },
  {
   "cell_type": "code",
   "execution_count": null,
   "id": "f575a5f0-25e5-4b5d-9ed4-4e6d8c6367d7",
   "metadata": {},
   "outputs": [],
   "source": [
    "import os\n",
    "import pandas as pd\n",
    "import plotly.express as px\n",
    "import plotly.io as pio\n",
    "from scipy.stats import ttest_ind"
   ]
  },
  {
   "cell_type": "code",
   "execution_count": null,
   "id": "7de8c41b-c7ef-496e-ac3f-c1141600e8c7",
   "metadata": {},
   "outputs": [],
   "source": [
    "pio.templates.default = \"plotly_white\"\n",
    "colors = ['grey','purple','darkgreen','lightblue','orange']"
   ]
  },
  {
   "cell_type": "markdown",
   "id": "c5120c55-303a-438c-b2b8-019418149d21",
   "metadata": {},
   "source": [
    "## Paths"
   ]
  },
  {
   "cell_type": "code",
   "execution_count": null,
   "id": "6295f9a6-ca78-49c7-a5d5-1cd5082d5240",
   "metadata": {},
   "outputs": [],
   "source": [
    "pg_meta_dir = \"/groups/itay_mayrose_nosnap/liorglic/Projects/PGCM/data/PG_meta\""
   ]
  },
  {
   "cell_type": "code",
   "execution_count": null,
   "id": "c5aefbd6-094f-419f-878c-176a8b888aa0",
   "metadata": {},
   "outputs": [],
   "source": [
    "figs_path = \"/groups/itay_mayrose_nosnap/liorglic/Projects/PGCM/figs/FINAL\""
   ]
  },
  {
   "cell_type": "markdown",
   "id": "7bcb75b4-24e0-4911-96b1-4041c55c362f",
   "metadata": {},
   "source": [
    "## Data loading\n",
    "The input files were downloaded, and in some cases modified, manually.  \n",
    "The end goal is a simple DF for each PG : | gene | % presence |"
   ]
  },
  {
   "cell_type": "code",
   "execution_count": null,
   "id": "51424e83-a39a-40d8-a85a-553fecfe640c",
   "metadata": {},
   "outputs": [],
   "source": [
    "def load_soybean_205():\n",
    "    in_csv = os.path.join(pg_meta_dir, \"soybean_205/soybean_PAV.csv\")\n",
    "    df = pd.read_csv(in_csv, index_col=0, usecols=['Gene/Accession','%'], skipfooter=1)\n",
    "    df.index.name = 'gene'\n",
    "    df.columns = ['presence_perc']\n",
    "    return df\n",
    "\n",
    "def load_B_napus_9():\n",
    "    in_tsv = os.path.join(pg_meta_dir, \"B_napus_9/geneclusters_presence.txt\")\n",
    "    df = pd.read_csv(in_tsv, sep='\\t', index_col=0)\n",
    "    df.index.name = 'gene'\n",
    "    df['presence_perc'] = df.sum(axis=1)/df.shape[1]*100\n",
    "    df = df[['presence_perc']]\n",
    "    return df\n",
    "\n",
    "def load_sunflower():\n",
    "    in_tsv = os.path.join(pg_meta_dir, \"sunflower/mat_CV3.txt\")\n",
    "    df = pd.read_csv(in_tsv, sep='\\t', index_col=0).fillna(0).applymap(lambda x: 1 if x > 0 else 0)\n",
    "    df.index.name = 'gene'\n",
    "    df['presence_perc'] = df.sum(axis=1)/df.shape[1]*100\n",
    "    df = df[['presence_perc']]\n",
    "    return df\n",
    "\n",
    "def load_tomato():\n",
    "    variable_csv = os.path.join(pg_meta_dir, \"tomato/tomato_variable.csv\")\n",
    "    core_csv = os.path.join(pg_meta_dir, \"tomato/tomato_core.csv\")\n",
    "    var_df = pd.read_csv(variable_csv, index_col=0)\n",
    "    var_df['presence_perc'] = var_df.sum(axis=1)/var_df.shape[1]*100\n",
    "    var_df = var_df[['presence_perc']]\n",
    "    core_df = pd.read_csv(core_csv, index_col=0)\n",
    "    core_df['presence_perc'] = 100\n",
    "    df = pd.concat([core_df, var_df])\n",
    "    df.index.name = 'gene'\n",
    "    return df\n",
    "\n",
    "def load_B_distachyon():\n",
    "    in_tsv = os.path.join(pg_meta_dir, \"B_distachyon/pangenome_matrix_published.tsv\")\n",
    "    df = pd.read_csv(in_tsv, sep='\\t', index_col=0).applymap(lambda x: 1 if x > 0 else 0)\n",
    "    df.index.name = 'gene'\n",
    "    df['presence_perc'] = df.sum(axis=1)/df.shape[1]*100\n",
    "    df = df[['presence_perc']]\n",
    "    return df\n",
    "    \n",
    "def load_B_napus_53():\n",
    "    in_csv = os.path.join(pg_meta_dir, \"B_napus_53/BnaPan.PAV.table.csv\")\n",
    "    df = pd.read_csv(in_csv, index_col=3)\n",
    "    df.index.name = 'gene'\n",
    "    df = df[df.columns[3:]]\n",
    "    df = df.applymap(lambda x: 1 if x == \"PRESENT\" else 0)\n",
    "    df['presence_perc'] = df.sum(axis=1)/df.shape[1]*100\n",
    "    df = df[['presence_perc']]\n",
    "    return df\n",
    "\n",
    "def load_B_oleracea():\n",
    "    in_vcf = os.path.join(pg_meta_dir, \"B_oleracea/BOLEPan.pav.13062016.vcf\")\n",
    "    df = pd.read_csv(in_vcf, sep='\\t', index_col=2)\n",
    "    df.index.name = 'gene'\n",
    "    df = df[df.columns[8:]]\n",
    "    df = df.applymap(lambda x: 1 if x == \"1/1\" else 0)\n",
    "    df['presence_perc'] = df.sum(axis=1)/df.shape[1]*100\n",
    "    df = df[['presence_perc']]\n",
    "    return df\n",
    "\n",
    "def load_rice_67():\n",
    "    in_csv = os.path.join(pg_meta_dir, \"rice_67/rice_PAV.csv\")\n",
    "    df = pd.read_csv(in_csv)\n",
    "    df = pd.DataFrame(df[df.columns[-1]])\n",
    "    df.index.name = 'gene'\n",
    "    df.columns = ['presence_perc']\n",
    "    df['presence_perc'] = df['presence_perc']/67*100\n",
    "    return df\n",
    "\n",
    "def load_rice_453():\n",
    "    in_tsv = os.path.join(pg_meta_dir, \"rice_453/GenePAV.txt\")\n",
    "    df = pd.read_csv(in_tsv, sep='\\t', index_col=0)\n",
    "    df.index.name = 'gene'\n",
    "    df['presence_perc'] = df.sum(axis=1)/df.shape[1]*100\n",
    "    df = df[['presence_perc']]\n",
    "    return df\n",
    "\n",
    "def load_pigeon_pea():\n",
    "    in_csv = os.path.join(pg_meta_dir, \"pigeon_pea/pigeon_pea_PAV.csv\")\n",
    "    df = pd.read_csv(in_csv, index_col=0)\n",
    "    df['presence_perc'] = df[\"Number of accessions containing the gene\"]/89*100\n",
    "    df.index.name = 'gene'\n",
    "    df = df[['presence_perc']]\n",
    "    return df\n",
    "\n",
    "def load_eggplant():\n",
    "    in_csv = os.path.join(pg_meta_dir, \"eggplant/eggplant_PAV.csv\")\n",
    "    df = pd.read_csv(in_csv, index_col=0)\n",
    "    df['presence_perc'] = df[\"N accessions present\"]/26*100\n",
    "    df.index.name = 'gene'\n",
    "    df = df[['presence_perc']]\n",
    "    return df\n",
    "    \n",
    "def load_apple():\n",
    "    variable_csv = os.path.join(pg_meta_dir, \"apple/apple_variable.csv\")\n",
    "    core_csv = os.path.join(pg_meta_dir, \"apple/apple_core.csv\")\n",
    "    var_df = pd.read_csv(variable_csv, index_col=0)\n",
    "    var_df['presence_perc'] = var_df.sum(axis=1)/var_df.shape[1]*100\n",
    "    var_df = var_df[['presence_perc']]\n",
    "    core_df = pd.read_csv(core_csv, index_col=0)\n",
    "    core_df['presence_perc'] = 100\n",
    "    df = pd.concat([core_df, var_df])\n",
    "    df.index.name = 'gene'\n",
    "    return df\n",
    "\n",
    "def load_M_truncatula():\n",
    "    in_tsv = os.path.join(pg_meta_dir, \"M_truncatula/21.pan16.syntelog.tsv\")\n",
    "    df = pd.read_csv(in_tsv, sep='\\t', index_col=0)\n",
    "    df = df.applymap(lambda x: 0 if x == '-' else 1)\n",
    "    df['presence_perc'] = df.sum(axis=1)/df.shape[1]*100\n",
    "    df = df[['presence_perc']]\n",
    "    df.index.name = 'gene'\n",
    "    return df\n",
    "\n",
    "def load_maize():\n",
    "    in_csv = os.path.join(pg_meta_dir, \"maize/pan_gene_matrix_v3_cyverse.csv\")\n",
    "    df = pd.read_csv(in_csv, index_col=0, usecols=list(range(3,30))).fillna(0)\n",
    "    df = df.applymap(lambda x: 0 if x == 0 else 1)\n",
    "    df['presence_perc'] = df.sum(axis=1)/df.shape[1]*100\n",
    "    df = df[['presence_perc']]\n",
    "    df.index.name = 'gene'\n",
    "    return df\n",
    "\n",
    "def load_cucumber():\n",
    "    in_csv = os.path.join(pg_meta_dir, \"cucumber/331122_1_data_set_6054985_r2g6vg.csv\")\n",
    "    df = pd.read_csv(in_csv, index_col=0)\n",
    "    df = df.applymap(lambda x: 0 if x in {'-','UA'} else 1)\n",
    "    df['presence_perc'] = df.sum(axis=1)/df.shape[1]*100\n",
    "    df = df[['presence_perc']]\n",
    "    df.index.name = 'gene'\n",
    "    return df    "
   ]
  },
  {
   "cell_type": "code",
   "execution_count": null,
   "id": "72638062-4d54-4472-9161-3e4070c46725",
   "metadata": {},
   "outputs": [],
   "source": [
    "pg_meta_df = pd.read_csv(os.path.join(pg_meta_dir, \"PG_meta.tsv\"), sep='\\t')"
   ]
  },
  {
   "cell_type": "markdown",
   "id": "b6860c7f-d60c-4d19-8b8a-1dc8c3d5bc27",
   "metadata": {},
   "source": [
    "## Pan-genome stats\n",
    "Calculate stats regarding pan-genomes compositions."
   ]
  },
  {
   "cell_type": "code",
   "execution_count": null,
   "id": "f33ba6ec-54c7-48a5-a94b-acc57bc5abf1",
   "metadata": {},
   "outputs": [],
   "source": [
    "# dict of PG DFs\n",
    "pg_dict = {}\n",
    "for pg in pg_meta_df['Pan-genome']:\n",
    "    pg_dict[pg] = globals()['load_' + pg].__call__()"
   ]
  },
  {
   "cell_type": "code",
   "execution_count": null,
   "id": "fe2cf68a-39f7-4d86-8efd-fe9906b650f3",
   "metadata": {},
   "outputs": [],
   "source": [
    "def perc_core(pg_df, c=95):\n",
    "    \"\"\"c is the min % to count as core\"\"\"\n",
    "    return pg_df.query('presence_perc >= @c').shape[0]/pg_df.shape[0]*100\n",
    "\n",
    "def mean_presence(pg_df):\n",
    "    \"\"\"Mean % of presennce across genes\"\"\"\n",
    "    return pg_df['presence_perc'].mean()"
   ]
  },
  {
   "cell_type": "code",
   "execution_count": null,
   "id": "2e1d7943-8559-4c4e-b2d1-39706a33e2f7",
   "metadata": {},
   "outputs": [],
   "source": [
    "pg_meta_df['mean_presence'] = pg_meta_df.apply(lambda row: mean_presence(pg_dict[row['Pan-genome']]), axis=1)"
   ]
  },
  {
   "cell_type": "code",
   "execution_count": null,
   "id": "638621a3-3e09-4bfe-8aaf-a17a0dbd108e",
   "metadata": {},
   "outputs": [],
   "source": [
    "for c in range(80,105,5):\n",
    "    pg_meta_df['core'+str(c)] = pg_meta_df.apply(lambda row: perc_core(pg_dict[row['Pan-genome']], c=c), axis=1)"
   ]
  },
  {
   "cell_type": "code",
   "execution_count": null,
   "id": "83972d58-01fe-4249-b5d0-c77b81618aa5",
   "metadata": {},
   "outputs": [],
   "source": [
    "pg_meta_df['Approach'] = pg_meta_df['Approach'].map({'DN': 'De novo', 'MTP': 'Map-to-pan'})\n",
    "pg_meta_df"
   ]
  },
  {
   "cell_type": "markdown",
   "id": "1f75f3c9-8d6c-4a4a-82e8-0aa9183557cf",
   "metadata": {},
   "source": [
    "## Analyze"
   ]
  },
  {
   "cell_type": "markdown",
   "id": "6ee58291-a6b6-4a61-95c4-475b02bb1e97",
   "metadata": {},
   "source": [
    "### Number of accessions"
   ]
  },
  {
   "cell_type": "code",
   "execution_count": null,
   "id": "ba540d6a-408b-4ab0-868b-dfbfc587844e",
   "metadata": {},
   "outputs": [],
   "source": [
    "dn_vals = pg_meta_df.query('Approach == \"De novo\"')['Accessions']\n",
    "mean_dn = dn_vals.mean()\n",
    "mtp_vals = pg_meta_df.query('Approach == \"Map-to-pan\"')['Accessions']\n",
    "mean_mtp = mtp_vals.mean()\n",
    "print(\"Mean MTP: %s\\nMean DN: %s\" %(mean_mtp, mean_dn))\n",
    "print(ttest_ind(a=mtp_vals, b=dn_vals))"
   ]
  },
  {
   "cell_type": "code",
   "execution_count": null,
   "id": "eb9370ad-eebb-4efe-8408-b47b75ffb2dc",
   "metadata": {},
   "outputs": [],
   "source": [
    "fig = px.strip(pg_meta_df, x='Approach', y=\"Accessions\",\n",
    "               hover_data=pg_meta_df.columns, color='Approach',\n",
    "              color_discrete_sequence=['lightsalmon','mediumseagreen'])\n",
    "fig.add_shape(type='line', x0=-0.07, x1=0.07, y0=mean_mtp, y1=mean_mtp, line=dict(dash='dot'))\n",
    "fig.add_shape(type='line', x0=0.97, x1=1.07, y0=mean_dn, y1=mean_dn, line=dict(dash='dot'))\n",
    "\n",
    "fig.update_xaxes(mirror=True, showline=True, linecolor='black', title='')\n",
    "fig.update_yaxes(mirror=True, showline=True, linecolor='black', showgrid=False)\n",
    "fig.update_layout(autosize=False, width=400, legend_title_text='')\n",
    "fig.show()"
   ]
  },
  {
   "cell_type": "code",
   "execution_count": null,
   "id": "fd0fb605-2ad8-4069-9034-aee94c3f0537",
   "metadata": {},
   "outputs": [],
   "source": [
    "fig4_a = os.path.join(figs_path, 'fig4a.pdf')\n",
    "fig.write_image(fig4_a)"
   ]
  },
  {
   "cell_type": "markdown",
   "id": "ee635992-83d1-44c0-885b-2bc1e61127b1",
   "metadata": {},
   "source": [
    "### Pan-genome stats"
   ]
  },
  {
   "cell_type": "code",
   "execution_count": null,
   "id": "04f5580a-7be4-4bb5-8e60-eebc8cfa1d6b",
   "metadata": {},
   "outputs": [],
   "source": [
    "fig = px.scatter(pg_meta_df, x='mean_presence', y='core95', color='Approach',\n",
    "                 trendline=\"ols\", trendline_scope=\"overall\",\n",
    "                 trendline_color_override='black',\n",
    "                color_discrete_sequence=['lightsalmon','mediumseagreen'])\n",
    "\n",
    "fig.data[2].update(line_width=1)\n",
    "fig.data[2]['showlegend'] = False\n",
    "\n",
    "fig.update_xaxes(mirror=True, showline=True, linecolor='black', showgrid=False, title='Overall occupancy (%)')\n",
    "fig.update_yaxes(mirror=True, showline=True, linecolor='black', showgrid=False, title='% core pan-genes', range=(0,100))\n",
    "fig.update_layout(legend_title_text='')\n",
    "\n",
    "fig.show()"
   ]
  },
  {
   "cell_type": "code",
   "execution_count": null,
   "id": "58878abd-187c-4e9d-b2b8-10917a073b36",
   "metadata": {},
   "outputs": [],
   "source": [
    "fig3s_a = os.path.join(figs_path, 'figS3a.pdf')\n",
    "fig.write_image(fig3s_a)"
   ]
  },
  {
   "cell_type": "code",
   "execution_count": null,
   "id": "9d1a1856-6713-402e-9323-9d2da561e0bb",
   "metadata": {},
   "outputs": [],
   "source": [
    "print(\"R^2:\")\n",
    "px.get_trendline_results(fig).px_fit_results.iloc[0].rsquared"
   ]
  },
  {
   "cell_type": "code",
   "execution_count": null,
   "id": "cc4a7df2-0fc9-4c27-8f5e-2e840e04672b",
   "metadata": {},
   "outputs": [],
   "source": [
    "dn_vals = pg_meta_df.query('Approach == \"De novo\"')['core95']\n",
    "mean_dn = dn_vals.mean()\n",
    "mtp_vals = pg_meta_df.query('Approach == \"Map-to-pan\"')['core95']\n",
    "mean_mtp = mtp_vals.mean()"
   ]
  },
  {
   "cell_type": "markdown",
   "id": "409ea3ac-725e-48e2-ab19-97ff5ef984ab",
   "metadata": {},
   "source": [
    "Core pan-genes"
   ]
  },
  {
   "cell_type": "code",
   "execution_count": null,
   "id": "3a212f8d-d136-48dc-8bed-28a43d39544e",
   "metadata": {},
   "outputs": [],
   "source": [
    "print(\"Mean MTP: %s\\nMean DN: %s\" %(mean_mtp, mean_dn))\n",
    "print(ttest_ind(a=mtp_vals, b=dn_vals))"
   ]
  },
  {
   "cell_type": "code",
   "execution_count": null,
   "id": "ba816a02-c50b-4be8-9b65-e520a0dffcfd",
   "metadata": {},
   "outputs": [],
   "source": [
    "fig = px.strip(pg_meta_df, x='Approach', y=\"core95\",\n",
    "               hover_data=pg_meta_df.columns, color='Approach',\n",
    "              color_discrete_sequence=['lightsalmon','mediumseagreen'])\n",
    "fig.add_shape(type='line', x0=-0.05, x1=0.05, y0=mean_mtp, y1=mean_mtp, line=dict(dash='dot'))\n",
    "fig.add_shape(type='line', x0=0.95, x1=1.05, y0=mean_dn, y1=mean_dn, line=dict(dash='dot'))\n",
    "\n",
    "fig.update_xaxes(mirror=True, showline=True, linecolor='black', showgrid=False, title='')\n",
    "fig.update_yaxes(mirror=True, showline=True, linecolor='black', showgrid=False, title='% core pan-genes', range=(0,100))\n",
    "fig.update_layout(legend_title_text='', autosize=False, width=400)\n",
    "\n",
    "fig.show()"
   ]
  },
  {
   "cell_type": "code",
   "execution_count": null,
   "id": "1024a819-ff6f-4211-bc57-cda57db2d8b1",
   "metadata": {},
   "outputs": [],
   "source": [
    "fig4_b = os.path.join(figs_path, 'fig4b.pdf')\n",
    "fig.write_image(fig4_b)"
   ]
  },
  {
   "cell_type": "code",
   "execution_count": null,
   "id": "77d5212f-5285-4c84-a1d7-12933ea6a252",
   "metadata": {},
   "outputs": [],
   "source": [
    "fig = px.scatter(pg_meta_df, x='Accessions',y='core95', color='Approach',\n",
    "                trendline=\"ols\", trendline_scope=\"overall\",\n",
    "                 trendline_color_override='black',\n",
    "                color_discrete_sequence=['lightsalmon','mediumseagreen'])\n",
    "\n",
    "fig.data[2].update(line_width=1)\n",
    "fig.data[2]['showlegend'] = False\n",
    "\n",
    "fig.update_xaxes(mirror=True, showline=True, linecolor='black', showgrid=False, title='Accessions', zeroline=False)\n",
    "fig.update_yaxes(mirror=True, showline=True, linecolor='black', showgrid=False, title='% core pan-genes', range=(0,100))\n",
    "fig.update_layout(legend_title_text='',)\n",
    "\n",
    "fig.show()"
   ]
  },
  {
   "cell_type": "code",
   "execution_count": null,
   "id": "e7d04e20-5d11-4090-a614-f11cd1710a27",
   "metadata": {},
   "outputs": [],
   "source": [
    "fig3s_b = os.path.join(figs_path, 'figS3b.pdf')\n",
    "fig.write_image(fig3s_b)"
   ]
  },
  {
   "cell_type": "code",
   "execution_count": null,
   "id": "8fbca9b9-9f45-418a-b22a-9fba1c2f50f8",
   "metadata": {},
   "outputs": [],
   "source": [
    "print(\"R^2:\")\n",
    "px.get_trendline_results(fig).px_fit_results.iloc[0].rsquared"
   ]
  },
  {
   "cell_type": "markdown",
   "id": "30a0f6d6-c391-4694-b33d-34f31f2e3197",
   "metadata": {},
   "source": [
    "Overall occupancy"
   ]
  },
  {
   "cell_type": "code",
   "execution_count": null,
   "id": "1d1c689f-7efe-4b10-aa14-6e0fcd9117aa",
   "metadata": {},
   "outputs": [],
   "source": [
    "dn_vals = pg_meta_df.query('Approach == \"De novo\"')['mean_presence']\n",
    "mean_dn = dn_vals.mean()\n",
    "mtp_vals = pg_meta_df.query('Approach == \"Map-to-pan\"')['mean_presence']\n",
    "mean_mtp = mtp_vals.mean()\n",
    "\n",
    "print(\"Mean MTP: %s\\nMean DN: %s\" %(mean_mtp, mean_dn))\n",
    "print(ttest_ind(a=mtp_vals, b=dn_vals))"
   ]
  },
  {
   "cell_type": "code",
   "execution_count": null,
   "id": "5f41a17c-24af-4049-ae22-93e27900d390",
   "metadata": {},
   "outputs": [],
   "source": [
    "fig = px.strip(pg_meta_df, x='Approach', y=\"mean_presence\",\n",
    "               hover_data=pg_meta_df.columns, color='Approach',\n",
    "              color_discrete_sequence=['lightsalmon','mediumseagreen'])\n",
    "fig.add_shape(type='line', x0=-0.05, x1=0.05, y0=mean_mtp, y1=mean_mtp, line=dict(dash='dot'))\n",
    "fig.add_shape(type='line', x0=0.95, x1=1.05, y0=mean_dn, y1=mean_dn, line=dict(dash='dot'))\n",
    "\n",
    "fig.update_xaxes(mirror=True, showline=True, linecolor='black', showgrid=False, title='')\n",
    "fig.update_yaxes(mirror=True, showline=True, linecolor='black', showgrid=False, title='Overall occupancy (%)', range=(0,100))\n",
    "fig.update_layout(legend_title_text='', autosize=False, width=400)\n",
    "\n",
    "fig.show()"
   ]
  },
  {
   "cell_type": "code",
   "execution_count": null,
   "id": "f623330c-a55c-4ce8-85c1-194c43a59fc9",
   "metadata": {},
   "outputs": [],
   "source": [
    "fig4_c = os.path.join(figs_path, 'fig4c.pdf')\n",
    "fig.write_image(fig4_c)"
   ]
  },
  {
   "cell_type": "code",
   "execution_count": null,
   "id": "bc098973-7586-4de1-a77f-8ff2be95771b",
   "metadata": {},
   "outputs": [],
   "source": [
    "fig = px.scatter(pg_meta_df, x='Accessions',y='mean_presence', color='Approach',\n",
    "                trendline=\"ols\", trendline_scope=\"overall\",\n",
    "                 trendline_color_override='black',\n",
    "                color_discrete_sequence=['lightsalmon','mediumseagreen'])\n",
    "\n",
    "fig.data[2].update(line_width=1)\n",
    "fig.data[2]['showlegend'] = False\n",
    "\n",
    "fig.update_xaxes(mirror=True, showline=True, linecolor='black', showgrid=False, title='Accessions', zeroline=False)\n",
    "fig.update_yaxes(mirror=True, showline=True, linecolor='black', showgrid=False, title='Overall occupancy (%)', range=(0,100))\n",
    "fig.update_layout(legend_title_text='',)\n",
    "\n",
    "fig.show()"
   ]
  },
  {
   "cell_type": "code",
   "execution_count": null,
   "id": "59212797-8eb1-4b5a-b9d6-a5cbd5d3a137",
   "metadata": {},
   "outputs": [],
   "source": [
    "fig3s_c = os.path.join(figs_path, 'figS3c.pdf')\n",
    "fig.write_image(fig3s_c)"
   ]
  },
  {
   "cell_type": "code",
   "execution_count": null,
   "id": "e3f49743-0aee-4e3d-9bc3-902bdafbcf1f",
   "metadata": {},
   "outputs": [],
   "source": [
    "print(\"R^2:\")\n",
    "px.get_trendline_results(fig).px_fit_results.iloc[0].rsquared"
   ]
  },
  {
   "cell_type": "markdown",
   "id": "b4409116-52cc-4584-a95b-981d74e5dec9",
   "metadata": {},
   "source": [
    "Nonreference genes"
   ]
  },
  {
   "cell_type": "code",
   "execution_count": null,
   "id": "bf4cf3e7-6a78-4313-b774-36b9c0b48991",
   "metadata": {},
   "outputs": [],
   "source": [
    "pg_meta_df['perc_nonref'] = pg_meta_df['Nonreference_pan_genes']/pg_meta_df['Total_pan_genes']*100"
   ]
  },
  {
   "cell_type": "code",
   "execution_count": null,
   "id": "4d55d7b1-c046-45c5-add8-413ca48a6a67",
   "metadata": {},
   "outputs": [],
   "source": [
    "dn_vals = pg_meta_df.query('Approach == \"De novo\"')['perc_nonref']\n",
    "mean_dn = dn_vals.mean()\n",
    "mtp_vals = pg_meta_df.query('Approach == \"Map-to-pan\"')['perc_nonref']\n",
    "mean_mtp = mtp_vals.mean()\n",
    "\n",
    "print(\"Mean MTP: %s\\nMean DN: %s\" %(mean_mtp, mean_dn))\n",
    "print(ttest_ind(a=mtp_vals, b=dn_vals))"
   ]
  },
  {
   "cell_type": "code",
   "execution_count": null,
   "id": "2e029baf-eaa4-47fd-9120-861bf10fcb2b",
   "metadata": {},
   "outputs": [],
   "source": [
    "fig = px.strip(pg_meta_df, x='Approach', y=\"perc_nonref\",\n",
    "               hover_data=pg_meta_df.columns, color='Approach',\n",
    "              color_discrete_sequence=['lightsalmon','mediumseagreen'])\n",
    "fig.add_shape(type='line', x0=-0.05, x1=0.05, y0=mean_mtp, y1=mean_mtp, line=dict(dash='dot'))\n",
    "fig.add_shape(type='line', x0=0.95, x1=1.05, y0=mean_dn, y1=mean_dn, line=dict(dash='dot'))\n",
    "\n",
    "fig.update_xaxes(mirror=True, showline=True, linecolor='black', showgrid=False, title='')\n",
    "fig.update_yaxes(mirror=True, showline=True, linecolor='black', showgrid=False, title='% Nonreference genes', range=(0,100))\n",
    "fig.update_layout(legend_title_text='', autosize=False, width=400)\n",
    "\n",
    "fig.show()"
   ]
  },
  {
   "cell_type": "code",
   "execution_count": null,
   "id": "0b15d8bb-d81f-455b-bf4c-d86701797c05",
   "metadata": {},
   "outputs": [],
   "source": [
    "fig4_d = os.path.join(figs_path, 'fig4d.pdf')\n",
    "fig.write_image(fig4_d)"
   ]
  },
  {
   "cell_type": "markdown",
   "id": "6c2756a6-16ca-4c94-b8ab-b760268fbbf6",
   "metadata": {},
   "source": [
    "## Pairwise comparison\n",
    "In rice and _B. napus_, we have two pan-genomes available, constructed using different approaches. Here we compare between them."
   ]
  },
  {
   "cell_type": "code",
   "execution_count": null,
   "id": "7cb4cc04-a6ba-4a55-b551-024856d36117",
   "metadata": {},
   "outputs": [],
   "source": [
    "# B. napus\n",
    "b_napus_53_in_csv = os.path.join(pg_meta_dir, \"B_napus_53/BnaPan.PAV.table.csv\")\n",
    "b_napus_53_pav_df = pd.read_csv(b_napus_53_in_csv, index_col=3)\n",
    "b_napus_53_pav_df.index.name = 'gene'\n",
    "b_napus_53_pav_df = b_napus_53_pav_df[b_napus_53_pav_df.columns[3:]]\n",
    "b_napus_53_pav_df = b_napus_53_pav_df.applymap(lambda x: 1 if x == \"PRESENT\" else 0)\n",
    "\n",
    "# Rice\n",
    "rice_453_in_tsv = os.path.join(pg_meta_dir, \"rice_453/GenePAV.txt\")\n",
    "rice_453_pav_df = pd.read_csv(rice_453_in_tsv, sep='\\t', index_col=0)\n",
    "rice_453_pav_df.index.name = 'gene'"
   ]
  },
  {
   "cell_type": "code",
   "execution_count": null,
   "id": "5d38f4da-3636-4eaf-bcc2-cc7939b7afa4",
   "metadata": {},
   "outputs": [],
   "source": [
    "def subsample_acc(pav_df, acc, n=100, ref_acc=None):\n",
    "    \"\"\"\n",
    "    Subsample acc accessions from\n",
    "    the PAV DF and calculate PG stats.\n",
    "    Repeat n times.\n",
    "    If the name of the reference accession\n",
    "    is provided, it will always be included\n",
    "    and the the % nonref will be calculated\n",
    "    \"\"\"\n",
    "    res = []\n",
    "    for i in range(n):\n",
    "        if ref_acc:\n",
    "            samp_pav_df = pav_df.sample(acc-1, axis=1)\n",
    "            samp_pav_df[ref_acc] = pav_df[ref_acc]\n",
    "        else:\n",
    "            samp_pav_df = pav_df.sample(acc, axis=1)\n",
    "        samp_pav_df = samp_pav_df.loc[samp_pav_df.sum(axis=1) > 0]\n",
    "        samp_pav_df['presence_perc'] = samp_pav_df.sum(axis=1)/samp_pav_df.shape[1]*100\n",
    "        #samp_pav_df = samp_pav_df[['presence_perc']]\n",
    "        samp_perc_core = perc_core(samp_pav_df[['presence_perc']])\n",
    "        samp_mean_presence = mean_presence(samp_pav_df[['presence_perc']])\n",
    "        if ref_acc:\n",
    "            samp_perc_nonref = samp_pav_df.loc[samp_pav_df[ref_acc] == 0].shape[0] / samp_pav_df.shape[0] * 100\n",
    "        else:\n",
    "            samp_perc_nonref = None\n",
    "        samp_res = pd.Series([samp_perc_core, samp_mean_presence, samp_perc_nonref])    \n",
    "        res.append(samp_res)\n",
    "    res = pd.concat(res, axis=1).T\n",
    "    res.columns = ['core95', 'mean_presence', 'perc_nonref']\n",
    "    return res"
   ]
  },
  {
   "cell_type": "code",
   "execution_count": null,
   "id": "ef24ad09-3cf5-4490-998f-eeac4da77dda",
   "metadata": {},
   "outputs": [],
   "source": [
    "b_napus_53_sub_stats = subsample_acc(b_napus_53_pav_df, 9, 100, ref_acc='Darmor')"
   ]
  },
  {
   "cell_type": "code",
   "execution_count": null,
   "id": "ff623546-7769-427b-9332-a1cc7682b1cb",
   "metadata": {},
   "outputs": [],
   "source": [
    "b_napus_53_sub_stats.describe()"
   ]
  },
  {
   "cell_type": "code",
   "execution_count": null,
   "id": "95f617a6-318c-4fff-8a79-ffc771b434df",
   "metadata": {},
   "outputs": [],
   "source": [
    "b_napus_9_core95 = float(pg_meta_df.query('`Pan-genome` == \"B_napus_9\"')['core95'])"
   ]
  },
  {
   "cell_type": "code",
   "execution_count": null,
   "id": "b5c649f1-2af6-43c0-9e8d-bee0cd330e23",
   "metadata": {},
   "outputs": [],
   "source": [
    "fig = px.histogram(b_napus_53_sub_stats['core95'], color_discrete_sequence=['black'])\n",
    "\n",
    "fig.add_annotation(x=b_napus_9_core95, y=0,\n",
    "            text=\"De novo\",\n",
    "            showarrow=True,\n",
    "            arrowhead=2,\n",
    "                  arrowcolor='red', arrowsize=2,\n",
    "                  ax=0, ay=-40,\n",
    "                  font={'color': 'red'})\n",
    "\n",
    "fig.update_xaxes(mirror=True, showline=True, linecolor='black', showgrid=False, title='% core genes', range=(0,100))\n",
    "fig.update_yaxes(mirror=True, showline=True, linecolor='black', showgrid=False)\n",
    "fig.update_layout(showlegend=False)\n",
    "\n",
    "fig.show()"
   ]
  },
  {
   "cell_type": "code",
   "execution_count": null,
   "id": "0073f7ba-195c-4479-9f6b-f0bd52262885",
   "metadata": {},
   "outputs": [],
   "source": [
    "fig4s_a = os.path.join(figs_path, 'figS4a.pdf')\n",
    "fig.write_image(fig4s_a)"
   ]
  },
  {
   "cell_type": "code",
   "execution_count": null,
   "id": "fa147d28-a568-478c-923e-64d206cc2673",
   "metadata": {},
   "outputs": [],
   "source": [
    "b_napus_9_mean_presence = float(pg_meta_df.query('`Pan-genome` == \"B_napus_9\"')['mean_presence'])"
   ]
  },
  {
   "cell_type": "code",
   "execution_count": null,
   "id": "015a08f1-7056-40f9-93a9-0bfa818741ac",
   "metadata": {},
   "outputs": [],
   "source": [
    "fig = px.histogram(b_napus_53_sub_stats['mean_presence'], color_discrete_sequence=['black'])\n",
    "\n",
    "fig.add_annotation(x=b_napus_9_mean_presence, y=0,\n",
    "            text=\"De novo\",\n",
    "            showarrow=True,\n",
    "            arrowhead=2,\n",
    "                  arrowcolor='red', arrowsize=2,\n",
    "                  ax=0, ay=-40,\n",
    "                  font={'color': 'red'})\n",
    "\n",
    "fig.update_xaxes(mirror=True, showline=True, linecolor='black', showgrid=False, title='Overall occupancy (%)', range=(0,100))\n",
    "fig.update_yaxes(mirror=True, showline=True, linecolor='black', showgrid=False)\n",
    "fig.update_layout(showlegend=False)\n",
    "\n",
    "fig.show()"
   ]
  },
  {
   "cell_type": "code",
   "execution_count": null,
   "id": "6eeaa3bc-7118-4a66-8300-fa439f6039ca",
   "metadata": {},
   "outputs": [],
   "source": [
    "fig4s_b = os.path.join(figs_path, 'figS4b.pdf')\n",
    "fig.write_image(fig4s_b)"
   ]
  },
  {
   "cell_type": "code",
   "execution_count": null,
   "id": "ab2a510b-103e-4e8b-b707-a098b33202db",
   "metadata": {},
   "outputs": [],
   "source": [
    "b_napus_9_perc_nonref = float(pg_meta_df.query('`Pan-genome` == \"B_napus_9\"')['perc_nonref'])"
   ]
  },
  {
   "cell_type": "code",
   "execution_count": null,
   "id": "daa30977-7dc0-4fc2-81ff-86485ca58ac5",
   "metadata": {},
   "outputs": [],
   "source": [
    "fig = px.histogram(b_napus_53_sub_stats['perc_nonref'], color_discrete_sequence=['black'])\n",
    "\n",
    "fig.add_annotation(x=b_napus_9_perc_nonref, y=0,\n",
    "            text=\"De novo\",\n",
    "            showarrow=True,\n",
    "            arrowhead=2,\n",
    "                  arrowcolor='red', arrowsize=2,\n",
    "                  ax=0, ay=-40,\n",
    "                  font={'color': 'red'})\n",
    "\n",
    "fig.update_xaxes(mirror=True, showline=True, linecolor='black', showgrid=False, title='% Nonreference pan-genes', range=(0,100))\n",
    "fig.update_yaxes(mirror=True, showline=True, linecolor='black', showgrid=False)\n",
    "fig.update_layout(showlegend=False)\n",
    "\n",
    "fig.show()"
   ]
  },
  {
   "cell_type": "code",
   "execution_count": null,
   "id": "84044c95-1b52-4fbf-9146-92b81110c3d8",
   "metadata": {},
   "outputs": [],
   "source": [
    "fig4s_c = os.path.join(figs_path, 'figS4c.pdf')\n",
    "fig.write_image(fig4s_c)"
   ]
  },
  {
   "cell_type": "code",
   "execution_count": null,
   "id": "ad03a467-ce12-42f2-994d-4dc06420b0cf",
   "metadata": {},
   "outputs": [],
   "source": [
    "# Add ref sample Nipponbare\n",
    "rice_453_pav_df['Nipponbare'] = rice_453_pav_df.index.str.startswith('Os').astype(int)"
   ]
  },
  {
   "cell_type": "code",
   "execution_count": null,
   "id": "f2a0d282-f8ab-4e41-bba3-6c6df735bb90",
   "metadata": {},
   "outputs": [],
   "source": [
    "rice_453_sub_stats = subsample_acc(rice_453_pav_df, 67, 100, 'Nipponbare')"
   ]
  },
  {
   "cell_type": "code",
   "execution_count": null,
   "id": "e977109c-d44e-4c74-a0f8-98a3cb42288a",
   "metadata": {},
   "outputs": [],
   "source": [
    "rice_453_sub_stats.describe()"
   ]
  },
  {
   "cell_type": "code",
   "execution_count": null,
   "id": "297e2c05-ad73-48e7-a0fa-5eccd45a0658",
   "metadata": {},
   "outputs": [],
   "source": [
    "rice_67_core95 = float(pg_meta_df.query('`Pan-genome` == \"rice_67\"')['core95'])"
   ]
  },
  {
   "cell_type": "code",
   "execution_count": null,
   "id": "34270fa6-1e1b-41c5-9586-d03247281dd4",
   "metadata": {},
   "outputs": [],
   "source": [
    "fig = px.histogram(rice_453_sub_stats['core95'], color_discrete_sequence=['black'])\n",
    "\n",
    "fig.add_annotation(x=rice_67_core95, y=0,\n",
    "            text=\"De novo\",\n",
    "            showarrow=True,\n",
    "            arrowhead=2,\n",
    "                  arrowcolor='red', arrowsize=2,\n",
    "                  ax=0, ay=-40,\n",
    "                  font={'color': 'red'})\n",
    "\n",
    "fig.update_xaxes(mirror=True, showline=True, linecolor='black', showgrid=False, title='% core genes', range=(0,100))\n",
    "fig.update_yaxes(mirror=True, showline=True, linecolor='black', showgrid=False)\n",
    "fig.update_layout(showlegend=False)\n",
    "\n",
    "fig.show()"
   ]
  },
  {
   "cell_type": "code",
   "execution_count": null,
   "id": "3ddde1f6-9a30-4e40-8685-34e7205e288e",
   "metadata": {},
   "outputs": [],
   "source": [
    "fig4s_d = os.path.join(figs_path, 'figS4d.pdf')\n",
    "fig.write_image(fig4s_d)"
   ]
  },
  {
   "cell_type": "code",
   "execution_count": null,
   "id": "365c38e7-5704-4ad2-84bb-4748125acc87",
   "metadata": {},
   "outputs": [],
   "source": [
    "rice_67_mean_presence = float(pg_meta_df.query('`Pan-genome` == \"rice_67\"')['mean_presence'])"
   ]
  },
  {
   "cell_type": "code",
   "execution_count": null,
   "id": "62287464-e826-4adf-ad08-95b8b616c6cf",
   "metadata": {},
   "outputs": [],
   "source": [
    "fig = px.histogram(rice_453_sub_stats['mean_presence'], color_discrete_sequence=['black'])\n",
    "\n",
    "fig.add_annotation(x=rice_67_mean_presence, y=0,\n",
    "            text=\"De novo\",\n",
    "            showarrow=True,\n",
    "            arrowhead=2,\n",
    "                  arrowcolor='red', arrowsize=2,\n",
    "                  ax=0, ay=-40,\n",
    "                  font={'color': 'red'})\n",
    "\n",
    "fig.update_xaxes(mirror=True, showline=True, linecolor='black', showgrid=False, title='Overall occupancy (%)', range=(0,100))\n",
    "fig.update_yaxes(mirror=True, showline=True, linecolor='black', showgrid=False)\n",
    "fig.update_layout(showlegend=False)\n",
    "\n",
    "fig.show()"
   ]
  },
  {
   "cell_type": "code",
   "execution_count": null,
   "id": "78dd7606-a971-4847-ad68-f1edd839fcc0",
   "metadata": {},
   "outputs": [],
   "source": [
    "fig4s_e = os.path.join(figs_path, 'figS4e.pdf')\n",
    "fig.write_image(fig4s_e)"
   ]
  },
  {
   "cell_type": "code",
   "execution_count": null,
   "id": "49f9ff5d-0c4d-4f0d-9c15-47ebf7678f5f",
   "metadata": {},
   "outputs": [],
   "source": [
    "rice_67_perc_nonref = float(pg_meta_df.query('`Pan-genome` == \"rice_67\"')['perc_nonref'])"
   ]
  },
  {
   "cell_type": "code",
   "execution_count": null,
   "id": "ef925607-e918-4479-976e-3f595cdcaed7",
   "metadata": {},
   "outputs": [],
   "source": [
    "fig = px.histogram(rice_453_sub_stats['perc_nonref'], color_discrete_sequence=['black'])\n",
    "\n",
    "fig.add_annotation(x=rice_67_perc_nonref, y=0,\n",
    "            text=\"De novo\",\n",
    "            showarrow=True,\n",
    "            arrowhead=2,\n",
    "                  arrowcolor='red', arrowsize=2,\n",
    "                  ax=0, ay=-40,\n",
    "                  font={'color': 'red'})\n",
    "\n",
    "fig.update_xaxes(mirror=True, showline=True, linecolor='black', showgrid=False, title='% Nonreference genes', range=(0,100))\n",
    "fig.update_yaxes(mirror=True, showline=True, linecolor='black', showgrid=False)\n",
    "fig.update_layout(showlegend=False)\n",
    "\n",
    "fig.show()"
   ]
  },
  {
   "cell_type": "code",
   "execution_count": null,
   "id": "361e0dd1-7d24-4097-9e3d-808a76fac731",
   "metadata": {},
   "outputs": [],
   "source": [
    "fig4s_f = os.path.join(figs_path, 'figS4f.pdf')\n",
    "fig.write_image(fig4s_f)"
   ]
  }
 ],
 "metadata": {
  "kernelspec": {
   "display_name": "Python 3",
   "language": "python",
   "name": "python3"
  },
  "language_info": {
   "codemirror_mode": {
    "name": "ipython",
    "version": 3
   },
   "file_extension": ".py",
   "mimetype": "text/x-python",
   "name": "python",
   "nbconvert_exporter": "python",
   "pygments_lexer": "ipython3",
   "version": "3.8.12"
  }
 },
 "nbformat": 4,
 "nbformat_minor": 5
}
