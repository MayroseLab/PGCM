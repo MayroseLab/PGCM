{
 "cells": [
  {
   "cell_type": "markdown",
   "id": "8f1677df-4391-4256-923e-98f7d381bbc8",
   "metadata": {},
   "source": [
    "# Map-to-pan gene PAV detection thresholds\n",
    "This notebook contains an analysis of the effect of read coverage cutoffs on gene PAV detection results within the MTP construction approach. We examine the effect on specific accessions and on the overall pan-genome composition."
   ]
  },
  {
   "cell_type": "code",
   "execution_count": null,
   "id": "83e852fb-6a95-4eab-8d37-e91008a799e0",
   "metadata": {},
   "outputs": [],
   "source": [
    "import os\n",
    "import pandas as pd\n",
    "import plotly.express as px\n",
    "import plotly.io as pio\n",
    "import plotly.graph_objects as go\n",
    "from plotly.colors import n_colors, named_colorscales, sample_colorscale\n",
    "from scipy.stats import ttest_ind"
   ]
  },
  {
   "cell_type": "code",
   "execution_count": null,
   "id": "20bf0885-4b4c-485f-9d34-284b7ed23a5c",
   "metadata": {},
   "outputs": [],
   "source": [
    "pio.templates.default = \"plotly_white\"\n",
    "colors = ['grey','purple','darkgreen','lightblue','orange']"
   ]
  },
  {
   "cell_type": "markdown",
   "id": "95fb3b77-3e5b-454f-9a20-fe8941cdf6fc",
   "metadata": {},
   "source": [
    "## Paths"
   ]
  },
  {
   "cell_type": "code",
   "execution_count": null,
   "id": "43eb0f1f-a549-440e-ae74-612b81cc7f3e",
   "metadata": {},
   "outputs": [],
   "source": [
    "base_dir = \"/groups/itay_mayrose_nosnap/liorglic/Projects/PGCM/output/A_thaliana_pan_genome\"\n",
    "mtp_pg = os.path.join(base_dir, \"map_to_pan/x50/RESULT\")"
   ]
  },
  {
   "cell_type": "code",
   "execution_count": null,
   "id": "d10b74bf-0480-4ad8-bdfb-aeaa22b345e5",
   "metadata": {},
   "outputs": [],
   "source": [
    "figs_path = \"/groups/itay_mayrose_nosnap/liorglic/Projects/PGCM/figs/FINAL\""
   ]
  },
  {
   "cell_type": "markdown",
   "id": "8f42445a-b8b9-4580-a770-31b88c5bdeab",
   "metadata": {},
   "source": [
    "## Grid search\n",
    "We examined the effect of two parameters:  \n",
    "1. Min depth - the number of mapped reads required to call a region of the gene \"covered\"\n",
    "2. Min fraction covered - the required fraction covered gene to call it present\n",
    "\n",
    "We search the grid of these two cutoffs to examine their effect on the number of present genes in one _A. thaliana_ ecotype."
   ]
  },
  {
   "cell_type": "code",
   "execution_count": null,
   "id": "67b64c2e-8421-4a5e-b6fb-d5948597910b",
   "metadata": {},
   "outputs": [],
   "source": [
    "bedCovHist = os.path.join(mtp_pg, 'per_sample/An-1/map_to_pan_ERR3624579/ERR3624579_map_to_pan.bedCovHist')\n",
    "bedCovHist_df = pd.read_csv(bedCovHist, sep='\\t',\n",
    "                            names = ['chr','start','end','gene','cov','bases','gene_len','frac'])"
   ]
  },
  {
   "cell_type": "code",
   "execution_count": null,
   "id": "e0696b98-6fb6-42e0-8830-7aa67b20846a",
   "metadata": {},
   "outputs": [],
   "source": [
    "def gene_frac_covered(bedCovHist_df, min_depth):\n",
    "    gene_df = bedCovHist_df.query(\"cov >= @min_depth\")\n",
    "    frac_covered = gene_df['frac'].sum()\n",
    "    return frac_covered"
   ]
  },
  {
   "cell_type": "code",
   "execution_count": null,
   "id": "b7c84d6f-c03d-4d86-bf3c-65fc2e369c30",
   "metadata": {},
   "outputs": [],
   "source": [
    "min_depth_cutoffs = [1, 5 ,10 ,15 ,20 ,30 ,40 ,50]"
   ]
  },
  {
   "cell_type": "code",
   "execution_count": null,
   "id": "36922fe2-871c-4356-8b05-7d53d49c543b",
   "metadata": {},
   "outputs": [],
   "source": [
    "# distribution of fractions covered across all genes using different min_depth\n",
    "frac_cov = []\n",
    "for x in min_depth_cutoffs:\n",
    "    print(x)\n",
    "    df = pd.DataFrame(bedCovHist_df.groupby('gene').apply(gene_frac_covered, x))\n",
    "    df.columns = ['frac_cov']\n",
    "    df['min_depth'] = x\n",
    "    frac_cov.append(df)"
   ]
  },
  {
   "cell_type": "code",
   "execution_count": null,
   "id": "5c4e58cb-2daf-46c6-881c-d14b522a0de7",
   "metadata": {},
   "outputs": [],
   "source": [
    "frac_cov_df = pd.concat(frac_cov)"
   ]
  },
  {
   "cell_type": "code",
   "execution_count": null,
   "id": "506fc3fd-2093-4801-a384-293821133343",
   "metadata": {},
   "outputs": [],
   "source": [
    "colors = sample_colorscale('jet',8)[::-1]\n",
    "fig = go.Figure()\n",
    "for x in reversed(min_depth_cutoffs):\n",
    "    data_line = frac_cov_df.query('min_depth == @x')['frac_cov']\n",
    "    color = colors.pop(0)\n",
    "    fig.add_trace(go.Violin(x=data_line, line_color=color, name=x))\n",
    "fig.update_traces(orientation='h', side='positive', width=2, points=False)\n",
    "fig.update_layout(xaxis_showgrid=False, xaxis_zeroline=False)\n",
    "fig.update_xaxes(mirror=True, showline=True, linecolor='black', title='Fraction covered')\n",
    "fig.update_yaxes(mirror=True, showline=True, linecolor='black', showgrid=False, title='Depth threshold')\n",
    "fig.update_layout(autosize=False, width=800, legend_title_text='Depth threshold', showlegend=False)\n",
    "fig.show()"
   ]
  },
  {
   "cell_type": "code",
   "execution_count": null,
   "id": "1007f409-7d04-4412-92b6-351ee0f9508e",
   "metadata": {},
   "outputs": [],
   "source": [
    "fig5s_a = os.path.join(figs_path, 'figS5a.pdf')\n",
    "fig.write_image(fig5s_a)"
   ]
  },
  {
   "cell_type": "code",
   "execution_count": null,
   "id": "b80790f4-c4b3-4a60-9b78-25910658e1e0",
   "metadata": {},
   "outputs": [],
   "source": [
    "fig = go.Figure()\n",
    "for d in min_depth_cutoffs:\n",
    "    min_frac = list(range(0,101,5))\n",
    "    perc_present = []\n",
    "    for m in min_frac:\n",
    "        genes_present = (frac_cov_df.query('min_depth == @d')['frac_cov'] >= m/100).sum()\n",
    "        tot_genes = frac_cov_df.query('min_depth == @d').shape[0]\n",
    "        perc_present.append(genes_present/tot_genes*100)\n",
    "    fig.add_trace(go.Scatter(x=min_frac, y=perc_present, name=d))\n",
    "fig.update_xaxes(mirror=True, showline=True, linecolor='black', title='Coverage threshold (%)')\n",
    "colors = sample_colorscale('jet',8)\n",
    "fig.update_layout(colorway=colors)\n",
    "fig.update_yaxes(mirror=True, showline=True, linecolor='black', showgrid=False, title='Genes presence(%)')\n",
    "fig.update_layout(autosize=False, width=800, legend_title_text='Depth threshold')\n",
    "fig.show()"
   ]
  },
  {
   "cell_type": "code",
   "execution_count": null,
   "id": "d3c6fb66-c957-4528-bfd4-964bb22c996f",
   "metadata": {},
   "outputs": [],
   "source": [
    "fig5s_b = os.path.join(figs_path, 'figS5b.pdf')\n",
    "fig.write_image(fig5s_b)"
   ]
  },
  {
   "cell_type": "markdown",
   "id": "323df582-7e03-4342-b6e3-af15a8e20135",
   "metadata": {},
   "source": [
    "## Pan-genome composition\n",
    "Here we test the effect of the two thresholds on the pan-genome composition using two metrics: % core genes and overall occupancy."
   ]
  },
  {
   "cell_type": "code",
   "execution_count": null,
   "id": "0c416da0-0570-4aab-82f2-8b7a6d9ce28b",
   "metadata": {},
   "outputs": [],
   "source": [
    "samples = {'An-1': 'ERR3624579',\n",
    "           'C24': 'ERR3624577',\n",
    "           'Cvi-0': 'ERR3624578',\n",
    "           'Eri': 'ERR3624573',\n",
    "           'Kyo': 'ERR3624576',\n",
    "           'Ler': 'ERR3624574',\n",
    "           'Sha': 'ERR3624575'}"
   ]
  },
  {
   "cell_type": "code",
   "execution_count": null,
   "id": "2b78d36c-99be-4b7f-a5bc-e524e33a9299",
   "metadata": {},
   "outputs": [],
   "source": [
    "samples_frac_cov = {}\n",
    "for sample in samples:\n",
    "    print(sample)\n",
    "    err = samples[sample]\n",
    "    bedCovHist = os.path.join(mtp_pg, 'per_sample/%s/map_to_pan_%s/%s_map_to_pan.bedCovHist' %(sample,err,err))\n",
    "    bedCovHist_df = pd.read_csv(bedCovHist, sep='\\t',\n",
    "                            names = ['chr','start','end','gene','cov','bases','gene_len','frac'])\n",
    "    frac_cov = []\n",
    "    for x in min_depth_cutoffs:\n",
    "        print(x)\n",
    "        df = pd.DataFrame(bedCovHist_df.groupby('gene').apply(gene_frac_covered, x))\n",
    "        df.columns = ['frac_cov']\n",
    "        df['min_depth'] = x\n",
    "        frac_cov.append(df)\n",
    "    samples_frac_cov[sample] = pd.concat(frac_cov)"
   ]
  },
  {
   "cell_type": "code",
   "execution_count": null,
   "id": "b5fce9b8-e915-4d24-96d9-714f84c51d29",
   "metadata": {},
   "outputs": [],
   "source": [
    "def pan_pav(samples_frac_cov, min_depth, min_frac):\n",
    "    pav = []\n",
    "    for s in samples_frac_cov:\n",
    "        sample_pav = pd.DataFrame((samples_frac_cov[s].query('min_depth == @min_depth')['frac_cov'] >= min_frac/100).astype(int))\n",
    "        sample_pav.columns = [s]\n",
    "        pav.append(sample_pav)\n",
    "    return pd.concat(pav, axis=1)"
   ]
  },
  {
   "cell_type": "code",
   "execution_count": null,
   "id": "05e87959-31b2-40c3-9331-5b8e5ec27d09",
   "metadata": {},
   "outputs": [],
   "source": [
    "def perc_core(pg_df, c=95):\n",
    "    \"\"\"c is the min % to count as core\"\"\"\n",
    "    return pg_df.query('presence_perc >= @c').shape[0]/pg_df.shape[0]*100\n",
    "\n",
    "def mean_presence(pg_df):\n",
    "    \"\"\"Mean % of presennce across genes\"\"\"\n",
    "    return pg_df['presence_perc'].mean()"
   ]
  },
  {
   "cell_type": "code",
   "execution_count": null,
   "id": "d4189b71-7480-447f-b610-a3b757496b14",
   "metadata": {},
   "outputs": [],
   "source": [
    "rows = []\n",
    "min_frac = list(range(0,101,5))\n",
    "for d in min_depth_cutoffs:\n",
    "    for m in min_frac:\n",
    "        pg_pav = pan_pav(samples_frac_cov, d, m)\n",
    "        pg_pav = pg_pav.dropna()\n",
    "        # add the ref sample\n",
    "        ref = pd.Series(pg_pav.index.str.startswith('transcript')).astype(int)\n",
    "        ref.index = pg_pav.index\n",
    "        pg_pav['Col-0'] = ref\n",
    "        # add % presence\n",
    "        pg_pav['presence_perc'] = pg_pav.sum(axis=1)/pg_pav.shape[1]*100\n",
    "        core = perc_core(pg_pav, c=100)\n",
    "        occup = mean_presence(pg_pav)\n",
    "        rows.append(pd.Series([d,m,core,occup]))"
   ]
  },
  {
   "cell_type": "code",
   "execution_count": null,
   "id": "47ef6e79-e765-414b-bc3f-bc9bcd8c2506",
   "metadata": {},
   "outputs": [],
   "source": [
    "pg_stats = pd.concat(rows, axis=1).transpose()\n",
    "pg_stats.columns = ['min_depth', 'min_frac', 'perc_core', 'occup']"
   ]
  },
  {
   "cell_type": "code",
   "execution_count": null,
   "id": "d1ac59cb-2aeb-47f4-8636-fe0bfc868e69",
   "metadata": {},
   "outputs": [],
   "source": [
    "pg_stats['min_depth'] = pg_stats['min_depth'].astype(int)"
   ]
  },
  {
   "cell_type": "code",
   "execution_count": null,
   "id": "0a5fdf08-8e76-471f-83ee-71476d6bb032",
   "metadata": {},
   "outputs": [],
   "source": [
    "pg_stats"
   ]
  },
  {
   "cell_type": "code",
   "execution_count": null,
   "id": "a4fe23be-3ede-4dd0-9650-516ed140bd8e",
   "metadata": {},
   "outputs": [],
   "source": [
    "fig = px.line(pg_stats, x='min_frac', y='perc_core', color='min_depth', color_discrete_sequence=colors)\n",
    "fig.update_xaxes(mirror=True, showline=True, linecolor='black', title='Coverage threshold (%)')\n",
    "fig.update_yaxes(mirror=True, showline=True, linecolor='black', showgrid=False, title='Core pan-genes (%)')\n",
    "fig.update_layout(autosize=False, width=800, legend_title_text='Depth threshold')\n",
    "fig.show()"
   ]
  },
  {
   "cell_type": "code",
   "execution_count": null,
   "id": "8764b22f-5ae5-4837-ab9c-6429e3455bc1",
   "metadata": {},
   "outputs": [],
   "source": [
    "fig5s_c = os.path.join(figs_path, 'figS5c.pdf')\n",
    "fig.write_image(fig5s_c)"
   ]
  },
  {
   "cell_type": "code",
   "execution_count": null,
   "id": "d2dc29c9-5da9-424b-bbcf-41a22714ba9e",
   "metadata": {},
   "outputs": [],
   "source": [
    "fig = px.line(pg_stats, x='min_frac', y='occup', color='min_depth', color_discrete_sequence=colors)\n",
    "fig.update_xaxes(mirror=True, showline=True, linecolor='black', title='Coverage threshold (%)')\n",
    "fig.update_yaxes(mirror=True, showline=True, linecolor='black', showgrid=False, title='Overall gene occupancy (%)')\n",
    "fig.update_layout(autosize=False, width=800, legend_title_text='Depth threshold')\n",
    "fig.show()"
   ]
  },
  {
   "cell_type": "code",
   "execution_count": null,
   "id": "a19549a9-fa18-4ec1-add0-a4fd330b523f",
   "metadata": {},
   "outputs": [],
   "source": [
    "fig5s_d = os.path.join(figs_path, 'figS5d.pdf')\n",
    "fig.write_image(fig5s_d)"
   ]
  },
  {
   "cell_type": "markdown",
   "id": "3a068a8b-fd57-4b0b-8e79-8e26fa9ed2fb",
   "metadata": {},
   "source": [
    "## Effect of sequencing depth\n",
    "Here we examine the effect of the sequencing depth. Instead of setting absolute depth cutoff, we set them as a percent of the raw sequencing depth.  \n",
    "The analysis is performed by focusing on one ecotype and examining it across pan-genomes constructed with 10x, 20x, 30x, and 50x data."
   ]
  },
  {
   "cell_type": "code",
   "execution_count": null,
   "id": "11b4f723-c75c-4769-bee6-a9d98434395c",
   "metadata": {},
   "outputs": [],
   "source": [
    "bch_dict = {\n",
    "    10: os.path.join(base_dir, \"map_to_pan/x10/RESULT/per_sample/An-1/map_to_pan_ERR3624579/ERR3624579_map_to_pan.bedCovHist\"),\n",
    "    20: os.path.join(base_dir, \"map_to_pan/x20/RESULT/per_sample/An-1/map_to_pan_ERR3624579/ERR3624579_map_to_pan.bedCovHist\"),\n",
    "    30: os.path.join(base_dir, \"map_to_pan/x30/RESULT/per_sample/An-1/map_to_pan_ERR3624579/ERR3624579_map_to_pan.bedCovHist\"),\n",
    "    50: os.path.join(base_dir, \"map_to_pan/x50/RESULT/per_sample/An-1/map_to_pan_ERR3624579/ERR3624579_map_to_pan.bedCovHist\")\n",
    "}"
   ]
  },
  {
   "cell_type": "code",
   "execution_count": null,
   "id": "da32d650-afac-40f2-b378-759eecfc5e22",
   "metadata": {},
   "outputs": [],
   "source": [
    "bch_df_dict = {x: pd.read_csv(bch_dict[x], sep='\\t',\n",
    "                            names = ['chr','start','end','gene','cov','bases','gene_len','frac']) for x in bch_dict}"
   ]
  },
  {
   "cell_type": "code",
   "execution_count": null,
   "id": "a351507e-273c-4093-9d1a-301be4a1fec3",
   "metadata": {},
   "outputs": [],
   "source": [
    "dp_l = [0.1, 0.3, 0.5, 0.7, 0.9]\n",
    "m = 0.5\n",
    "res = []\n",
    "for x in bch_df_dict:\n",
    "    for dp in dp_l:\n",
    "        df = pd.DataFrame(bch_df_dict[x].groupby('gene').apply(gene_frac_covered, dp*x))\n",
    "        df.columns = ['frac_cov']\n",
    "        df.query('frac_cov >= @m')\n",
    "        genes_present = df.query('frac_cov >= 0.5').shape[0]\n",
    "        res.append(pd.Series([x,dp,genes_present]))"
   ]
  },
  {
   "cell_type": "code",
   "execution_count": null,
   "id": "beabd484-ce55-4346-8643-2b9cd74bb6b5",
   "metadata": {},
   "outputs": [],
   "source": [
    "res = pd.concat(res, axis=1).transpose()\n",
    "res.columns = ['depth','dp','n_genes']"
   ]
  },
  {
   "cell_type": "code",
   "execution_count": null,
   "id": "412b2c7d-fa34-4ebd-8ac7-072fede4b08a",
   "metadata": {},
   "outputs": [],
   "source": [
    "res['perc_present'] = res['n_genes']/27960*100"
   ]
  },
  {
   "cell_type": "code",
   "execution_count": null,
   "id": "ca9caab7-07a0-4d9c-939b-f06242ae2016",
   "metadata": {},
   "outputs": [],
   "source": [
    "colors = sample_colorscale('jet',5)\n",
    "fig = px.line(res, x='depth', y='perc_present', color='dp', color_discrete_sequence=colors)\n",
    "fig.update_xaxes(mirror=True, showline=True, linecolor='black', title='Mean sequencing depth')\n",
    "fig.update_yaxes(mirror=True, showline=True, linecolor='black', showgrid=False, title='Genes presence(%)')\n",
    "fig.update_layout(autosize=False, width=800, legend_title_text='Depth fraction threshold')\n",
    "\n",
    "fig.show()"
   ]
  },
  {
   "cell_type": "code",
   "execution_count": null,
   "id": "730e1a2e-b6cc-4ef8-8909-cff8b715f1f5",
   "metadata": {},
   "outputs": [],
   "source": [
    "fig5s_e = os.path.join(figs_path, 'figS5e.pdf')\n",
    "fig.write_image(fig5s_e)"
   ]
  }
 ],
 "metadata": {
  "kernelspec": {
   "display_name": "Python 3",
   "language": "python",
   "name": "python3"
  },
  "language_info": {
   "codemirror_mode": {
    "name": "ipython",
    "version": 3
   },
   "file_extension": ".py",
   "mimetype": "text/x-python",
   "name": "python",
   "nbconvert_exporter": "python",
   "pygments_lexer": "ipython3",
   "version": "3.8.12"
  }
 },
 "nbformat": 4,
 "nbformat_minor": 5
}
